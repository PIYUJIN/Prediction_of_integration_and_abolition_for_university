{
 "cells": [
  {
   "cell_type": "code",
   "execution_count": 1,
   "metadata": {
    "id": "Bzma_r-1HZDD"
   },
   "outputs": [],
   "source": [
    "import os\n",
    "import numpy as np\n",
    "import pandas as pd\n",
    "import matplotlib.pyplot as plt\n",
    "import csv"
   ]
  },
  {
   "cell_type": "code",
   "execution_count": 2,
   "metadata": {
    "id": "RM2LEknYIBom"
   },
   "outputs": [],
   "source": [
    "main = pd.read_excel( 'C:/Users/LBC/Desktop/강의자료 22 2학기/Business Analytics/팀플/merged_data.xlsx', engine='openpyxl')"
   ]
  },
  {
   "cell_type": "code",
   "execution_count": 4,
   "metadata": {
    "colab": {
     "base_uri": "https://localhost:8080/"
    },
    "id": "3FMkzhstIcE9",
    "outputId": "d332efb6-9c92-469b-a801-cf80d40f03d4"
   },
   "outputs": [
    {
     "data": {
      "text/plain": [
       "Index(['연도', '시도', '대계열', '모집인원_학부_계', '지원자_전체_계', '입학자_전체_계',\n",
       "       'Gov_Spnsorship', '학교_학과명', 'competition_rate', 'Total_fertility_rate',\n",
       "       'Net_Mover', 'immigration'],\n",
       "      dtype='object')"
      ]
     },
     "execution_count": 4,
     "metadata": {},
     "output_type": "execute_result"
    }
   ],
   "source": [
    "main.columns"
   ]
  },
  {
   "cell_type": "code",
   "execution_count": 5,
   "metadata": {
    "id": "A2wcdkjAIUAV"
   },
   "outputs": [],
   "source": [
    "Region_competition = main['competition_rate'].groupby(main['시도']).mean()\n",
    "Time_competiton = main['competition_rate'].groupby(main['연도']).mean()"
   ]
  },
  {
   "cell_type": "code",
   "execution_count": 6,
   "metadata": {
    "colab": {
     "base_uri": "https://localhost:8080/"
    },
    "id": "GMKxfQIIhKpD",
    "outputId": "a9e7b5f4-9077-4227-dcb1-6cae4609dff5"
   },
   "outputs": [
    {
     "data": {
      "text/plain": [
       "시도\n",
       "강원     5.466731\n",
       "경기    10.042058\n",
       "경남     5.529807\n",
       "경북     5.174638\n",
       "광주     5.317802\n",
       "대구     8.353518\n",
       "대전     6.307766\n",
       "부산     6.737412\n",
       "서울    12.610095\n",
       "세종     7.525693\n",
       "울산     5.295968\n",
       "인천    10.682343\n",
       "전남     4.753629\n",
       "전북     5.398035\n",
       "제주     4.053747\n",
       "충남     7.486331\n",
       "충북     6.911829\n",
       "Name: competition_rate, dtype: float64"
      ]
     },
     "execution_count": 6,
     "metadata": {},
     "output_type": "execute_result"
    }
   ],
   "source": [
    "Region_competition"
   ]
  },
  {
   "cell_type": "code",
   "execution_count": 7,
   "metadata": {
    "colab": {
     "base_uri": "https://localhost:8080/"
    },
    "id": "42TuEEmmh0jM",
    "outputId": "2cb0fe2c-02f3-4ff7-b662-395ec00cfce6"
   },
   "outputs": [
    {
     "data": {
      "text/plain": [
       "연도\n",
       "2015    7.867901\n",
       "2016    8.047112\n",
       "2017    8.173114\n",
       "2018    8.398818\n",
       "2019    8.462954\n",
       "2020    7.932018\n",
       "2021    7.097719\n",
       "Name: competition_rate, dtype: float64"
      ]
     },
     "execution_count": 7,
     "metadata": {},
     "output_type": "execute_result"
    }
   ],
   "source": [
    "Time_competiton"
   ]
  },
  {
   "cell_type": "code",
   "execution_count": 8,
   "metadata": {
    "id": "Px3vN9pEgm0b"
   },
   "outputs": [],
   "source": [
    "Region_label = ['강원', '경기', '경남', '경북', '광주', '대구', '대전', '부산', '서울','세종','울산','인천','전남','전북','제주','충남','충북']\n",
    "Region_index = np.arange(len(Region_label))\n",
    "\n",
    "Time_label = [2015,2016,2017,2018,2019,2020,2021]\n",
    "Time_index = np.arange(len(Time_label))"
   ]
  },
  {
   "cell_type": "code",
   "execution_count": 15,
   "metadata": {
    "colab": {
     "base_uri": "https://localhost:8080/",
     "height": 331
    },
    "id": "F0DYIQMLiE-9",
    "outputId": "abbd3f7c-01d9-450d-c2ce-80c086dae4a2"
   },
   "outputs": [
    {
     "data": {
      "image/png": "[encoded data removed]",
      "text/plain": [
       "<Figure size 432x288 with 1 Axes>"
      ]
     },
     "metadata": {
      "needs_background": "light"
     },
     "output_type": "display_data"
    },
    {
     "data": {
      "text/plain": [
       "<Figure size 504x1224 with 0 Axes>"
      ]
     },
     "metadata": {},
     "output_type": "display_data"
    }
   ],
   "source": [
    "plt.rcParams['font.family'] ='Malgun Gothic'\n",
    "plt.rcParams['axes.unicode_minus'] =False\n",
    "\n",
    "plt.bar(Region_index, Region_competition)\n",
    "\n",
    "plt.title('Mean of competition_rate  by region', fontsize=20)\n",
    "plt.xlabel('Region', fontsize=18)\n",
    "plt.ylabel('Mean of competition_rate', fontsize=18)\n",
    "plt.xticks(Region_index, Region_label, fontsize=7)\n",
    "\n",
    "plt.figure(figsize=(7,17))\n",
    "\n",
    "plt.show()"
   ]
  },
  {
   "cell_type": "code",
   "execution_count": 10,
   "metadata": {
    "colab": {
     "base_uri": "https://localhost:8080/",
     "height": 313
    },
    "id": "Zk2AUA3IiH4x",
    "outputId": "5e233e28-13d7-403b-eebf-74b8feff00de"
   },
   "outputs": [
    {
     "data": {
      "image/png": "[encoded data removed]",
      "text/plain": [
       "<Figure size 432x288 with 1 Axes>"
      ]
     },
     "metadata": {
      "needs_background": "light"
     },
     "output_type": "display_data"
    }
   ],
   "source": [
    "plt.bar(Time_index, Time_competiton)\n",
    "\n",
    "plt.title('Mean of competition_rate  by Time', fontsize=20)\n",
    "plt.xlabel('Time', fontsize=18)\n",
    "plt.ylabel('Mean of competition_rate', fontsize=18)\n",
    "plt.xticks(Time_index, Time_label, fontsize=15)\n",
    "\n",
    "plt.show()"
   ]
  },
  {
   "cell_type": "code",
   "execution_count": null,
   "metadata": {
    "id": "2tjQGXMbmvdZ"
   },
   "outputs": [],
   "source": []
  }
 ],
 "metadata": {
  "colab": {
   "provenance": []
  },
  "kernelspec": {
   "display_name": "Python 3 (ipykernel)",
   "language": "python",
   "name": "python3"
  },
  "language_info": {
   "codemirror_mode": {
    "name": "ipython",
    "version": 3
   },
   "file_extension": ".py",
   "mimetype": "text/x-python",
   "name": "python",
   "nbconvert_exporter": "python",
   "pygments_lexer": "ipython3",
   "version": "3.9.12"
  }
 },
 "nbformat": 4,
 "nbformat_minor": 1
}
