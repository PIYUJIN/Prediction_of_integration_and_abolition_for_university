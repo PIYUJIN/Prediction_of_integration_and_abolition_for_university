{
  "nbformat": 4,
  "nbformat_minor": 0,
  "metadata": {
    "colab": {
      "provenance": [],
      "authorship_tag": "ABX9TyN24JJjfv1V2pQMPDzajC+D",
      "include_colab_link": true
    },
    "kernelspec": {
      "name": "python3",
      "display_name": "Python 3"
    },
    "language_info": {
      "name": "python"
    },
    "accelerator": "GPU",
    "gpuClass": "standard"
  },
  "cells": [
    {
      "cell_type": "markdown",
      "metadata": {
        "id": "view-in-github",
        "colab_type": "text"
      },
      "source": [
        "<a href=\"https://colab.research.google.com/github/jeewonkimm2/Business_Analytics/blob/main/Final/main_training.ipynb\" target=\"_parent\"><img src=\"https://colab.research.google.com/assets/colab-badge.svg\" alt=\"Open In Colab\"/></a>"
      ]
    },
    {
      "cell_type": "code",
      "execution_count": 21,
      "metadata": {
        "colab": {
          "base_uri": "https://localhost:8080/"
        },
        "id": "qYCGf2hGNF9l",
        "outputId": "0677f5e7-ff8e-4d7b-b482-d53e8d9bd983"
      },
      "outputs": [
        {
          "output_type": "stream",
          "name": "stdout",
          "text": [
            "Drive already mounted at ./mount; to attempt to forcibly remount, call drive.mount(\"./mount\", force_remount=True).\n"
          ]
        }
      ],
      "source": [
        "# mount Drive to access data files\n",
        "\n",
        "from google.colab import drive\n",
        "drive.mount('./mount')"
      ]
    },
    {
      "cell_type": "code",
      "source": [
        "import pandas as pd\n",
        "\n",
        "# Importing dataset\n",
        "df = pd.read_excel('/content/mount/MyDrive/Colab Notebooks/2022/SeoulTech/Business Analytics/팀플/ba_maindata.csv')\n",
        "# Checking dataset\n",
        "df.head()"
      ],
      "metadata": {
        "id": "qwID5dK0PSrR",
        "colab": {
          "base_uri": "https://localhost:8080/",
          "height": 206
        },
        "outputId": "1bb182d6-4a3a-4652-cb69-77b74575940f"
      },
      "execution_count": 2,
      "outputs": [
        {
          "output_type": "execute_result",
          "data": {
            "text/plain": [
              "     연도  시도   대계열    중계열  모집인원_학부_계  지원자_전체_계  Gov_Spnsorship  awareness  \\\n",
              "0  2015  강원  인문계열  언어ㆍ문학         38       238               1          7   \n",
              "1  2015  강원  인문계열  언어ㆍ문학         27       154               1          7   \n",
              "2  2015  강원  인문계열  언어ㆍ문학         38       193               1          7   \n",
              "3  2015  강원  인문계열  언어ㆍ문학         23       118               1          7   \n",
              "4  2015  강원  인문계열   인문과학         27       174               1          2   \n",
              "\n",
              "           학교_학과명  competition_rate  Total_fertility_rate  Net_Mover  \\\n",
              "0  강릉원주대학교_국어국문학과          6.263158                 1.311       4773   \n",
              "1  강릉원주대학교_중어중문학과          5.703704                 1.311       4773   \n",
              "2  강릉원주대학교_영어영문학과          5.078947                 1.311       4773   \n",
              "3  강릉원주대학교_독어독문학과          5.130435                 1.311       4773   \n",
              "4     강릉원주대학교_사학과          6.444444                 1.311       4773   \n",
              "\n",
              "   immigration  schoolage  \n",
              "0         1200       2755  \n",
              "1         1200       2755  \n",
              "2         1200       2755  \n",
              "3         1200       2755  \n",
              "4         1200       2755  "
            ],
            "text/html": [
              "\n",
              "  <div id=\"df-02156b74-a696-40ca-a449-bd350e55d7dc\">\n",
              "    <div class=\"colab-df-container\">\n",
              "      <div>\n",
              "<style scoped>\n",
              "    .dataframe tbody tr th:only-of-type {\n",
              "        vertical-align: middle;\n",
              "    }\n",
              "\n",
              "    .dataframe tbody tr th {\n",
              "        vertical-align: top;\n",
              "    }\n",
              "\n",
              "    .dataframe thead th {\n",
              "        text-align: right;\n",
              "    }\n",
              "</style>\n",
              "<table border=\"1\" class=\"dataframe\">\n",
              "  <thead>\n",
              "    <tr style=\"text-align: right;\">\n",
              "      <th></th>\n",
              "      <th>연도</th>\n",
              "      <th>시도</th>\n",
              "      <th>대계열</th>\n",
              "      <th>중계열</th>\n",
              "      <th>모집인원_학부_계</th>\n",
              "      <th>지원자_전체_계</th>\n",
              "      <th>Gov_Spnsorship</th>\n",
              "      <th>awareness</th>\n",
              "      <th>학교_학과명</th>\n",
              "      <th>competition_rate</th>\n",
              "      <th>Total_fertility_rate</th>\n",
              "      <th>Net_Mover</th>\n",
              "      <th>immigration</th>\n",
              "      <th>schoolage</th>\n",
              "    </tr>\n",
              "  </thead>\n",
              "  <tbody>\n",
              "    <tr>\n",
              "      <th>0</th>\n",
              "      <td>2015</td>\n",
              "      <td>강원</td>\n",
              "      <td>인문계열</td>\n",
              "      <td>언어ㆍ문학</td>\n",
              "      <td>38</td>\n",
              "      <td>238</td>\n",
              "      <td>1</td>\n",
              "      <td>7</td>\n",
              "      <td>강릉원주대학교_국어국문학과</td>\n",
              "      <td>6.263158</td>\n",
              "      <td>1.311</td>\n",
              "      <td>4773</td>\n",
              "      <td>1200</td>\n",
              "      <td>2755</td>\n",
              "    </tr>\n",
              "    <tr>\n",
              "      <th>1</th>\n",
              "      <td>2015</td>\n",
              "      <td>강원</td>\n",
              "      <td>인문계열</td>\n",
              "      <td>언어ㆍ문학</td>\n",
              "      <td>27</td>\n",
              "      <td>154</td>\n",
              "      <td>1</td>\n",
              "      <td>7</td>\n",
              "      <td>강릉원주대학교_중어중문학과</td>\n",
              "      <td>5.703704</td>\n",
              "      <td>1.311</td>\n",
              "      <td>4773</td>\n",
              "      <td>1200</td>\n",
              "      <td>2755</td>\n",
              "    </tr>\n",
              "    <tr>\n",
              "      <th>2</th>\n",
              "      <td>2015</td>\n",
              "      <td>강원</td>\n",
              "      <td>인문계열</td>\n",
              "      <td>언어ㆍ문학</td>\n",
              "      <td>38</td>\n",
              "      <td>193</td>\n",
              "      <td>1</td>\n",
              "      <td>7</td>\n",
              "      <td>강릉원주대학교_영어영문학과</td>\n",
              "      <td>5.078947</td>\n",
              "      <td>1.311</td>\n",
              "      <td>4773</td>\n",
              "      <td>1200</td>\n",
              "      <td>2755</td>\n",
              "    </tr>\n",
              "    <tr>\n",
              "      <th>3</th>\n",
              "      <td>2015</td>\n",
              "      <td>강원</td>\n",
              "      <td>인문계열</td>\n",
              "      <td>언어ㆍ문학</td>\n",
              "      <td>23</td>\n",
              "      <td>118</td>\n",
              "      <td>1</td>\n",
              "      <td>7</td>\n",
              "      <td>강릉원주대학교_독어독문학과</td>\n",
              "      <td>5.130435</td>\n",
              "      <td>1.311</td>\n",
              "      <td>4773</td>\n",
              "      <td>1200</td>\n",
              "      <td>2755</td>\n",
              "    </tr>\n",
              "    <tr>\n",
              "      <th>4</th>\n",
              "      <td>2015</td>\n",
              "      <td>강원</td>\n",
              "      <td>인문계열</td>\n",
              "      <td>인문과학</td>\n",
              "      <td>27</td>\n",
              "      <td>174</td>\n",
              "      <td>1</td>\n",
              "      <td>2</td>\n",
              "      <td>강릉원주대학교_사학과</td>\n",
              "      <td>6.444444</td>\n",
              "      <td>1.311</td>\n",
              "      <td>4773</td>\n",
              "      <td>1200</td>\n",
              "      <td>2755</td>\n",
              "    </tr>\n",
              "  </tbody>\n",
              "</table>\n",
              "</div>\n",
              "      <button class=\"colab-df-convert\" onclick=\"convertToInteractive('df-02156b74-a696-40ca-a449-bd350e55d7dc')\"\n",
              "              title=\"Convert this dataframe to an interactive table.\"\n",
              "              style=\"display:none;\">\n",
              "        \n",
              "  <svg xmlns=\"http://www.w3.org/2000/svg\" height=\"24px\"viewBox=\"0 0 24 24\"\n",
              "       width=\"24px\">\n",
              "    <path d=\"M0 0h24v24H0V0z\" fill=\"none\"/>\n",
              "    <path d=\"M18.56 5.44l.94 2.06.94-2.06 2.06-.94-2.06-.94-.94-2.06-.94 2.06-2.06.94zm-11 1L8.5 8.5l.94-2.06 2.06-.94-2.06-.94L8.5 2.5l-.94 2.06-2.06.94zm10 10l.94 2.06.94-2.06 2.06-.94-2.06-.94-.94-2.06-.94 2.06-2.06.94z\"/><path d=\"M17.41 7.96l-1.37-1.37c-.4-.4-.92-.59-1.43-.59-.52 0-1.04.2-1.43.59L10.3 9.45l-7.72 7.72c-.78.78-.78 2.05 0 2.83L4 21.41c.39.39.9.59 1.41.59.51 0 1.02-.2 1.41-.59l7.78-7.78 2.81-2.81c.8-.78.8-2.07 0-2.86zM5.41 20L4 18.59l7.72-7.72 1.47 1.35L5.41 20z\"/>\n",
              "  </svg>\n",
              "      </button>\n",
              "      \n",
              "  <style>\n",
              "    .colab-df-container {\n",
              "      display:flex;\n",
              "      flex-wrap:wrap;\n",
              "      gap: 12px;\n",
              "    }\n",
              "\n",
              "    .colab-df-convert {\n",
              "      background-color: #E8F0FE;\n",
              "      border: none;\n",
              "      border-radius: 50%;\n",
              "      cursor: pointer;\n",
              "      display: none;\n",
              "      fill: #1967D2;\n",
              "      height: 32px;\n",
              "      padding: 0 0 0 0;\n",
              "      width: 32px;\n",
              "    }\n",
              "\n",
              "    .colab-df-convert:hover {\n",
              "      background-color: #E2EBFA;\n",
              "      box-shadow: 0px 1px 2px rgba(60, 64, 67, 0.3), 0px 1px 3px 1px rgba(60, 64, 67, 0.15);\n",
              "      fill: #174EA6;\n",
              "    }\n",
              "\n",
              "    [theme=dark] .colab-df-convert {\n",
              "      background-color: #3B4455;\n",
              "      fill: #D2E3FC;\n",
              "    }\n",
              "\n",
              "    [theme=dark] .colab-df-convert:hover {\n",
              "      background-color: #434B5C;\n",
              "      box-shadow: 0px 1px 3px 1px rgba(0, 0, 0, 0.15);\n",
              "      filter: drop-shadow(0px 1px 2px rgba(0, 0, 0, 0.3));\n",
              "      fill: #FFFFFF;\n",
              "    }\n",
              "  </style>\n",
              "\n",
              "      <script>\n",
              "        const buttonEl =\n",
              "          document.querySelector('#df-02156b74-a696-40ca-a449-bd350e55d7dc button.colab-df-convert');\n",
              "        buttonEl.style.display =\n",
              "          google.colab.kernel.accessAllowed ? 'block' : 'none';\n",
              "\n",
              "        async function convertToInteractive(key) {\n",
              "          const element = document.querySelector('#df-02156b74-a696-40ca-a449-bd350e55d7dc');\n",
              "          const dataTable =\n",
              "            await google.colab.kernel.invokeFunction('convertToInteractive',\n",
              "                                                     [key], {});\n",
              "          if (!dataTable) return;\n",
              "\n",
              "          const docLinkHtml = 'Like what you see? Visit the ' +\n",
              "            '<a target=\"_blank\" href=https://colab.research.google.com/notebooks/data_table.ipynb>data table notebook</a>'\n",
              "            + ' to learn more about interactive tables.';\n",
              "          element.innerHTML = '';\n",
              "          dataTable['output_type'] = 'display_data';\n",
              "          await google.colab.output.renderOutput(dataTable, element);\n",
              "          const docLink = document.createElement('div');\n",
              "          docLink.innerHTML = docLinkHtml;\n",
              "          element.appendChild(docLink);\n",
              "        }\n",
              "      </script>\n",
              "    </div>\n",
              "  </div>\n",
              "  "
            ]
          },
          "metadata": {},
          "execution_count": 2
        }
      ]
    },
    {
      "cell_type": "code",
      "source": [
        "# Checking categorical data's unique value\n",
        "\n",
        "print(df['연도'].unique())\n",
        "print(df['시도'].unique())\n",
        "print(df['대계열'].unique())\n",
        "print(df['중계열'].unique())\n",
        "print(df['Gov_Spnsorship'].unique())\n",
        "print(df['awareness'].unique())"
      ],
      "metadata": {
        "colab": {
          "base_uri": "https://localhost:8080/"
        },
        "id": "NxdEQoOiQfqL",
        "outputId": "562f609f-87f5-428e-b8ba-78d16d9ee55c"
      },
      "execution_count": 3,
      "outputs": [
        {
          "output_type": "stream",
          "name": "stdout",
          "text": [
            "[2015 2016 2017 2018 2019 2020 2021]\n",
            "['강원' '대구' '충남' '전북' '경북' '전남' '부산' '서울' '광주' '제주' '경남' '대전' '충북' '경기'\n",
            " '인천' '세종' '울산']\n",
            "['인문계열' '사회계열' '공학계열' '자연계열' '의약계열' '예체능계열' '교육계열']\n",
            "['언어ㆍ문학' '인문과학' '경영ㆍ경제' '법률' '사회과학' '토목ㆍ도시' '전기ㆍ전자' '소재ㆍ재료' '생물ㆍ화학ㆍ환경'\n",
            " '생활과학' '수학ㆍ물리ㆍ천문ㆍ지리' '의료' '디자인' '무용ㆍ체육' '음악' '유아교육' '컴퓨터ㆍ통신' '산업' '간호'\n",
            " '교육일반' '중등교육' '응용예술' '미술ㆍ조형' '정밀ㆍ에너지' '기타' '치료ㆍ보건' '연극ㆍ영화' '건축' '기계ㆍ금속'\n",
            " '화공' '농림ㆍ수산' '특수교육' '교통ㆍ운송' '초등교육' '약학']\n",
            "[1 0]\n",
            "[ 7  2 10  0  9  4  6  3  1  5  8]\n"
          ]
        }
      ]
    },
    {
      "cell_type": "code",
      "source": [
        "X = df[['연도','시도','대계열','중계열','모집인원_학부_계','Gov_Spnsorship','awareness','Total_fertility_rate','Net_Mover','immigration','schoolage']]\n",
        "X"
      ],
      "metadata": {
        "colab": {
          "base_uri": "https://localhost:8080/",
          "height": 424
        },
        "id": "lmQSFwocS73o",
        "outputId": "81897cb1-62ff-43dc-e765-f72789e4c279"
      },
      "execution_count": 4,
      "outputs": [
        {
          "output_type": "execute_result",
          "data": {
            "text/plain": [
              "         연도  시도    대계열    중계열  모집인원_학부_계  Gov_Spnsorship  awareness  \\\n",
              "0      2015  강원   인문계열  언어ㆍ문학         38               1          7   \n",
              "1      2015  강원   인문계열  언어ㆍ문학         27               1          7   \n",
              "2      2015  강원   인문계열  언어ㆍ문학         38               1          7   \n",
              "3      2015  강원   인문계열  언어ㆍ문학         23               1          7   \n",
              "4      2015  강원   인문계열   인문과학         27               1          2   \n",
              "...     ...  ..    ...    ...        ...             ...        ...   \n",
              "26014  2021  대구   자연계열   생활과학        220               0          0   \n",
              "26015  2021  충남   인문계열   인문과학         16               0          0   \n",
              "26016  2021  충남   공학계열     건축         21               0          7   \n",
              "26017  2021  충남   공학계열     건축         16               0          7   \n",
              "26018  2021  충남  예체능계열   응용예술         41               0          9   \n",
              "\n",
              "       Total_fertility_rate  Net_Mover  immigration  schoolage  \n",
              "0                     1.311       4773         1200       2755  \n",
              "1                     1.311       4773         1200       2755  \n",
              "2                     1.311       4773         1200       2755  \n",
              "3                     1.311       4773         1200       2755  \n",
              "4                     1.311       4773         1200       2755  \n",
              "...                     ...        ...          ...        ...  \n",
              "26014                 0.785     -24319         1098       2258  \n",
              "26015                 0.963       8522          972       2258  \n",
              "26016                 0.963       8522          972       2258  \n",
              "26017                 0.963       8522          972       2258  \n",
              "26018                 0.963       8522          972       2258  \n",
              "\n",
              "[26019 rows x 11 columns]"
            ],
            "text/html": [
              "\n",
              "  <div id=\"df-d08d073e-825d-4912-8619-8477f4aa3fcf\">\n",
              "    <div class=\"colab-df-container\">\n",
              "      <div>\n",
              "<style scoped>\n",
              "    .dataframe tbody tr th:only-of-type {\n",
              "        vertical-align: middle;\n",
              "    }\n",
              "\n",
              "    .dataframe tbody tr th {\n",
              "        vertical-align: top;\n",
              "    }\n",
              "\n",
              "    .dataframe thead th {\n",
              "        text-align: right;\n",
              "    }\n",
              "</style>\n",
              "<table border=\"1\" class=\"dataframe\">\n",
              "  <thead>\n",
              "    <tr style=\"text-align: right;\">\n",
              "      <th></th>\n",
              "      <th>연도</th>\n",
              "      <th>시도</th>\n",
              "      <th>대계열</th>\n",
              "      <th>중계열</th>\n",
              "      <th>모집인원_학부_계</th>\n",
              "      <th>Gov_Spnsorship</th>\n",
              "      <th>awareness</th>\n",
              "      <th>Total_fertility_rate</th>\n",
              "      <th>Net_Mover</th>\n",
              "      <th>immigration</th>\n",
              "      <th>schoolage</th>\n",
              "    </tr>\n",
              "  </thead>\n",
              "  <tbody>\n",
              "    <tr>\n",
              "      <th>0</th>\n",
              "      <td>2015</td>\n",
              "      <td>강원</td>\n",
              "      <td>인문계열</td>\n",
              "      <td>언어ㆍ문학</td>\n",
              "      <td>38</td>\n",
              "      <td>1</td>\n",
              "      <td>7</td>\n",
              "      <td>1.311</td>\n",
              "      <td>4773</td>\n",
              "      <td>1200</td>\n",
              "      <td>2755</td>\n",
              "    </tr>\n",
              "    <tr>\n",
              "      <th>1</th>\n",
              "      <td>2015</td>\n",
              "      <td>강원</td>\n",
              "      <td>인문계열</td>\n",
              "      <td>언어ㆍ문학</td>\n",
              "      <td>27</td>\n",
              "      <td>1</td>\n",
              "      <td>7</td>\n",
              "      <td>1.311</td>\n",
              "      <td>4773</td>\n",
              "      <td>1200</td>\n",
              "      <td>2755</td>\n",
              "    </tr>\n",
              "    <tr>\n",
              "      <th>2</th>\n",
              "      <td>2015</td>\n",
              "      <td>강원</td>\n",
              "      <td>인문계열</td>\n",
              "      <td>언어ㆍ문학</td>\n",
              "      <td>38</td>\n",
              "      <td>1</td>\n",
              "      <td>7</td>\n",
              "      <td>1.311</td>\n",
              "      <td>4773</td>\n",
              "      <td>1200</td>\n",
              "      <td>2755</td>\n",
              "    </tr>\n",
              "    <tr>\n",
              "      <th>3</th>\n",
              "      <td>2015</td>\n",
              "      <td>강원</td>\n",
              "      <td>인문계열</td>\n",
              "      <td>언어ㆍ문학</td>\n",
              "      <td>23</td>\n",
              "      <td>1</td>\n",
              "      <td>7</td>\n",
              "      <td>1.311</td>\n",
              "      <td>4773</td>\n",
              "      <td>1200</td>\n",
              "      <td>2755</td>\n",
              "    </tr>\n",
              "    <tr>\n",
              "      <th>4</th>\n",
              "      <td>2015</td>\n",
              "      <td>강원</td>\n",
              "      <td>인문계열</td>\n",
              "      <td>인문과학</td>\n",
              "      <td>27</td>\n",
              "      <td>1</td>\n",
              "      <td>2</td>\n",
              "      <td>1.311</td>\n",
              "      <td>4773</td>\n",
              "      <td>1200</td>\n",
              "      <td>2755</td>\n",
              "    </tr>\n",
              "    <tr>\n",
              "      <th>...</th>\n",
              "      <td>...</td>\n",
              "      <td>...</td>\n",
              "      <td>...</td>\n",
              "      <td>...</td>\n",
              "      <td>...</td>\n",
              "      <td>...</td>\n",
              "      <td>...</td>\n",
              "      <td>...</td>\n",
              "      <td>...</td>\n",
              "      <td>...</td>\n",
              "      <td>...</td>\n",
              "    </tr>\n",
              "    <tr>\n",
              "      <th>26014</th>\n",
              "      <td>2021</td>\n",
              "      <td>대구</td>\n",
              "      <td>자연계열</td>\n",
              "      <td>생활과학</td>\n",
              "      <td>220</td>\n",
              "      <td>0</td>\n",
              "      <td>0</td>\n",
              "      <td>0.785</td>\n",
              "      <td>-24319</td>\n",
              "      <td>1098</td>\n",
              "      <td>2258</td>\n",
              "    </tr>\n",
              "    <tr>\n",
              "      <th>26015</th>\n",
              "      <td>2021</td>\n",
              "      <td>충남</td>\n",
              "      <td>인문계열</td>\n",
              "      <td>인문과학</td>\n",
              "      <td>16</td>\n",
              "      <td>0</td>\n",
              "      <td>0</td>\n",
              "      <td>0.963</td>\n",
              "      <td>8522</td>\n",
              "      <td>972</td>\n",
              "      <td>2258</td>\n",
              "    </tr>\n",
              "    <tr>\n",
              "      <th>26016</th>\n",
              "      <td>2021</td>\n",
              "      <td>충남</td>\n",
              "      <td>공학계열</td>\n",
              "      <td>건축</td>\n",
              "      <td>21</td>\n",
              "      <td>0</td>\n",
              "      <td>7</td>\n",
              "      <td>0.963</td>\n",
              "      <td>8522</td>\n",
              "      <td>972</td>\n",
              "      <td>2258</td>\n",
              "    </tr>\n",
              "    <tr>\n",
              "      <th>26017</th>\n",
              "      <td>2021</td>\n",
              "      <td>충남</td>\n",
              "      <td>공학계열</td>\n",
              "      <td>건축</td>\n",
              "      <td>16</td>\n",
              "      <td>0</td>\n",
              "      <td>7</td>\n",
              "      <td>0.963</td>\n",
              "      <td>8522</td>\n",
              "      <td>972</td>\n",
              "      <td>2258</td>\n",
              "    </tr>\n",
              "    <tr>\n",
              "      <th>26018</th>\n",
              "      <td>2021</td>\n",
              "      <td>충남</td>\n",
              "      <td>예체능계열</td>\n",
              "      <td>응용예술</td>\n",
              "      <td>41</td>\n",
              "      <td>0</td>\n",
              "      <td>9</td>\n",
              "      <td>0.963</td>\n",
              "      <td>8522</td>\n",
              "      <td>972</td>\n",
              "      <td>2258</td>\n",
              "    </tr>\n",
              "  </tbody>\n",
              "</table>\n",
              "<p>26019 rows × 11 columns</p>\n",
              "</div>\n",
              "      <button class=\"colab-df-convert\" onclick=\"convertToInteractive('df-d08d073e-825d-4912-8619-8477f4aa3fcf')\"\n",
              "              title=\"Convert this dataframe to an interactive table.\"\n",
              "              style=\"display:none;\">\n",
              "        \n",
              "  <svg xmlns=\"http://www.w3.org/2000/svg\" height=\"24px\"viewBox=\"0 0 24 24\"\n",
              "       width=\"24px\">\n",
              "    <path d=\"M0 0h24v24H0V0z\" fill=\"none\"/>\n",
              "    <path d=\"M18.56 5.44l.94 2.06.94-2.06 2.06-.94-2.06-.94-.94-2.06-.94 2.06-2.06.94zm-11 1L8.5 8.5l.94-2.06 2.06-.94-2.06-.94L8.5 2.5l-.94 2.06-2.06.94zm10 10l.94 2.06.94-2.06 2.06-.94-2.06-.94-.94-2.06-.94 2.06-2.06.94z\"/><path d=\"M17.41 7.96l-1.37-1.37c-.4-.4-.92-.59-1.43-.59-.52 0-1.04.2-1.43.59L10.3 9.45l-7.72 7.72c-.78.78-.78 2.05 0 2.83L4 21.41c.39.39.9.59 1.41.59.51 0 1.02-.2 1.41-.59l7.78-7.78 2.81-2.81c.8-.78.8-2.07 0-2.86zM5.41 20L4 18.59l7.72-7.72 1.47 1.35L5.41 20z\"/>\n",
              "  </svg>\n",
              "      </button>\n",
              "      \n",
              "  <style>\n",
              "    .colab-df-container {\n",
              "      display:flex;\n",
              "      flex-wrap:wrap;\n",
              "      gap: 12px;\n",
              "    }\n",
              "\n",
              "    .colab-df-convert {\n",
              "      background-color: #E8F0FE;\n",
              "      border: none;\n",
              "      border-radius: 50%;\n",
              "      cursor: pointer;\n",
              "      display: none;\n",
              "      fill: #1967D2;\n",
              "      height: 32px;\n",
              "      padding: 0 0 0 0;\n",
              "      width: 32px;\n",
              "    }\n",
              "\n",
              "    .colab-df-convert:hover {\n",
              "      background-color: #E2EBFA;\n",
              "      box-shadow: 0px 1px 2px rgba(60, 64, 67, 0.3), 0px 1px 3px 1px rgba(60, 64, 67, 0.15);\n",
              "      fill: #174EA6;\n",
              "    }\n",
              "\n",
              "    [theme=dark] .colab-df-convert {\n",
              "      background-color: #3B4455;\n",
              "      fill: #D2E3FC;\n",
              "    }\n",
              "\n",
              "    [theme=dark] .colab-df-convert:hover {\n",
              "      background-color: #434B5C;\n",
              "      box-shadow: 0px 1px 3px 1px rgba(0, 0, 0, 0.15);\n",
              "      filter: drop-shadow(0px 1px 2px rgba(0, 0, 0, 0.3));\n",
              "      fill: #FFFFFF;\n",
              "    }\n",
              "  </style>\n",
              "\n",
              "      <script>\n",
              "        const buttonEl =\n",
              "          document.querySelector('#df-d08d073e-825d-4912-8619-8477f4aa3fcf button.colab-df-convert');\n",
              "        buttonEl.style.display =\n",
              "          google.colab.kernel.accessAllowed ? 'block' : 'none';\n",
              "\n",
              "        async function convertToInteractive(key) {\n",
              "          const element = document.querySelector('#df-d08d073e-825d-4912-8619-8477f4aa3fcf');\n",
              "          const dataTable =\n",
              "            await google.colab.kernel.invokeFunction('convertToInteractive',\n",
              "                                                     [key], {});\n",
              "          if (!dataTable) return;\n",
              "\n",
              "          const docLinkHtml = 'Like what you see? Visit the ' +\n",
              "            '<a target=\"_blank\" href=https://colab.research.google.com/notebooks/data_table.ipynb>data table notebook</a>'\n",
              "            + ' to learn more about interactive tables.';\n",
              "          element.innerHTML = '';\n",
              "          dataTable['output_type'] = 'display_data';\n",
              "          await google.colab.output.renderOutput(dataTable, element);\n",
              "          const docLink = document.createElement('div');\n",
              "          docLink.innerHTML = docLinkHtml;\n",
              "          element.appendChild(docLink);\n",
              "        }\n",
              "      </script>\n",
              "    </div>\n",
              "  </div>\n",
              "  "
            ]
          },
          "metadata": {},
          "execution_count": 4
        }
      ]
    },
    {
      "cell_type": "code",
      "source": [
        "y = df[['지원자_전체_계']]"
      ],
      "metadata": {
        "id": "8n27fdjBcCoB"
      },
      "execution_count": 5,
      "outputs": []
    },
    {
      "cell_type": "code",
      "source": [
        "# Spliting Dataset\n",
        "\n",
        "from sklearn.model_selection import GridSearchCV, train_test_split\n",
        "from sklearn.model_selection import ShuffleSplit,KFold\n",
        "\n",
        "X_trainval, X_test, y_trainval, y_test = train_test_split(X,y,random_state = 0, test_size=0.2)\n",
        "\n",
        "X_train, X_valid, y_train, y_valid = train_test_split(X_trainval, y_trainval, random_state = 0, test_size = 0.2)\n",
        "\n",
        "cv = KFold(n_splits = 5, shuffle = True, random_state = 42)"
      ],
      "metadata": {
        "id": "q_NyQHsgcN2v"
      },
      "execution_count": 6,
      "outputs": []
    },
    {
      "cell_type": "code",
      "source": [
        "from sklearn.pipeline import Pipeline\n",
        "from sklearn.preprocessing import StandardScaler\n",
        "from sklearn.preprocessing import OneHotEncoder\n",
        "from sklearn.preprocessing import PolynomialFeatures\n",
        "\n",
        "# Numeric Values\n",
        "num_features = ['모집인원_학부_계','Total_fertility_rate','Net_Mover','immigration','schoolage']\n",
        "num_transformer = Pipeline([('poly',PolynomialFeatures(degree=2,include_bias=False)),('scaler',StandardScaler())])\n",
        "\n",
        "# Categorical Values\n",
        "cat_features = ['연도','시도','대계열','중계열','Gov_Spnsorship','awareness']\n",
        "cat_transformer = OneHotEncoder(handle_unknown='ignore')"
      ],
      "metadata": {
        "id": "hByo0yWfhMtj"
      },
      "execution_count": 7,
      "outputs": []
    },
    {
      "cell_type": "code",
      "source": [
        "# Combining preprocessing pipeline for numeric and categorical values\n",
        "\n",
        "from sklearn.compose import ColumnTransformer\n",
        "\n",
        "preprocessor = ColumnTransformer(\n",
        "    transformers = [\n",
        "        (\"num\", num_transformer, num_features),(\"cat\",cat_transformer, cat_features)]\n",
        ")"
      ],
      "metadata": {
        "id": "Ewx8-3UEizCQ"
      },
      "execution_count": 8,
      "outputs": []
    },
    {
      "cell_type": "code",
      "source": [
        "from sklearn.linear_model import LinearRegression, Ridge, Lasso\n",
        "\n",
        "\n",
        "pipe_linear = Pipeline([(\"preprocessor\", preprocessor),('fit',LinearRegression())])\n",
        "grid_params_linear = [{\"fit__fit_intercept\" : [True, False]}]"
      ],
      "metadata": {
        "id": "TYKbvQPtjW49"
      },
      "execution_count": 9,
      "outputs": []
    },
    {
      "cell_type": "code",
      "source": [
        "# Evaluation metrics : R2\n",
        "\n",
        "model_r2 = {}\n",
        "model_best_params = {}\n",
        "model_best_score = {}"
      ],
      "metadata": {
        "id": "QzTs8VzIhCvv"
      },
      "execution_count": 16,
      "outputs": []
    },
    {
      "cell_type": "code",
      "source": [
        "# Linear Regression\n",
        "\n",
        "from sklearn.metrics import r2_score\n",
        "from sklearn.metrics import mean_squared_error\n",
        "\n",
        "\n",
        "search = GridSearchCV(pipe_linear, grid_params_linear, scoring = 'r2', cv = cv, n_jobs = 2, verbose=-1)\n",
        "search.fit(X_train,y_train)\n",
        "y_pred = search.predict(X_valid)\n",
        "model_r2['Linear'] = r2_score(y_valid,y_pred)\n",
        "model_best_params['Linear'] = search.best_params_\n",
        "model_best_score['Linear'] = search.best_score_\n",
        "print('finish')\n"
      ],
      "metadata": {
        "colab": {
          "base_uri": "https://localhost:8080/"
        },
        "id": "79tgOAWF6uUZ",
        "outputId": "49003106-52cd-437e-ab97-762cc02c6067"
      },
      "execution_count": null,
      "outputs": [
        {
          "output_type": "stream",
          "name": "stdout",
          "text": [
            "finish\n"
          ]
        }
      ]
    },
    {
      "cell_type": "code",
      "source": [
        "print(model_r2)\n",
        "print(model_best_params)\n",
        "print(model_best_score)\n",
        "\n",
        "# estimator반환\n",
        "# search.best_estimator_"
      ],
      "metadata": {
        "colab": {
          "base_uri": "https://localhost:8080/"
        },
        "id": "PYo5NT5P8yR7",
        "outputId": "89521e30-2b46-4230-e637-8e3c2a1f57d6"
      },
      "execution_count": null,
      "outputs": [
        {
          "output_type": "stream",
          "name": "stdout",
          "text": [
            "{'Linear': 0.622863334546101}\n",
            "{'Linear': {'fit__fit_intercept': True}}\n",
            "{'Linear': 0.6344479651227586}\n"
          ]
        }
      ]
    },
    {
      "cell_type": "code",
      "source": [
        "# Lasso\n",
        "\n",
        "# 20mins\n",
        "import numpy as np\n",
        "\n",
        "pipe_lasso = Pipeline([(\"preprocessor\", preprocessor),('fit', Lasso(random_state = 42))])\n",
        "grid_params_lasso = [{\"fit__tol\" : np.logspace(-5,0,10),\"fit__alpha\" : np.logspace(-5,1,10)}]\n",
        "\n",
        "search = GridSearchCV(pipe_lasso, grid_params_lasso, scoring = 'r2', cv = cv, n_jobs = 2, verbose=-1)\n",
        "search.fit(X_train,y_train)\n",
        "y_pred = search.predict(X_valid)\n",
        "model_r2['Lasso'] = r2_score(y_valid,y_pred)\n",
        "model_best_params['Lasso'] = search.best_params_\n",
        "model_best_score['Lasso'] = search.best_score_\n",
        "print('finish')"
      ],
      "metadata": {
        "colab": {
          "base_uri": "https://localhost:8080/"
        },
        "id": "O9TFzgq3FSRX",
        "outputId": "4d11fb6d-0fe8-41a5-ac5d-ff617f7f24cb"
      },
      "execution_count": null,
      "outputs": [
        {
          "output_type": "stream",
          "name": "stdout",
          "text": [
            "finish\n"
          ]
        },
        {
          "output_type": "stream",
          "name": "stderr",
          "text": [
            "/usr/local/lib/python3.7/dist-packages/sklearn/linear_model/_coordinate_descent.py:622: ConvergenceWarning: Objective did not converge. You might want to increase the number of iterations. Duality gap: 1251023264.9514105, tolerance: 75435.7353805693\n",
            "  positive,\n"
          ]
        }
      ]
    },
    {
      "cell_type": "code",
      "source": [
        "print(model_r2)\n",
        "print(model_best_params)\n",
        "print(model_best_score)"
      ],
      "metadata": {
        "id": "gjI4p4vvGKmQ",
        "colab": {
          "base_uri": "https://localhost:8080/"
        },
        "outputId": "e787699e-b0a5-47b0-e729-a75b547465e8"
      },
      "execution_count": null,
      "outputs": [
        {
          "output_type": "stream",
          "name": "stdout",
          "text": [
            "{'Linear': 0.622863334546101, 'Lasso': 0.6232647986187436}\n",
            "{'Linear': {'fit__fit_intercept': True}, 'Lasso': {'fit__alpha': 1e-05, 'fit__tol': 1e-05}}\n",
            "{'Linear': 0.6344479651227586, 'Lasso': 0.6345250615062837}\n"
          ]
        }
      ]
    },
    {
      "cell_type": "code",
      "source": [
        "# Ridge\n",
        "\n",
        "pipe_ridge = Pipeline([(\"preprocessor\", preprocessor),('fit', Ridge(random_state = 42))])\n",
        "grid_params_ridge = [{\"fit__alpha\" : np.linspace(2,5,10) ,\"fit__solver\" : [ \"cholesky\",\"lsqr\",\"sparse_cg\"] ,\"fit__tol\" : np.logspace(-5,0,10) ,}]\n",
        "\n",
        "search = GridSearchCV(pipe_ridge, grid_params_ridge, scoring = 'r2', cv = cv, n_jobs = 2, verbose=-1)\n",
        "search.fit(X_train,y_train)\n",
        "y_pred = search.predict(X_valid)\n",
        "model_r2['Ridge'] = r2_score(y_valid,y_pred)\n",
        "model_best_params['Ridge'] = search.best_params_\n",
        "model_best_score['Ridge'] = search.best_score_\n",
        "print('finish')"
      ],
      "metadata": {
        "id": "zqvlXRr9gqP-",
        "colab": {
          "base_uri": "https://localhost:8080/"
        },
        "outputId": "4fb36959-31fa-46e3-a957-74f3a59b0881"
      },
      "execution_count": null,
      "outputs": [
        {
          "output_type": "stream",
          "name": "stdout",
          "text": [
            "finish\n"
          ]
        },
        {
          "output_type": "stream",
          "name": "stderr",
          "text": [
            "/usr/local/lib/python3.7/dist-packages/sklearn/model_selection/_validation.py:372: FitFailedWarning: \n",
            "1000 fits failed out of a total of 1500.\n",
            "The score on these train-test partitions for these parameters will be set to nan.\n",
            "If these failures are not expected, you can try to debug them by setting error_score='raise'.\n",
            "\n",
            "Below are more details about the failures:\n",
            "--------------------------------------------------------------------------------\n",
            "500 fits failed with the following error:\n",
            "Traceback (most recent call last):\n",
            "  File \"/usr/local/lib/python3.7/dist-packages/sklearn/model_selection/_validation.py\", line 680, in _fit_and_score\n",
            "    estimator.fit(X_train, y_train, **fit_params)\n",
            "  File \"/usr/local/lib/python3.7/dist-packages/sklearn/pipeline.py\", line 394, in fit\n",
            "    self._final_estimator.fit(Xt, y, **fit_params_last_step)\n",
            "  File \"/usr/local/lib/python3.7/dist-packages/sklearn/linear_model/_ridge.py\", line 1011, in fit\n",
            "    return super().fit(X, y, sample_weight=sample_weight)\n",
            "  File \"/usr/local/lib/python3.7/dist-packages/sklearn/linear_model/_ridge.py\", line 724, in fit\n",
            "    \"or set `fit_intercept=False`\".format(self.solver)\n",
            "ValueError: solver='cholesky' does not support fitting the intercept on sparse data. Please set the solver to 'auto' or 'sparse_cg', 'sag', 'lbfgs' or set `fit_intercept=False`\n",
            "\n",
            "--------------------------------------------------------------------------------\n",
            "500 fits failed with the following error:\n",
            "Traceback (most recent call last):\n",
            "  File \"/usr/local/lib/python3.7/dist-packages/sklearn/model_selection/_validation.py\", line 680, in _fit_and_score\n",
            "    estimator.fit(X_train, y_train, **fit_params)\n",
            "  File \"/usr/local/lib/python3.7/dist-packages/sklearn/pipeline.py\", line 394, in fit\n",
            "    self._final_estimator.fit(Xt, y, **fit_params_last_step)\n",
            "  File \"/usr/local/lib/python3.7/dist-packages/sklearn/linear_model/_ridge.py\", line 1011, in fit\n",
            "    return super().fit(X, y, sample_weight=sample_weight)\n",
            "  File \"/usr/local/lib/python3.7/dist-packages/sklearn/linear_model/_ridge.py\", line 724, in fit\n",
            "    \"or set `fit_intercept=False`\".format(self.solver)\n",
            "ValueError: solver='lsqr' does not support fitting the intercept on sparse data. Please set the solver to 'auto' or 'sparse_cg', 'sag', 'lbfgs' or set `fit_intercept=False`\n",
            "\n",
            "  warnings.warn(some_fits_failed_message, FitFailedWarning)\n",
            "/usr/local/lib/python3.7/dist-packages/sklearn/model_selection/_search.py:972: UserWarning: One or more of the test scores are non-finite: [       nan        nan        nan        nan        nan        nan\n",
            "        nan        nan        nan        nan        nan        nan\n",
            "        nan        nan        nan        nan        nan        nan\n",
            "        nan        nan 0.63459286 0.6345858  0.63464922 0.63460909\n",
            " 0.63436461 0.63354415 0.61011104 0.55820955 0.55820955 0.1983797\n",
            "        nan        nan        nan        nan        nan        nan\n",
            "        nan        nan        nan        nan        nan        nan\n",
            "        nan        nan        nan        nan        nan        nan\n",
            "        nan        nan 0.63460627 0.63459702 0.63465296 0.63464738\n",
            " 0.63437519 0.63313021 0.61011151 0.55820983 0.55820983 0.19837996\n",
            "        nan        nan        nan        nan        nan        nan\n",
            "        nan        nan        nan        nan        nan        nan\n",
            "        nan        nan        nan        nan        nan        nan\n",
            "        nan        nan 0.63461735 0.63461171 0.63467638 0.63463665\n",
            " 0.63392541 0.63312087 0.61011197 0.5582101  0.5582101  0.19838021\n",
            "        nan        nan        nan        nan        nan        nan\n",
            "        nan        nan        nan        nan        nan        nan\n",
            "        nan        nan        nan        nan        nan        nan\n",
            "        nan        nan 0.63462736 0.63462138 0.63467719 0.63468576\n",
            " 0.63435818 0.63345335 0.61011242 0.55821038 0.55821038 0.19838047\n",
            "        nan        nan        nan        nan        nan        nan\n",
            "        nan        nan        nan        nan        nan        nan\n",
            "        nan        nan        nan        nan        nan        nan\n",
            "        nan        nan 0.63463311 0.63462509 0.63466744 0.63462464\n",
            " 0.63392845 0.63355931 0.61011287 0.55821066 0.55821066 0.19838072\n",
            "        nan        nan        nan        nan        nan        nan\n",
            "        nan        nan        nan        nan        nan        nan\n",
            "        nan        nan        nan        nan        nan        nan\n",
            "        nan        nan 0.6346414  0.63463872 0.63467781 0.63473695\n",
            " 0.6339139  0.63351273 0.61011331 0.55821093 0.55821093 0.19838098\n",
            "        nan        nan        nan        nan        nan        nan\n",
            "        nan        nan        nan        nan        nan        nan\n",
            "        nan        nan        nan        nan        nan        nan\n",
            "        nan        nan 0.63464379 0.63464373 0.63467205 0.63466567\n",
            " 0.63441089 0.63300309 0.61011374 0.55821121 0.55821121 0.19838123\n",
            "        nan        nan        nan        nan        nan        nan\n",
            "        nan        nan        nan        nan        nan        nan\n",
            "        nan        nan        nan        nan        nan        nan\n",
            "        nan        nan 0.63464292 0.63464585 0.63467581 0.63464956\n",
            " 0.63384554 0.63315981 0.61011416 0.55821148 0.55821148 0.19838149\n",
            "        nan        nan        nan        nan        nan        nan\n",
            "        nan        nan        nan        nan        nan        nan\n",
            "        nan        nan        nan        nan        nan        nan\n",
            "        nan        nan 0.63464677 0.63465208 0.63467561 0.63464633\n",
            " 0.63395047 0.63345085 0.61011457 0.55821176 0.55821176 0.19838175\n",
            "        nan        nan        nan        nan        nan        nan\n",
            "        nan        nan        nan        nan        nan        nan\n",
            "        nan        nan        nan        nan        nan        nan\n",
            "        nan        nan 0.63464821 0.63464517 0.63467376 0.63458941\n",
            " 0.63392023 0.63313543 0.61011498 0.55821204 0.55821204 0.198382  ]\n",
            "  category=UserWarning,\n"
          ]
        }
      ]
    },
    {
      "cell_type": "code",
      "source": [
        "print(model_r2)\n",
        "print(model_best_params)\n",
        "print(model_best_score)"
      ],
      "metadata": {
        "colab": {
          "base_uri": "https://localhost:8080/"
        },
        "id": "KLuhFmH_Z5aC",
        "outputId": "7915a22a-96e3-4ebf-efe8-f88ebf85858d"
      },
      "execution_count": null,
      "outputs": [
        {
          "output_type": "stream",
          "name": "stdout",
          "text": [
            "{'Linear': 0.622863334546101, 'Lasso': 0.6232647986187436, 'Ridge': 0.6228460532502517}\n",
            "{'Linear': {'fit__fit_intercept': True}, 'Lasso': {'fit__alpha': 1e-05, 'fit__tol': 1e-05}, 'Ridge': {'fit__alpha': 3.6666666666666665, 'fit__solver': 'sparse_cg', 'fit__tol': 0.0004641588833612782}}\n",
            "{'Linear': 0.6344479651227586, 'Lasso': 0.6345250615062837, 'Ridge': 0.6347369478818484}\n"
          ]
        }
      ]
    },
    {
      "cell_type": "code",
      "source": [
        "min_samples_split_range = [1,2,3,4,5,6,7,8,9,10]"
      ],
      "metadata": {
        "id": "Sn6smoWJwiRE"
      },
      "execution_count": null,
      "outputs": []
    },
    {
      "cell_type": "code",
      "source": [
        "# Gradient \n",
        "# Runtime 1 Hour\n",
        "from sklearn.ensemble import GradientBoostingRegressor as GBR\n",
        "\n",
        "pipe_gbr = Pipeline([(\"preprocessor\", preprocessor),('fit', GBR())])\n",
        "grid_params_gbr = [{\"fit__max_features\" : [\"sqrt\",\"log2\"] ,\n",
        "    \"fit__loss\" : [\"ls\",\"lad\",\"huber\",\"quantile\"] , \n",
        "    \"fit__max_depth\" : [5,6,7,8] ,\n",
        "    \"fit__min_samples_split\" : min_samples_split_range ,}]\n",
        "\n",
        "search = GridSearchCV(pipe_gbr, grid_params_gbr, scoring = 'r2', cv = cv, n_jobs = 2, verbose=-1)\n",
        "search.fit(X_train,y_train)\n",
        "y_pred = search.predict(X_valid)\n",
        "model_r2['GBR'] = r2_score(y_valid,y_pred)\n",
        "model_best_params['GBR'] = search.best_params_\n",
        "model_best_score['GBR'] = search.best_score_\n",
        "print('finish')"
      ],
      "metadata": {
        "colab": {
          "base_uri": "https://localhost:8080/"
        },
        "id": "cbk8Qq3RwJ6L",
        "outputId": "bee50e92-256c-446a-a67b-79bc94101de9"
      },
      "execution_count": null,
      "outputs": [
        {
          "output_type": "stream",
          "name": "stderr",
          "text": [
            "/usr/local/lib/python3.7/dist-packages/sklearn/model_selection/_validation.py:372: FitFailedWarning: \n",
            "160 fits failed out of a total of 1600.\n",
            "The score on these train-test partitions for these parameters will be set to nan.\n",
            "If these failures are not expected, you can try to debug them by setting error_score='raise'.\n",
            "\n",
            "Below are more details about the failures:\n",
            "--------------------------------------------------------------------------------\n",
            "160 fits failed with the following error:\n",
            "Traceback (most recent call last):\n",
            "  File \"/usr/local/lib/python3.7/dist-packages/sklearn/model_selection/_validation.py\", line 680, in _fit_and_score\n",
            "    estimator.fit(X_train, y_train, **fit_params)\n",
            "  File \"/usr/local/lib/python3.7/dist-packages/sklearn/pipeline.py\", line 394, in fit\n",
            "    self._final_estimator.fit(Xt, y, **fit_params_last_step)\n",
            "  File \"/usr/local/lib/python3.7/dist-packages/sklearn/ensemble/_gb.py\", line 596, in fit\n",
            "    monitor,\n",
            "  File \"/usr/local/lib/python3.7/dist-packages/sklearn/ensemble/_gb.py\", line 672, in _fit_stages\n",
            "    X_csr,\n",
            "  File \"/usr/local/lib/python3.7/dist-packages/sklearn/ensemble/_gb.py\", line 246, in _fit_stage\n",
            "    tree.fit(X, residual, sample_weight=sample_weight, check_input=False)\n",
            "  File \"/usr/local/lib/python3.7/dist-packages/sklearn/tree/_classes.py\", line 1320, in fit\n",
            "    X_idx_sorted=X_idx_sorted,\n",
            "  File \"/usr/local/lib/python3.7/dist-packages/sklearn/tree/_classes.py\", line 254, in fit\n",
            "    % self.min_samples_split\n",
            "ValueError: min_samples_split must be an integer greater than 1 or a float in (0.0, 1.0]; got the integer 1\n",
            "\n",
            "  warnings.warn(some_fits_failed_message, FitFailedWarning)\n",
            "/usr/local/lib/python3.7/dist-packages/sklearn/model_selection/_search.py:972: UserWarning: One or more of the test scores are non-finite: [       nan 0.71824797 0.71358606 0.71625446 0.71220556 0.71836603\n",
            " 0.71115692 0.71811788 0.71126921 0.71878422        nan 0.7081664\n",
            " 0.71016424 0.71600217 0.71732404 0.70880442 0.7134478  0.71115664\n",
            " 0.71195312 0.7101183         nan 0.71587102 0.7152737  0.71717344\n",
            " 0.71489736 0.72226817 0.72141893 0.72045535 0.71277597 0.71971135\n",
            "        nan 0.7083203  0.71159616 0.72084893 0.70826617 0.71544759\n",
            " 0.72160291 0.71273746 0.71508618 0.7207035         nan 0.71268779\n",
            " 0.71686657 0.71765399 0.71839387 0.72681994 0.7240645  0.71495689\n",
            " 0.71778361 0.72138367        nan 0.70776522 0.70556643 0.70898906\n",
            " 0.71442381 0.71017325 0.71960793 0.71884786 0.72436458 0.71382151\n",
            "        nan 0.71320712 0.71304631 0.71713745 0.71088103 0.72091587\n",
            " 0.71579236 0.71866406 0.71242064 0.71516863        nan 0.70003741\n",
            " 0.70350466 0.70228646 0.70897986 0.71821978 0.71058067 0.71321941\n",
            " 0.71656371 0.71310122        nan 0.64854035 0.64498311 0.63676282\n",
            " 0.64122084 0.63785807 0.65395777 0.6539276  0.65316218 0.63979286\n",
            "        nan 0.64199664 0.63971954 0.6357718  0.63745704 0.63888602\n",
            " 0.64088937 0.63592105 0.63063922 0.63730082        nan 0.67406634\n",
            " 0.67632284 0.67017061 0.67435241 0.66942824 0.66917851 0.6787839\n",
            " 0.65999756 0.66831495        nan 0.65804718 0.6666824  0.66585869\n",
            " 0.65608836 0.66005076 0.66301579 0.66116835 0.66006803 0.65895964\n",
            "        nan 0.68486923 0.67897    0.68496931 0.68510581 0.67848021\n",
            " 0.67674677 0.6887057  0.67850694 0.6866268         nan 0.67519234\n",
            " 0.67274772 0.68098554 0.67346932 0.66719758 0.67623076 0.67875142\n",
            " 0.68792983 0.67241976        nan 0.68955987 0.69570304 0.69094071\n",
            " 0.69403391 0.68996198 0.68292303 0.69473768 0.68608279 0.69367334\n",
            "        nan 0.68369355 0.69055934 0.68364142 0.68487947 0.68729807\n",
            " 0.68111963 0.67827051 0.68386401 0.68452232        nan 0.69669814\n",
            " 0.69423503 0.69626871 0.70020197 0.7008002  0.70215677 0.70108476\n",
            " 0.69430701 0.6938788         nan 0.68595056 0.69076113 0.6872031\n",
            " 0.68866015 0.69043948 0.68170096 0.68268278 0.68587536 0.67992089\n",
            "        nan 0.70335124 0.70962098 0.71661141 0.70265487 0.70364402\n",
            " 0.70832513 0.70991767 0.71394913 0.70509668        nan 0.69678405\n",
            " 0.69871047 0.7060738  0.69102814 0.70654266 0.69903849 0.69850406\n",
            " 0.69844361 0.69607806        nan 0.70212238 0.7055773  0.71644299\n",
            " 0.70690888 0.7115537  0.71773776 0.71738524 0.7211488  0.7194349\n",
            "        nan 0.70429585 0.70307642 0.69565026 0.70473726 0.71019019\n",
            " 0.70014562 0.70166333 0.70552231 0.70850366        nan 0.71090454\n",
            " 0.71605419 0.71020074 0.71919579 0.71011423 0.71067141 0.71973263\n",
            " 0.71949966 0.72355545        nan 0.70289927 0.70624704 0.71128023\n",
            " 0.70946706 0.70943952 0.70865605 0.70418997 0.70262778 0.71376993\n",
            "        nan 0.43049597 0.45291517 0.44907061 0.44295325 0.43545235\n",
            " 0.42446295 0.43599696 0.41812581 0.43552593        nan 0.4255255\n",
            " 0.4291857  0.43780755 0.43014831 0.42614037 0.43257462 0.43670479\n",
            " 0.42646723 0.42880023        nan 0.4626246  0.46000281 0.44991507\n",
            " 0.46899108 0.44464477 0.45133803 0.46224396 0.45843045 0.44101868\n",
            "        nan 0.43993606 0.44058006 0.43998356 0.45288059 0.43806005\n",
            " 0.43983767 0.43993565 0.42532513 0.4470237         nan 0.47016648\n",
            " 0.47226251 0.47600896 0.47689849 0.4751859  0.47478715 0.4546068\n",
            " 0.48143418 0.45612947        nan 0.45422898 0.45654551 0.46117684\n",
            " 0.45595635 0.45547733 0.47632993 0.45336821 0.46420039 0.44439713\n",
            "        nan 0.49626307 0.49908335 0.5043124  0.48037312 0.48288593\n",
            " 0.49561597 0.48194217 0.47821294 0.47394276        nan 0.47914536\n",
            " 0.49318713 0.48467473 0.48717086 0.46961478 0.48524049 0.47041486\n",
            " 0.45506742 0.46076543]\n",
            "  category=UserWarning,\n",
            "/usr/local/lib/python3.7/dist-packages/sklearn/ensemble/_gb.py:494: DataConversionWarning: A column-vector y was passed when a 1d array was expected. Please change the shape of y to (n_samples, ), for example using ravel().\n",
            "  y = column_or_1d(y, warn=True)\n",
            "/usr/local/lib/python3.7/dist-packages/sklearn/ensemble/_gb.py:290: FutureWarning: The loss 'ls' was deprecated in v1.0 and will be removed in version 1.2. Use 'squared_error' which is equivalent.\n",
            "  FutureWarning,\n"
          ]
        },
        {
          "output_type": "stream",
          "name": "stdout",
          "text": [
            "finish\n"
          ]
        }
      ]
    },
    {
      "cell_type": "code",
      "source": [
        "print(model_r2)\n",
        "print(model_best_params)\n",
        "print(model_best_score)"
      ],
      "metadata": {
        "colab": {
          "base_uri": "https://localhost:8080/"
        },
        "id": "lLytbvYpwrPc",
        "outputId": "c753fbf8-a34d-4a95-b1ec-0b07e9de7cb8"
      },
      "execution_count": null,
      "outputs": [
        {
          "output_type": "stream",
          "name": "stdout",
          "text": [
            "{'Linear': 0.622863334546101, 'Lasso': 0.6232647986187436, 'Ridge': 0.6228460532502517, 'GBR': 0.6961511258186199}\n",
            "{'Linear': {'fit__fit_intercept': True}, 'Lasso': {'fit__alpha': 1e-05, 'fit__tol': 1e-05}, 'Ridge': {'fit__alpha': 3.6666666666666665, 'fit__solver': 'sparse_cg', 'fit__tol': 0.0004641588833612782}, 'GBR': {'fit__loss': 'ls', 'fit__max_depth': 7, 'fit__max_features': 'sqrt', 'fit__min_samples_split': 6}}\n",
            "{'Linear': 0.6344479651227586, 'Lasso': 0.6345250615062837, 'Ridge': 0.6347369478818484, 'GBR': 0.7268199370761936}\n"
          ]
        }
      ]
    },
    {
      "cell_type": "code",
      "source": [
        "# RandomForestRegressor\n",
        "\n",
        "from sklearn.ensemble import RandomForestRegressor as RFR\n",
        "\n",
        "pipe_rfr = Pipeline([(\"preprocessor\", preprocessor),('fit', RFR())])\n",
        "grid_params_rfr = [{\"fit__max_features\" : [\"sqrt\",\"log2\"] , \n",
        "    \"fit__max_depth\" : [5,6,7,8] ,\n",
        "    \"fit__min_samples_split\" : min_samples_split_range ,}]\n",
        "\n",
        "search = GridSearchCV(pipe_rfr, grid_params_rfr, scoring = 'r2', cv = cv, n_jobs = 2, verbose=-1)\n",
        "search.fit(X_train,y_train)\n",
        "y_pred = search.predict(X_valid)\n",
        "model_r2['RFR'] = r2_score(y_valid,y_pred)\n",
        "model_best_params['RFR'] = search.best_params_\n",
        "model_best_score['RFR'] = search.best_score_\n",
        "print('finish')"
      ],
      "metadata": {
        "colab": {
          "base_uri": "https://localhost:8080/"
        },
        "id": "93tRjfSPyFsY",
        "outputId": "d82a035d-8b67-421d-e867-75472f9f3db3"
      },
      "execution_count": null,
      "outputs": [
        {
          "output_type": "stream",
          "name": "stderr",
          "text": [
            "/usr/local/lib/python3.7/dist-packages/sklearn/model_selection/_validation.py:372: FitFailedWarning: \n",
            "40 fits failed out of a total of 400.\n",
            "The score on these train-test partitions for these parameters will be set to nan.\n",
            "If these failures are not expected, you can try to debug them by setting error_score='raise'.\n",
            "\n",
            "Below are more details about the failures:\n",
            "--------------------------------------------------------------------------------\n",
            "40 fits failed with the following error:\n",
            "Traceback (most recent call last):\n",
            "  File \"/usr/local/lib/python3.7/dist-packages/sklearn/model_selection/_validation.py\", line 680, in _fit_and_score\n",
            "    estimator.fit(X_train, y_train, **fit_params)\n",
            "  File \"/usr/local/lib/python3.7/dist-packages/sklearn/pipeline.py\", line 394, in fit\n",
            "    self._final_estimator.fit(Xt, y, **fit_params_last_step)\n",
            "  File \"/usr/local/lib/python3.7/dist-packages/sklearn/ensemble/_forest.py\", line 467, in fit\n",
            "    for i, t in enumerate(trees)\n",
            "  File \"/usr/local/lib/python3.7/dist-packages/joblib/parallel.py\", line 1085, in __call__\n",
            "    if self.dispatch_one_batch(iterator):\n",
            "  File \"/usr/local/lib/python3.7/dist-packages/joblib/parallel.py\", line 901, in dispatch_one_batch\n",
            "    self._dispatch(tasks)\n",
            "  File \"/usr/local/lib/python3.7/dist-packages/joblib/parallel.py\", line 819, in _dispatch\n",
            "    job = self._backend.apply_async(batch, callback=cb)\n",
            "  File \"/usr/local/lib/python3.7/dist-packages/joblib/_parallel_backends.py\", line 208, in apply_async\n",
            "    result = ImmediateResult(func)\n",
            "  File \"/usr/local/lib/python3.7/dist-packages/joblib/_parallel_backends.py\", line 597, in __init__\n",
            "    self.results = batch()\n",
            "  File \"/usr/local/lib/python3.7/dist-packages/joblib/parallel.py\", line 289, in __call__\n",
            "    for func, args, kwargs in self.items]\n",
            "  File \"/usr/local/lib/python3.7/dist-packages/joblib/parallel.py\", line 289, in <listcomp>\n",
            "    for func, args, kwargs in self.items]\n",
            "  File \"/usr/local/lib/python3.7/dist-packages/sklearn/utils/fixes.py\", line 216, in __call__\n",
            "    return self.function(*args, **kwargs)\n",
            "  File \"/usr/local/lib/python3.7/dist-packages/sklearn/ensemble/_forest.py\", line 185, in _parallel_build_trees\n",
            "    tree.fit(X, y, sample_weight=curr_sample_weight, check_input=False)\n",
            "  File \"/usr/local/lib/python3.7/dist-packages/sklearn/tree/_classes.py\", line 1320, in fit\n",
            "    X_idx_sorted=X_idx_sorted,\n",
            "  File \"/usr/local/lib/python3.7/dist-packages/sklearn/tree/_classes.py\", line 254, in fit\n",
            "    % self.min_samples_split\n",
            "ValueError: min_samples_split must be an integer greater than 1 or a float in (0.0, 1.0]; got the integer 1\n",
            "\n",
            "  warnings.warn(some_fits_failed_message, FitFailedWarning)\n",
            "/usr/local/lib/python3.7/dist-packages/sklearn/model_selection/_search.py:972: UserWarning: One or more of the test scores are non-finite: [       nan 0.58970115 0.598937   0.59210788 0.59283393 0.58716563\n",
            " 0.59084219 0.58624059 0.59197175 0.59524272        nan 0.53620589\n",
            " 0.53448225 0.53720365 0.5309162  0.53236006 0.52821156 0.54024109\n",
            " 0.533909   0.53207611        nan 0.62355908 0.62737911 0.62317787\n",
            " 0.62863848 0.62191724 0.62807576 0.62390644 0.62190213 0.62132403\n",
            "        nan 0.57973464 0.58147867 0.57819389 0.57619048 0.58082258\n",
            " 0.57908418 0.58089492 0.57999899 0.57156927        nan 0.64440647\n",
            " 0.64540232 0.65206544 0.6477441  0.64521144 0.64794688 0.63920661\n",
            " 0.64517502 0.64418958        nan 0.60684992 0.60935632 0.61041051\n",
            " 0.60923698 0.60595434 0.60699549 0.6067451  0.60928302 0.60245709\n",
            "        nan 0.65671669 0.6588583  0.65574492 0.65795135 0.65953105\n",
            " 0.66039164 0.66346815 0.65516456 0.6570653         nan 0.62569278\n",
            " 0.634387   0.62187246 0.63319953 0.62757293 0.62822801 0.62412317\n",
            " 0.62150039 0.62416023]\n",
            "  category=UserWarning,\n",
            "/usr/local/lib/python3.7/dist-packages/sklearn/pipeline.py:394: DataConversionWarning: A column-vector y was passed when a 1d array was expected. Please change the shape of y to (n_samples,), for example using ravel().\n",
            "  self._final_estimator.fit(Xt, y, **fit_params_last_step)\n"
          ]
        },
        {
          "output_type": "stream",
          "name": "stdout",
          "text": [
            "finish\n"
          ]
        }
      ]
    },
    {
      "cell_type": "code",
      "source": [
        "print(model_r2)\n",
        "print(model_best_params)\n",
        "print(model_best_score)"
      ],
      "metadata": {
        "colab": {
          "base_uri": "https://localhost:8080/"
        },
        "id": "4o7UF3fBysvz",
        "outputId": "6c5cd3f1-51ec-4035-f3d2-5f7ac08dabb3"
      },
      "execution_count": null,
      "outputs": [
        {
          "output_type": "stream",
          "name": "stdout",
          "text": [
            "{'Linear': 0.622863334546101, 'Lasso': 0.6232647986187436, 'Ridge': 0.6228460532502517, 'GBR': 0.6961511258186199, 'RFR': 0.6447984110664}\n",
            "{'Linear': {'fit__fit_intercept': True}, 'Lasso': {'fit__alpha': 1e-05, 'fit__tol': 1e-05}, 'Ridge': {'fit__alpha': 3.6666666666666665, 'fit__solver': 'sparse_cg', 'fit__tol': 0.0004641588833612782}, 'GBR': {'fit__loss': 'ls', 'fit__max_depth': 7, 'fit__max_features': 'sqrt', 'fit__min_samples_split': 6}, 'RFR': {'fit__max_depth': 8, 'fit__max_features': 'sqrt', 'fit__min_samples_split': 8}}\n",
            "{'Linear': 0.6344479651227586, 'Lasso': 0.6345250615062837, 'Ridge': 0.6347369478818484, 'GBR': 0.7268199370761936, 'RFR': 0.6634681516556038}\n"
          ]
        }
      ]
    },
    {
      "cell_type": "code",
      "source": [
        "# SupportVectorRegression\n",
        "# Runtime : 1hr 37 mins\n",
        "\n",
        "from sklearn.svm import SVR\n",
        "\n",
        "pipe_svr = Pipeline([(\"preprocessor\", preprocessor),('fit', SVR())])\n",
        "grid_params_svr = [{\"fit__kernel\" : [\"rbf\", \"linear\"],\n",
        "\"fit__degree\" : [2, 3, 5], \n",
        "    \"fit__gamma\" : np.logspace(-5,1,10)}]\n",
        "\n",
        "search = GridSearchCV(pipe_svr, grid_params_svr, scoring = 'r2', cv = cv, n_jobs = 2, verbose=-1)\n",
        "search.fit(X_train,y_train)\n",
        "y_pred = search.predict(X_valid)\n",
        "model_r2['SVR'] = r2_score(y_valid,y_pred)\n",
        "model_best_params['SVR'] = search.best_params_\n",
        "model_best_score['SVR'] = search.best_score_\n",
        "print('finish')"
      ],
      "metadata": {
        "colab": {
          "base_uri": "https://localhost:8080/"
        },
        "id": "F1-KCJli0EHP",
        "outputId": "fa792321-a004-4c14-f9c1-7255a4e2ff86"
      },
      "execution_count": null,
      "outputs": [
        {
          "output_type": "stream",
          "name": "stderr",
          "text": [
            "/usr/local/lib/python3.7/dist-packages/sklearn/utils/validation.py:993: DataConversionWarning: A column-vector y was passed when a 1d array was expected. Please change the shape of y to (n_samples, ), for example using ravel().\n",
            "  y = column_or_1d(y, warn=True)\n"
          ]
        },
        {
          "output_type": "stream",
          "name": "stdout",
          "text": [
            "finish\n"
          ]
        }
      ]
    },
    {
      "cell_type": "code",
      "source": [
        "print(model_r2)\n",
        "print(model_best_params)\n",
        "print(model_best_score)"
      ],
      "metadata": {
        "colab": {
          "base_uri": "https://localhost:8080/"
        },
        "id": "b0MuBup4FJ6D",
        "outputId": "35d42910-d542-4767-d897-2e0e2840dcb6"
      },
      "execution_count": null,
      "outputs": [
        {
          "output_type": "stream",
          "name": "stdout",
          "text": [
            "{'Linear': 0.622863334546101, 'Lasso': 0.6232647986187436, 'Ridge': 0.6228460532502517, 'GBR': 0.6961511258186199, 'RFR': 0.6447984110664, 'SVR': 0.6116517939646415}\n",
            "{'Linear': {'fit__fit_intercept': True}, 'Lasso': {'fit__alpha': 1e-05, 'fit__tol': 1e-05}, 'Ridge': {'fit__alpha': 3.6666666666666665, 'fit__solver': 'sparse_cg', 'fit__tol': 0.0004641588833612782}, 'GBR': {'fit__loss': 'ls', 'fit__max_depth': 7, 'fit__max_features': 'sqrt', 'fit__min_samples_split': 6}, 'RFR': {'fit__max_depth': 8, 'fit__max_features': 'sqrt', 'fit__min_samples_split': 8}, 'SVR': {'fit__degree': 2, 'fit__gamma': 1e-05, 'fit__kernel': 'linear'}}\n",
            "{'Linear': 0.6344479651227586, 'Lasso': 0.6345250615062837, 'Ridge': 0.6347369478818484, 'GBR': 0.7268199370761936, 'RFR': 0.6634681516556038, 'SVR': 0.5949185646556356}\n"
          ]
        }
      ]
    },
    {
      "cell_type": "code",
      "source": [
        "# Kernel Ridge Regression\n",
        "\n",
        "from sklearn.kernel_ridge import KernelRidge\n",
        "\n",
        "pipe_KR = Pipeline([(\"preprocessor\", preprocessor),('fit', KernelRidge())])\n",
        "grid_params_KR = [{\"fit__kernel\" : [\"rbf\",\"linear\"] , \n",
        "    \"fit__gamma\" : np.logspace(-5,1,10) ,}]\n",
        "\n",
        "search = GridSearchCV(pipe_KR, grid_params_KR, scoring = 'r2', cv = cv, n_jobs = 2, verbose=-1)\n",
        "search.fit(X_train,y_train)\n",
        "y_pred = search.predict(X_valid)\n",
        "model_r2['KR'] = r2_score(y_valid,y_pred)\n",
        "model_best_params['KR'] = search.best_params_\n",
        "model_best_score['KR'] = search.best_score_\n",
        "print('finish')"
      ],
      "metadata": {
        "colab": {
          "base_uri": "https://localhost:8080/"
        },
        "id": "d8nyKdCPbofi",
        "outputId": "3828aa10-20dd-41c7-e3cc-e8e63d666629"
      },
      "execution_count": null,
      "outputs": [
        {
          "output_type": "stream",
          "name": "stderr",
          "text": [
            "/usr/local/lib/python3.7/dist-packages/joblib/externals/loky/process_executor.py:703: UserWarning: A worker stopped while some jobs were given to the executor. This can be caused by a too short worker timeout or by a memory leak.\n",
            "  \"timeout or by a memory leak.\", UserWarning\n"
          ]
        },
        {
          "output_type": "stream",
          "name": "stdout",
          "text": [
            "finish\n"
          ]
        }
      ]
    },
    {
      "cell_type": "code",
      "source": [
        "print(model_r2)\n",
        "print(model_best_params)\n",
        "print(model_best_score)"
      ],
      "metadata": {
        "colab": {
          "base_uri": "https://localhost:8080/"
        },
        "id": "Wjtc-G13cDGx",
        "outputId": "8c6aa166-b38b-465a-befe-3803122e3c66"
      },
      "execution_count": null,
      "outputs": [
        {
          "output_type": "stream",
          "name": "stdout",
          "text": [
            "{'Linear': 0.622863334546101, 'Lasso': 0.6232647986187436, 'Ridge': 0.6228460532502517, 'GBR': 0.6961511258186199, 'RFR': 0.6447984110664, 'SVR': 0.6116517939646415, 'KR': 0.6363528761071908}\n",
            "{'Linear': {'fit__fit_intercept': True}, 'Lasso': {'fit__alpha': 1e-05, 'fit__tol': 1e-05}, 'Ridge': {'fit__alpha': 3.6666666666666665, 'fit__solver': 'sparse_cg', 'fit__tol': 0.0004641588833612782}, 'GBR': {'fit__loss': 'ls', 'fit__max_depth': 7, 'fit__max_features': 'sqrt', 'fit__min_samples_split': 6}, 'RFR': {'fit__max_depth': 8, 'fit__max_features': 'sqrt', 'fit__min_samples_split': 8}, 'SVR': {'fit__degree': 2, 'fit__gamma': 1e-05, 'fit__kernel': 'linear'}, 'KR': {'fit__gamma': 0.004641588833612777, 'fit__kernel': 'rbf'}}\n",
            "{'Linear': 0.6344479651227586, 'Lasso': 0.6345250615062837, 'Ridge': 0.6347369478818484, 'GBR': 0.7268199370761936, 'RFR': 0.6634681516556038, 'SVR': 0.5949185646556356, 'KR': 0.6405078825620866}\n"
          ]
        }
      ]
    },
    {
      "cell_type": "markdown",
      "source": [
        "##**Conclusion from model training**\n",
        "\n",
        "- GradientBoostingRegressor performed the best\n",
        "\n",
        "- Parameters : {'fit__loss': 'ls', 'fit__max_depth': 7, 'fit__max_features': 'sqrt', 'fit__min_samples_split': 6}"
      ],
      "metadata": {
        "id": "bhM-TNMrswg6"
      }
    },
    {
      "cell_type": "code",
      "source": [
        "best_parameters = {'fit__loss': ['ls'], 'fit__max_depth': [7], 'fit__max_features': ['sqrt'], 'fit__min_samples_split': [6]}\n",
        "\n",
        "train_r2 = {}\n",
        "train_best_score = {}"
      ],
      "metadata": {
        "id": "gDqpbySw6rjQ"
      },
      "execution_count": 16,
      "outputs": []
    },
    {
      "cell_type": "code",
      "source": [
        "# Gradient \n",
        "\n",
        "from sklearn.ensemble import GradientBoostingRegressor as GBR\n",
        "from sklearn.metrics import r2_score\n",
        "\n",
        "\n",
        "pipe_train_result = Pipeline([(\"preprocessor\", preprocessor),('fit', GBR())])\n",
        "grid_train_result = [best_parameters]\n",
        "\n",
        "search = GridSearchCV(pipe_train_result, grid_train_result, scoring = 'r2', cv = cv, n_jobs = 2, verbose=-1)\n",
        "search.fit(X_test,y_test)\n",
        "y_pred = search.predict(X_test)\n",
        "train_r2['train_result'] = r2_score(y_test,y_pred)\n",
        "print('finish')"
      ],
      "metadata": {
        "colab": {
          "base_uri": "https://localhost:8080/"
        },
        "id": "HI0t3YjJ60Xw",
        "outputId": "4aea444a-88a6-45ae-c24f-8077952a08f8"
      },
      "execution_count": 24,
      "outputs": [
        {
          "output_type": "stream",
          "name": "stderr",
          "text": [
            "/usr/local/lib/python3.7/dist-packages/sklearn/ensemble/_gb.py:494: DataConversionWarning: A column-vector y was passed when a 1d array was expected. Please change the shape of y to (n_samples, ), for example using ravel().\n",
            "  y = column_or_1d(y, warn=True)\n",
            "/usr/local/lib/python3.7/dist-packages/sklearn/ensemble/_gb.py:290: FutureWarning: The loss 'ls' was deprecated in v1.0 and will be removed in version 1.2. Use 'squared_error' which is equivalent.\n",
            "  FutureWarning,\n"
          ]
        },
        {
          "output_type": "stream",
          "name": "stdout",
          "text": [
            "finish\n"
          ]
        }
      ]
    },
    {
      "cell_type": "code",
      "source": [
        "# Best Estimator\n",
        "\n",
        "search.best_estimator_"
      ],
      "metadata": {
        "colab": {
          "base_uri": "https://localhost:8080/"
        },
        "id": "dzkZQots-YLw",
        "outputId": "71e797af-cb38-4c21-971c-cf6739396df0"
      },
      "execution_count": 57,
      "outputs": [
        {
          "output_type": "execute_result",
          "data": {
            "text/plain": [
              "ColumnTransformer(transformers=[('num',\n",
              "                                 Pipeline(steps=[('poly',\n",
              "                                                  PolynomialFeatures(include_bias=False)),\n",
              "                                                 ('scaler', StandardScaler())]),\n",
              "                                 ['모집인원_학부_계', 'Total_fertility_rate',\n",
              "                                  'Net_Mover', 'immigration', 'schoolage']),\n",
              "                                ('cat', OneHotEncoder(handle_unknown='ignore'),\n",
              "                                 ['연도', '시도', '대계열', '중계열', 'Gov_Spnsorship',\n",
              "                                  'awareness'])])"
            ]
          },
          "metadata": {},
          "execution_count": 57
        }
      ]
    },
    {
      "cell_type": "code",
      "source": [
        "# Best estimators of model\n",
        "\n",
        "search.best_estimator_.named_steps['fit']"
      ],
      "metadata": {
        "colab": {
          "base_uri": "https://localhost:8080/"
        },
        "id": "dxJPjdMMC8wx",
        "outputId": "092a3fc8-70bb-484b-b5e8-f1807559855e"
      },
      "execution_count": 58,
      "outputs": [
        {
          "output_type": "execute_result",
          "data": {
            "text/plain": [
              "GradientBoostingRegressor(loss='ls', max_depth=7, max_features='sqrt',\n",
              "                          min_samples_split=6)"
            ]
          },
          "metadata": {},
          "execution_count": 58
        }
      ]
    },
    {
      "cell_type": "code",
      "source": [
        "# Best estimators of preprocessor\n",
        "\n",
        "search.best_estimator_.named_steps['preprocessor']"
      ],
      "metadata": {
        "colab": {
          "base_uri": "https://localhost:8080/"
        },
        "id": "zmHbrr-DC-cC",
        "outputId": "cb74d60f-51b6-49a8-ba91-df37c193b2c3"
      },
      "execution_count": 59,
      "outputs": [
        {
          "output_type": "execute_result",
          "data": {
            "text/plain": [
              "ColumnTransformer(transformers=[('num',\n",
              "                                 Pipeline(steps=[('poly',\n",
              "                                                  PolynomialFeatures(include_bias=False)),\n",
              "                                                 ('scaler', StandardScaler())]),\n",
              "                                 ['모집인원_학부_계', 'Total_fertility_rate',\n",
              "                                  'Net_Mover', 'immigration', 'schoolage']),\n",
              "                                ('cat', OneHotEncoder(handle_unknown='ignore'),\n",
              "                                 ['연도', '시도', '대계열', '중계열', 'Gov_Spnsorship',\n",
              "                                  'awareness'])])"
            ]
          },
          "metadata": {},
          "execution_count": 59
        }
      ]
    },
    {
      "cell_type": "code",
      "source": [
        "# Final r2 score\n",
        "\n",
        "train_r2"
      ],
      "metadata": {
        "colab": {
          "base_uri": "https://localhost:8080/"
        },
        "id": "JOSwScwH8LM8",
        "outputId": "eab1e269-67cf-40e2-d66c-c3b0e67b2306"
      },
      "execution_count": 60,
      "outputs": [
        {
          "output_type": "execute_result",
          "data": {
            "text/plain": [
              "{'train_result': 0.9182697505431783}"
            ]
          },
          "metadata": {},
          "execution_count": 60
        }
      ]
    },
    {
      "cell_type": "markdown",
      "source": [
        "# **Predicting future admission**"
      ],
      "metadata": {
        "id": "e49RIvNYDNv9"
      }
    },
    {
      "cell_type": "code",
      "source": [
        "# Importing dataset\n",
        "future = pd.read_excel('/content/mount/MyDrive/Colab Notebooks/2022/SeoulTech/Business Analytics/팀플/future.xlsx')\n",
        "# Checking dataset\n",
        "future.head()"
      ],
      "metadata": {
        "colab": {
          "base_uri": "https://localhost:8080/",
          "height": 206
        },
        "id": "h_wBBgl08kja",
        "outputId": "519fe9ae-167a-4693-ad7d-61796536ae35"
      },
      "execution_count": 29,
      "outputs": [
        {
          "output_type": "execute_result",
          "data": {
            "text/plain": [
              "     연도  시도   대계열    중계열  모집인원_학부_계  지원자_전체_계  Gov_Spnsorship  awareness  \\\n",
              "0  2022  강원  인문계열  언어ㆍ문학         33       NaN               1          2   \n",
              "1  2022  강원  인문계열  언어ㆍ문학         26       NaN               1          2   \n",
              "2  2022  강원  인문계열  언어ㆍ문학         33       NaN               1          2   \n",
              "3  2022  강원  인문계열  언어ㆍ문학         19       NaN               1          2   \n",
              "4  2022  강원  인문계열   인문과학         22       NaN               1          0   \n",
              "\n",
              "           학교_학과명  Total_fertility_rate  Net_Mover  immigration  schoolage  \n",
              "0  강릉원주대학교_국어국문학과                0.9275     9191.0        223.0        957  \n",
              "1  강릉원주대학교_중어중문학과                0.9275     9191.0        223.0        957  \n",
              "2  강릉원주대학교_영어영문학과                0.9275     9191.0        223.0        957  \n",
              "3  강릉원주대학교_독어독문학과                0.9275     9191.0        223.0        957  \n",
              "4     강릉원주대학교_사학과                0.9275     9191.0        223.0        957  "
            ],
            "text/html": [
              "\n",
              "  <div id=\"df-17bb7f9e-35aa-4e12-9671-2d0529ff8dcf\">\n",
              "    <div class=\"colab-df-container\">\n",
              "      <div>\n",
              "<style scoped>\n",
              "    .dataframe tbody tr th:only-of-type {\n",
              "        vertical-align: middle;\n",
              "    }\n",
              "\n",
              "    .dataframe tbody tr th {\n",
              "        vertical-align: top;\n",
              "    }\n",
              "\n",
              "    .dataframe thead th {\n",
              "        text-align: right;\n",
              "    }\n",
              "</style>\n",
              "<table border=\"1\" class=\"dataframe\">\n",
              "  <thead>\n",
              "    <tr style=\"text-align: right;\">\n",
              "      <th></th>\n",
              "      <th>연도</th>\n",
              "      <th>시도</th>\n",
              "      <th>대계열</th>\n",
              "      <th>중계열</th>\n",
              "      <th>모집인원_학부_계</th>\n",
              "      <th>지원자_전체_계</th>\n",
              "      <th>Gov_Spnsorship</th>\n",
              "      <th>awareness</th>\n",
              "      <th>학교_학과명</th>\n",
              "      <th>Total_fertility_rate</th>\n",
              "      <th>Net_Mover</th>\n",
              "      <th>immigration</th>\n",
              "      <th>schoolage</th>\n",
              "    </tr>\n",
              "  </thead>\n",
              "  <tbody>\n",
              "    <tr>\n",
              "      <th>0</th>\n",
              "      <td>2022</td>\n",
              "      <td>강원</td>\n",
              "      <td>인문계열</td>\n",
              "      <td>언어ㆍ문학</td>\n",
              "      <td>33</td>\n",
              "      <td>NaN</td>\n",
              "      <td>1</td>\n",
              "      <td>2</td>\n",
              "      <td>강릉원주대학교_국어국문학과</td>\n",
              "      <td>0.9275</td>\n",
              "      <td>9191.0</td>\n",
              "      <td>223.0</td>\n",
              "      <td>957</td>\n",
              "    </tr>\n",
              "    <tr>\n",
              "      <th>1</th>\n",
              "      <td>2022</td>\n",
              "      <td>강원</td>\n",
              "      <td>인문계열</td>\n",
              "      <td>언어ㆍ문학</td>\n",
              "      <td>26</td>\n",
              "      <td>NaN</td>\n",
              "      <td>1</td>\n",
              "      <td>2</td>\n",
              "      <td>강릉원주대학교_중어중문학과</td>\n",
              "      <td>0.9275</td>\n",
              "      <td>9191.0</td>\n",
              "      <td>223.0</td>\n",
              "      <td>957</td>\n",
              "    </tr>\n",
              "    <tr>\n",
              "      <th>2</th>\n",
              "      <td>2022</td>\n",
              "      <td>강원</td>\n",
              "      <td>인문계열</td>\n",
              "      <td>언어ㆍ문학</td>\n",
              "      <td>33</td>\n",
              "      <td>NaN</td>\n",
              "      <td>1</td>\n",
              "      <td>2</td>\n",
              "      <td>강릉원주대학교_영어영문학과</td>\n",
              "      <td>0.9275</td>\n",
              "      <td>9191.0</td>\n",
              "      <td>223.0</td>\n",
              "      <td>957</td>\n",
              "    </tr>\n",
              "    <tr>\n",
              "      <th>3</th>\n",
              "      <td>2022</td>\n",
              "      <td>강원</td>\n",
              "      <td>인문계열</td>\n",
              "      <td>언어ㆍ문학</td>\n",
              "      <td>19</td>\n",
              "      <td>NaN</td>\n",
              "      <td>1</td>\n",
              "      <td>2</td>\n",
              "      <td>강릉원주대학교_독어독문학과</td>\n",
              "      <td>0.9275</td>\n",
              "      <td>9191.0</td>\n",
              "      <td>223.0</td>\n",
              "      <td>957</td>\n",
              "    </tr>\n",
              "    <tr>\n",
              "      <th>4</th>\n",
              "      <td>2022</td>\n",
              "      <td>강원</td>\n",
              "      <td>인문계열</td>\n",
              "      <td>인문과학</td>\n",
              "      <td>22</td>\n",
              "      <td>NaN</td>\n",
              "      <td>1</td>\n",
              "      <td>0</td>\n",
              "      <td>강릉원주대학교_사학과</td>\n",
              "      <td>0.9275</td>\n",
              "      <td>9191.0</td>\n",
              "      <td>223.0</td>\n",
              "      <td>957</td>\n",
              "    </tr>\n",
              "  </tbody>\n",
              "</table>\n",
              "</div>\n",
              "      <button class=\"colab-df-convert\" onclick=\"convertToInteractive('df-17bb7f9e-35aa-4e12-9671-2d0529ff8dcf')\"\n",
              "              title=\"Convert this dataframe to an interactive table.\"\n",
              "              style=\"display:none;\">\n",
              "        \n",
              "  <svg xmlns=\"http://www.w3.org/2000/svg\" height=\"24px\"viewBox=\"0 0 24 24\"\n",
              "       width=\"24px\">\n",
              "    <path d=\"M0 0h24v24H0V0z\" fill=\"none\"/>\n",
              "    <path d=\"M18.56 5.44l.94 2.06.94-2.06 2.06-.94-2.06-.94-.94-2.06-.94 2.06-2.06.94zm-11 1L8.5 8.5l.94-2.06 2.06-.94-2.06-.94L8.5 2.5l-.94 2.06-2.06.94zm10 10l.94 2.06.94-2.06 2.06-.94-2.06-.94-.94-2.06-.94 2.06-2.06.94z\"/><path d=\"M17.41 7.96l-1.37-1.37c-.4-.4-.92-.59-1.43-.59-.52 0-1.04.2-1.43.59L10.3 9.45l-7.72 7.72c-.78.78-.78 2.05 0 2.83L4 21.41c.39.39.9.59 1.41.59.51 0 1.02-.2 1.41-.59l7.78-7.78 2.81-2.81c.8-.78.8-2.07 0-2.86zM5.41 20L4 18.59l7.72-7.72 1.47 1.35L5.41 20z\"/>\n",
              "  </svg>\n",
              "      </button>\n",
              "      \n",
              "  <style>\n",
              "    .colab-df-container {\n",
              "      display:flex;\n",
              "      flex-wrap:wrap;\n",
              "      gap: 12px;\n",
              "    }\n",
              "\n",
              "    .colab-df-convert {\n",
              "      background-color: #E8F0FE;\n",
              "      border: none;\n",
              "      border-radius: 50%;\n",
              "      cursor: pointer;\n",
              "      display: none;\n",
              "      fill: #1967D2;\n",
              "      height: 32px;\n",
              "      padding: 0 0 0 0;\n",
              "      width: 32px;\n",
              "    }\n",
              "\n",
              "    .colab-df-convert:hover {\n",
              "      background-color: #E2EBFA;\n",
              "      box-shadow: 0px 1px 2px rgba(60, 64, 67, 0.3), 0px 1px 3px 1px rgba(60, 64, 67, 0.15);\n",
              "      fill: #174EA6;\n",
              "    }\n",
              "\n",
              "    [theme=dark] .colab-df-convert {\n",
              "      background-color: #3B4455;\n",
              "      fill: #D2E3FC;\n",
              "    }\n",
              "\n",
              "    [theme=dark] .colab-df-convert:hover {\n",
              "      background-color: #434B5C;\n",
              "      box-shadow: 0px 1px 3px 1px rgba(0, 0, 0, 0.15);\n",
              "      filter: drop-shadow(0px 1px 2px rgba(0, 0, 0, 0.3));\n",
              "      fill: #FFFFFF;\n",
              "    }\n",
              "  </style>\n",
              "\n",
              "      <script>\n",
              "        const buttonEl =\n",
              "          document.querySelector('#df-17bb7f9e-35aa-4e12-9671-2d0529ff8dcf button.colab-df-convert');\n",
              "        buttonEl.style.display =\n",
              "          google.colab.kernel.accessAllowed ? 'block' : 'none';\n",
              "\n",
              "        async function convertToInteractive(key) {\n",
              "          const element = document.querySelector('#df-17bb7f9e-35aa-4e12-9671-2d0529ff8dcf');\n",
              "          const dataTable =\n",
              "            await google.colab.kernel.invokeFunction('convertToInteractive',\n",
              "                                                     [key], {});\n",
              "          if (!dataTable) return;\n",
              "\n",
              "          const docLinkHtml = 'Like what you see? Visit the ' +\n",
              "            '<a target=\"_blank\" href=https://colab.research.google.com/notebooks/data_table.ipynb>data table notebook</a>'\n",
              "            + ' to learn more about interactive tables.';\n",
              "          element.innerHTML = '';\n",
              "          dataTable['output_type'] = 'display_data';\n",
              "          await google.colab.output.renderOutput(dataTable, element);\n",
              "          const docLink = document.createElement('div');\n",
              "          docLink.innerHTML = docLinkHtml;\n",
              "          element.appendChild(docLink);\n",
              "        }\n",
              "      </script>\n",
              "    </div>\n",
              "  </div>\n",
              "  "
            ]
          },
          "metadata": {},
          "execution_count": 29
        }
      ]
    },
    {
      "cell_type": "code",
      "source": [
        "future_test = future[['연도','시도','대계열','중계열','모집인원_학부_계','Gov_Spnsorship','awareness','Total_fertility_rate','Net_Mover','immigration','schoolage']]\n",
        "future_test"
      ],
      "metadata": {
        "colab": {
          "base_uri": "https://localhost:8080/",
          "height": 424
        },
        "id": "dyZqhdiQ-Me-",
        "outputId": "cf1c9c23-1429-45b2-9f48-48acc300a5e5"
      },
      "execution_count": 30,
      "outputs": [
        {
          "output_type": "execute_result",
          "data": {
            "text/plain": [
              "         연도  시도    대계열    중계열  모집인원_학부_계  Gov_Spnsorship  awareness  \\\n",
              "0      2022  강원   인문계열  언어ㆍ문학         33               1          2   \n",
              "1      2022  강원   인문계열  언어ㆍ문학         26               1          2   \n",
              "2      2022  강원   인문계열  언어ㆍ문학         33               1          2   \n",
              "3      2022  강원   인문계열  언어ㆍ문학         19               1          2   \n",
              "4      2022  강원   인문계열   인문과학         22               1          0   \n",
              "...     ...  ..    ...    ...        ...             ...        ...   \n",
              "18580  2026  대구   자연계열   생활과학        220               0          0   \n",
              "18581  2026  충남   인문계열   인문과학         16               0          0   \n",
              "18582  2026  충남   공학계열     건축         21               0          7   \n",
              "18583  2026  충남   공학계열     건축         16               0          7   \n",
              "18584  2026  충남  예체능계열   응용예술         41               0          9   \n",
              "\n",
              "       Total_fertility_rate  Net_Mover  immigration  schoolage  \n",
              "0                    0.9275     9191.0        223.0        957  \n",
              "1                    0.9275     9191.0        223.0        957  \n",
              "2                    0.9275     9191.0        223.0        957  \n",
              "3                    0.9275     9191.0        223.0        957  \n",
              "4                    0.9275     9191.0        223.0        957  \n",
              "...                     ...        ...          ...        ...  \n",
              "18580                   NaN        NaN          NaN        943  \n",
              "18581                   NaN        NaN          NaN        943  \n",
              "18582                   NaN        NaN          NaN        943  \n",
              "18583                   NaN        NaN          NaN        943  \n",
              "18584                   NaN        NaN          NaN        943  \n",
              "\n",
              "[18585 rows x 11 columns]"
            ],
            "text/html": [
              "\n",
              "  <div id=\"df-b4d29011-a1d6-4487-bc11-d5a827935282\">\n",
              "    <div class=\"colab-df-container\">\n",
              "      <div>\n",
              "<style scoped>\n",
              "    .dataframe tbody tr th:only-of-type {\n",
              "        vertical-align: middle;\n",
              "    }\n",
              "\n",
              "    .dataframe tbody tr th {\n",
              "        vertical-align: top;\n",
              "    }\n",
              "\n",
              "    .dataframe thead th {\n",
              "        text-align: right;\n",
              "    }\n",
              "</style>\n",
              "<table border=\"1\" class=\"dataframe\">\n",
              "  <thead>\n",
              "    <tr style=\"text-align: right;\">\n",
              "      <th></th>\n",
              "      <th>연도</th>\n",
              "      <th>시도</th>\n",
              "      <th>대계열</th>\n",
              "      <th>중계열</th>\n",
              "      <th>모집인원_학부_계</th>\n",
              "      <th>Gov_Spnsorship</th>\n",
              "      <th>awareness</th>\n",
              "      <th>Total_fertility_rate</th>\n",
              "      <th>Net_Mover</th>\n",
              "      <th>immigration</th>\n",
              "      <th>schoolage</th>\n",
              "    </tr>\n",
              "  </thead>\n",
              "  <tbody>\n",
              "    <tr>\n",
              "      <th>0</th>\n",
              "      <td>2022</td>\n",
              "      <td>강원</td>\n",
              "      <td>인문계열</td>\n",
              "      <td>언어ㆍ문학</td>\n",
              "      <td>33</td>\n",
              "      <td>1</td>\n",
              "      <td>2</td>\n",
              "      <td>0.9275</td>\n",
              "      <td>9191.0</td>\n",
              "      <td>223.0</td>\n",
              "      <td>957</td>\n",
              "    </tr>\n",
              "    <tr>\n",
              "      <th>1</th>\n",
              "      <td>2022</td>\n",
              "      <td>강원</td>\n",
              "      <td>인문계열</td>\n",
              "      <td>언어ㆍ문학</td>\n",
              "      <td>26</td>\n",
              "      <td>1</td>\n",
              "      <td>2</td>\n",
              "      <td>0.9275</td>\n",
              "      <td>9191.0</td>\n",
              "      <td>223.0</td>\n",
              "      <td>957</td>\n",
              "    </tr>\n",
              "    <tr>\n",
              "      <th>2</th>\n",
              "      <td>2022</td>\n",
              "      <td>강원</td>\n",
              "      <td>인문계열</td>\n",
              "      <td>언어ㆍ문학</td>\n",
              "      <td>33</td>\n",
              "      <td>1</td>\n",
              "      <td>2</td>\n",
              "      <td>0.9275</td>\n",
              "      <td>9191.0</td>\n",
              "      <td>223.0</td>\n",
              "      <td>957</td>\n",
              "    </tr>\n",
              "    <tr>\n",
              "      <th>3</th>\n",
              "      <td>2022</td>\n",
              "      <td>강원</td>\n",
              "      <td>인문계열</td>\n",
              "      <td>언어ㆍ문학</td>\n",
              "      <td>19</td>\n",
              "      <td>1</td>\n",
              "      <td>2</td>\n",
              "      <td>0.9275</td>\n",
              "      <td>9191.0</td>\n",
              "      <td>223.0</td>\n",
              "      <td>957</td>\n",
              "    </tr>\n",
              "    <tr>\n",
              "      <th>4</th>\n",
              "      <td>2022</td>\n",
              "      <td>강원</td>\n",
              "      <td>인문계열</td>\n",
              "      <td>인문과학</td>\n",
              "      <td>22</td>\n",
              "      <td>1</td>\n",
              "      <td>0</td>\n",
              "      <td>0.9275</td>\n",
              "      <td>9191.0</td>\n",
              "      <td>223.0</td>\n",
              "      <td>957</td>\n",
              "    </tr>\n",
              "    <tr>\n",
              "      <th>...</th>\n",
              "      <td>...</td>\n",
              "      <td>...</td>\n",
              "      <td>...</td>\n",
              "      <td>...</td>\n",
              "      <td>...</td>\n",
              "      <td>...</td>\n",
              "      <td>...</td>\n",
              "      <td>...</td>\n",
              "      <td>...</td>\n",
              "      <td>...</td>\n",
              "      <td>...</td>\n",
              "    </tr>\n",
              "    <tr>\n",
              "      <th>18580</th>\n",
              "      <td>2026</td>\n",
              "      <td>대구</td>\n",
              "      <td>자연계열</td>\n",
              "      <td>생활과학</td>\n",
              "      <td>220</td>\n",
              "      <td>0</td>\n",
              "      <td>0</td>\n",
              "      <td>NaN</td>\n",
              "      <td>NaN</td>\n",
              "      <td>NaN</td>\n",
              "      <td>943</td>\n",
              "    </tr>\n",
              "    <tr>\n",
              "      <th>18581</th>\n",
              "      <td>2026</td>\n",
              "      <td>충남</td>\n",
              "      <td>인문계열</td>\n",
              "      <td>인문과학</td>\n",
              "      <td>16</td>\n",
              "      <td>0</td>\n",
              "      <td>0</td>\n",
              "      <td>NaN</td>\n",
              "      <td>NaN</td>\n",
              "      <td>NaN</td>\n",
              "      <td>943</td>\n",
              "    </tr>\n",
              "    <tr>\n",
              "      <th>18582</th>\n",
              "      <td>2026</td>\n",
              "      <td>충남</td>\n",
              "      <td>공학계열</td>\n",
              "      <td>건축</td>\n",
              "      <td>21</td>\n",
              "      <td>0</td>\n",
              "      <td>7</td>\n",
              "      <td>NaN</td>\n",
              "      <td>NaN</td>\n",
              "      <td>NaN</td>\n",
              "      <td>943</td>\n",
              "    </tr>\n",
              "    <tr>\n",
              "      <th>18583</th>\n",
              "      <td>2026</td>\n",
              "      <td>충남</td>\n",
              "      <td>공학계열</td>\n",
              "      <td>건축</td>\n",
              "      <td>16</td>\n",
              "      <td>0</td>\n",
              "      <td>7</td>\n",
              "      <td>NaN</td>\n",
              "      <td>NaN</td>\n",
              "      <td>NaN</td>\n",
              "      <td>943</td>\n",
              "    </tr>\n",
              "    <tr>\n",
              "      <th>18584</th>\n",
              "      <td>2026</td>\n",
              "      <td>충남</td>\n",
              "      <td>예체능계열</td>\n",
              "      <td>응용예술</td>\n",
              "      <td>41</td>\n",
              "      <td>0</td>\n",
              "      <td>9</td>\n",
              "      <td>NaN</td>\n",
              "      <td>NaN</td>\n",
              "      <td>NaN</td>\n",
              "      <td>943</td>\n",
              "    </tr>\n",
              "  </tbody>\n",
              "</table>\n",
              "<p>18585 rows × 11 columns</p>\n",
              "</div>\n",
              "      <button class=\"colab-df-convert\" onclick=\"convertToInteractive('df-b4d29011-a1d6-4487-bc11-d5a827935282')\"\n",
              "              title=\"Convert this dataframe to an interactive table.\"\n",
              "              style=\"display:none;\">\n",
              "        \n",
              "  <svg xmlns=\"http://www.w3.org/2000/svg\" height=\"24px\"viewBox=\"0 0 24 24\"\n",
              "       width=\"24px\">\n",
              "    <path d=\"M0 0h24v24H0V0z\" fill=\"none\"/>\n",
              "    <path d=\"M18.56 5.44l.94 2.06.94-2.06 2.06-.94-2.06-.94-.94-2.06-.94 2.06-2.06.94zm-11 1L8.5 8.5l.94-2.06 2.06-.94-2.06-.94L8.5 2.5l-.94 2.06-2.06.94zm10 10l.94 2.06.94-2.06 2.06-.94-2.06-.94-.94-2.06-.94 2.06-2.06.94z\"/><path d=\"M17.41 7.96l-1.37-1.37c-.4-.4-.92-.59-1.43-.59-.52 0-1.04.2-1.43.59L10.3 9.45l-7.72 7.72c-.78.78-.78 2.05 0 2.83L4 21.41c.39.39.9.59 1.41.59.51 0 1.02-.2 1.41-.59l7.78-7.78 2.81-2.81c.8-.78.8-2.07 0-2.86zM5.41 20L4 18.59l7.72-7.72 1.47 1.35L5.41 20z\"/>\n",
              "  </svg>\n",
              "      </button>\n",
              "      \n",
              "  <style>\n",
              "    .colab-df-container {\n",
              "      display:flex;\n",
              "      flex-wrap:wrap;\n",
              "      gap: 12px;\n",
              "    }\n",
              "\n",
              "    .colab-df-convert {\n",
              "      background-color: #E8F0FE;\n",
              "      border: none;\n",
              "      border-radius: 50%;\n",
              "      cursor: pointer;\n",
              "      display: none;\n",
              "      fill: #1967D2;\n",
              "      height: 32px;\n",
              "      padding: 0 0 0 0;\n",
              "      width: 32px;\n",
              "    }\n",
              "\n",
              "    .colab-df-convert:hover {\n",
              "      background-color: #E2EBFA;\n",
              "      box-shadow: 0px 1px 2px rgba(60, 64, 67, 0.3), 0px 1px 3px 1px rgba(60, 64, 67, 0.15);\n",
              "      fill: #174EA6;\n",
              "    }\n",
              "\n",
              "    [theme=dark] .colab-df-convert {\n",
              "      background-color: #3B4455;\n",
              "      fill: #D2E3FC;\n",
              "    }\n",
              "\n",
              "    [theme=dark] .colab-df-convert:hover {\n",
              "      background-color: #434B5C;\n",
              "      box-shadow: 0px 1px 3px 1px rgba(0, 0, 0, 0.15);\n",
              "      filter: drop-shadow(0px 1px 2px rgba(0, 0, 0, 0.3));\n",
              "      fill: #FFFFFF;\n",
              "    }\n",
              "  </style>\n",
              "\n",
              "      <script>\n",
              "        const buttonEl =\n",
              "          document.querySelector('#df-b4d29011-a1d6-4487-bc11-d5a827935282 button.colab-df-convert');\n",
              "        buttonEl.style.display =\n",
              "          google.colab.kernel.accessAllowed ? 'block' : 'none';\n",
              "\n",
              "        async function convertToInteractive(key) {\n",
              "          const element = document.querySelector('#df-b4d29011-a1d6-4487-bc11-d5a827935282');\n",
              "          const dataTable =\n",
              "            await google.colab.kernel.invokeFunction('convertToInteractive',\n",
              "                                                     [key], {});\n",
              "          if (!dataTable) return;\n",
              "\n",
              "          const docLinkHtml = 'Like what you see? Visit the ' +\n",
              "            '<a target=\"_blank\" href=https://colab.research.google.com/notebooks/data_table.ipynb>data table notebook</a>'\n",
              "            + ' to learn more about interactive tables.';\n",
              "          element.innerHTML = '';\n",
              "          dataTable['output_type'] = 'display_data';\n",
              "          await google.colab.output.renderOutput(dataTable, element);\n",
              "          const docLink = document.createElement('div');\n",
              "          docLink.innerHTML = docLinkHtml;\n",
              "          element.appendChild(docLink);\n",
              "        }\n",
              "      </script>\n",
              "    </div>\n",
              "  </div>\n",
              "  "
            ]
          },
          "metadata": {},
          "execution_count": 30
        }
      ]
    },
    {
      "cell_type": "code",
      "source": [
        "# Gradient\n",
        "pipe_train_result = Pipeline([(\"preprocessor\", preprocessor),('fit', GBR())])\n",
        "grid_train_result = [best_parameters]\n",
        "\n",
        "search = GridSearchCV(pipe_train_result, grid_train_result, scoring = 'r2', cv = cv, n_jobs = 2, verbose=-1)\n",
        "search.fit(X_train,y_train)\n",
        "fianl_pred = search.predict(future_test)\n",
        "print('finish')"
      ],
      "metadata": {
        "colab": {
          "base_uri": "https://localhost:8080/",
          "height": 463
        },
        "id": "ACFah5hy-TYj",
        "outputId": "a1c53192-7e17-4722-d5e4-6b33a6237fe9"
      },
      "execution_count": 63,
      "outputs": [
        {
          "output_type": "stream",
          "name": "stderr",
          "text": [
            "/usr/local/lib/python3.7/dist-packages/sklearn/ensemble/_gb.py:494: DataConversionWarning: A column-vector y was passed when a 1d array was expected. Please change the shape of y to (n_samples, ), for example using ravel().\n",
            "  y = column_or_1d(y, warn=True)\n",
            "/usr/local/lib/python3.7/dist-packages/sklearn/ensemble/_gb.py:290: FutureWarning: The loss 'ls' was deprecated in v1.0 and will be removed in version 1.2. Use 'squared_error' which is equivalent.\n",
            "  FutureWarning,\n"
          ]
        },
        {
          "output_type": "error",
          "ename": "ValueError",
          "evalue": "ignored",
          "traceback": [
            "\u001b[0;31m---------------------------------------------------------------------------\u001b[0m",
            "\u001b[0;31mValueError\u001b[0m                                Traceback (most recent call last)",
            "\u001b[0;32m<ipython-input-63-695653931ae9>\u001b[0m in \u001b[0;36m<module>\u001b[0;34m\u001b[0m\n\u001b[1;32m      5\u001b[0m \u001b[0msearch\u001b[0m \u001b[0;34m=\u001b[0m \u001b[0mGridSearchCV\u001b[0m\u001b[0;34m(\u001b[0m\u001b[0mpipe_train_result\u001b[0m\u001b[0;34m,\u001b[0m \u001b[0mgrid_train_result\u001b[0m\u001b[0;34m,\u001b[0m \u001b[0mscoring\u001b[0m \u001b[0;34m=\u001b[0m \u001b[0;34m'r2'\u001b[0m\u001b[0;34m,\u001b[0m \u001b[0mcv\u001b[0m \u001b[0;34m=\u001b[0m \u001b[0mcv\u001b[0m\u001b[0;34m,\u001b[0m \u001b[0mn_jobs\u001b[0m \u001b[0;34m=\u001b[0m \u001b[0;36m2\u001b[0m\u001b[0;34m,\u001b[0m \u001b[0mverbose\u001b[0m\u001b[0;34m=\u001b[0m\u001b[0;34m-\u001b[0m\u001b[0;36m1\u001b[0m\u001b[0;34m)\u001b[0m\u001b[0;34m\u001b[0m\u001b[0;34m\u001b[0m\u001b[0m\n\u001b[1;32m      6\u001b[0m \u001b[0msearch\u001b[0m\u001b[0;34m.\u001b[0m\u001b[0mfit\u001b[0m\u001b[0;34m(\u001b[0m\u001b[0mX_train\u001b[0m\u001b[0;34m,\u001b[0m\u001b[0my_train\u001b[0m\u001b[0;34m)\u001b[0m\u001b[0;34m\u001b[0m\u001b[0;34m\u001b[0m\u001b[0m\n\u001b[0;32m----> 7\u001b[0;31m \u001b[0mfianl_pred\u001b[0m \u001b[0;34m=\u001b[0m \u001b[0msearch\u001b[0m\u001b[0;34m.\u001b[0m\u001b[0mpredict\u001b[0m\u001b[0;34m(\u001b[0m\u001b[0mfuture_test\u001b[0m\u001b[0;34m)\u001b[0m\u001b[0;34m\u001b[0m\u001b[0;34m\u001b[0m\u001b[0m\n\u001b[0m\u001b[1;32m      8\u001b[0m \u001b[0mprint\u001b[0m\u001b[0;34m(\u001b[0m\u001b[0;34m'finish'\u001b[0m\u001b[0;34m)\u001b[0m\u001b[0;34m\u001b[0m\u001b[0;34m\u001b[0m\u001b[0m\n",
            "\u001b[0;32m/usr/local/lib/python3.7/dist-packages/sklearn/utils/metaestimators.py\u001b[0m in \u001b[0;36m<lambda>\u001b[0;34m(*args, **kwargs)\u001b[0m\n\u001b[1;32m    111\u001b[0m \u001b[0;34m\u001b[0m\u001b[0m\n\u001b[1;32m    112\u001b[0m             \u001b[0;31m# lambda, but not partial, allows help() to work with update_wrapper\u001b[0m\u001b[0;34m\u001b[0m\u001b[0;34m\u001b[0m\u001b[0;34m\u001b[0m\u001b[0m\n\u001b[0;32m--> 113\u001b[0;31m             \u001b[0mout\u001b[0m \u001b[0;34m=\u001b[0m \u001b[0;32mlambda\u001b[0m \u001b[0;34m*\u001b[0m\u001b[0margs\u001b[0m\u001b[0;34m,\u001b[0m \u001b[0;34m**\u001b[0m\u001b[0mkwargs\u001b[0m\u001b[0;34m:\u001b[0m \u001b[0mself\u001b[0m\u001b[0;34m.\u001b[0m\u001b[0mfn\u001b[0m\u001b[0;34m(\u001b[0m\u001b[0mobj\u001b[0m\u001b[0;34m,\u001b[0m \u001b[0;34m*\u001b[0m\u001b[0margs\u001b[0m\u001b[0;34m,\u001b[0m \u001b[0;34m**\u001b[0m\u001b[0mkwargs\u001b[0m\u001b[0;34m)\u001b[0m  \u001b[0;31m# noqa\u001b[0m\u001b[0;34m\u001b[0m\u001b[0;34m\u001b[0m\u001b[0m\n\u001b[0m\u001b[1;32m    114\u001b[0m         \u001b[0;32melse\u001b[0m\u001b[0;34m:\u001b[0m\u001b[0;34m\u001b[0m\u001b[0;34m\u001b[0m\u001b[0m\n\u001b[1;32m    115\u001b[0m \u001b[0;34m\u001b[0m\u001b[0m\n",
            "\u001b[0;32m/usr/local/lib/python3.7/dist-packages/sklearn/model_selection/_search.py\u001b[0m in \u001b[0;36mpredict\u001b[0;34m(self, X)\u001b[0m\n\u001b[1;32m    519\u001b[0m         \"\"\"\n\u001b[1;32m    520\u001b[0m         \u001b[0mcheck_is_fitted\u001b[0m\u001b[0;34m(\u001b[0m\u001b[0mself\u001b[0m\u001b[0;34m)\u001b[0m\u001b[0;34m\u001b[0m\u001b[0;34m\u001b[0m\u001b[0m\n\u001b[0;32m--> 521\u001b[0;31m         \u001b[0;32mreturn\u001b[0m \u001b[0mself\u001b[0m\u001b[0;34m.\u001b[0m\u001b[0mbest_estimator_\u001b[0m\u001b[0;34m.\u001b[0m\u001b[0mpredict\u001b[0m\u001b[0;34m(\u001b[0m\u001b[0mX\u001b[0m\u001b[0;34m)\u001b[0m\u001b[0;34m\u001b[0m\u001b[0;34m\u001b[0m\u001b[0m\n\u001b[0m\u001b[1;32m    522\u001b[0m \u001b[0;34m\u001b[0m\u001b[0m\n\u001b[1;32m    523\u001b[0m     \u001b[0;34m@\u001b[0m\u001b[0mavailable_if\u001b[0m\u001b[0;34m(\u001b[0m\u001b[0m_estimator_has\u001b[0m\u001b[0;34m(\u001b[0m\u001b[0;34m\"predict_proba\"\u001b[0m\u001b[0;34m)\u001b[0m\u001b[0;34m)\u001b[0m\u001b[0;34m\u001b[0m\u001b[0;34m\u001b[0m\u001b[0m\n",
            "\u001b[0;32m/usr/local/lib/python3.7/dist-packages/sklearn/utils/metaestimators.py\u001b[0m in \u001b[0;36m<lambda>\u001b[0;34m(*args, **kwargs)\u001b[0m\n\u001b[1;32m    111\u001b[0m \u001b[0;34m\u001b[0m\u001b[0m\n\u001b[1;32m    112\u001b[0m             \u001b[0;31m# lambda, but not partial, allows help() to work with update_wrapper\u001b[0m\u001b[0;34m\u001b[0m\u001b[0;34m\u001b[0m\u001b[0;34m\u001b[0m\u001b[0m\n\u001b[0;32m--> 113\u001b[0;31m             \u001b[0mout\u001b[0m \u001b[0;34m=\u001b[0m \u001b[0;32mlambda\u001b[0m \u001b[0;34m*\u001b[0m\u001b[0margs\u001b[0m\u001b[0;34m,\u001b[0m \u001b[0;34m**\u001b[0m\u001b[0mkwargs\u001b[0m\u001b[0;34m:\u001b[0m \u001b[0mself\u001b[0m\u001b[0;34m.\u001b[0m\u001b[0mfn\u001b[0m\u001b[0;34m(\u001b[0m\u001b[0mobj\u001b[0m\u001b[0;34m,\u001b[0m \u001b[0;34m*\u001b[0m\u001b[0margs\u001b[0m\u001b[0;34m,\u001b[0m \u001b[0;34m**\u001b[0m\u001b[0mkwargs\u001b[0m\u001b[0;34m)\u001b[0m  \u001b[0;31m# noqa\u001b[0m\u001b[0;34m\u001b[0m\u001b[0;34m\u001b[0m\u001b[0m\n\u001b[0m\u001b[1;32m    114\u001b[0m         \u001b[0;32melse\u001b[0m\u001b[0;34m:\u001b[0m\u001b[0;34m\u001b[0m\u001b[0;34m\u001b[0m\u001b[0m\n\u001b[1;32m    115\u001b[0m \u001b[0;34m\u001b[0m\u001b[0m\n",
            "\u001b[0;32m/usr/local/lib/python3.7/dist-packages/sklearn/pipeline.py\u001b[0m in \u001b[0;36mpredict\u001b[0;34m(self, X, **predict_params)\u001b[0m\n\u001b[1;32m    467\u001b[0m         \u001b[0mXt\u001b[0m \u001b[0;34m=\u001b[0m \u001b[0mX\u001b[0m\u001b[0;34m\u001b[0m\u001b[0;34m\u001b[0m\u001b[0m\n\u001b[1;32m    468\u001b[0m         \u001b[0;32mfor\u001b[0m \u001b[0m_\u001b[0m\u001b[0;34m,\u001b[0m \u001b[0mname\u001b[0m\u001b[0;34m,\u001b[0m \u001b[0mtransform\u001b[0m \u001b[0;32min\u001b[0m \u001b[0mself\u001b[0m\u001b[0;34m.\u001b[0m\u001b[0m_iter\u001b[0m\u001b[0;34m(\u001b[0m\u001b[0mwith_final\u001b[0m\u001b[0;34m=\u001b[0m\u001b[0;32mFalse\u001b[0m\u001b[0;34m)\u001b[0m\u001b[0;34m:\u001b[0m\u001b[0;34m\u001b[0m\u001b[0;34m\u001b[0m\u001b[0m\n\u001b[0;32m--> 469\u001b[0;31m             \u001b[0mXt\u001b[0m \u001b[0;34m=\u001b[0m \u001b[0mtransform\u001b[0m\u001b[0;34m.\u001b[0m\u001b[0mtransform\u001b[0m\u001b[0;34m(\u001b[0m\u001b[0mXt\u001b[0m\u001b[0;34m)\u001b[0m\u001b[0;34m\u001b[0m\u001b[0;34m\u001b[0m\u001b[0m\n\u001b[0m\u001b[1;32m    470\u001b[0m         \u001b[0;32mreturn\u001b[0m \u001b[0mself\u001b[0m\u001b[0;34m.\u001b[0m\u001b[0msteps\u001b[0m\u001b[0;34m[\u001b[0m\u001b[0;34m-\u001b[0m\u001b[0;36m1\u001b[0m\u001b[0;34m]\u001b[0m\u001b[0;34m[\u001b[0m\u001b[0;36m1\u001b[0m\u001b[0;34m]\u001b[0m\u001b[0;34m.\u001b[0m\u001b[0mpredict\u001b[0m\u001b[0;34m(\u001b[0m\u001b[0mXt\u001b[0m\u001b[0;34m,\u001b[0m \u001b[0;34m**\u001b[0m\u001b[0mpredict_params\u001b[0m\u001b[0;34m)\u001b[0m\u001b[0;34m\u001b[0m\u001b[0;34m\u001b[0m\u001b[0m\n\u001b[1;32m    471\u001b[0m \u001b[0;34m\u001b[0m\u001b[0m\n",
            "\u001b[0;32m/usr/local/lib/python3.7/dist-packages/sklearn/compose/_column_transformer.py\u001b[0m in \u001b[0;36mtransform\u001b[0;34m(self, X)\u001b[0m\n\u001b[1;32m    751\u001b[0m             \u001b[0m_transform_one\u001b[0m\u001b[0;34m,\u001b[0m\u001b[0;34m\u001b[0m\u001b[0;34m\u001b[0m\u001b[0m\n\u001b[1;32m    752\u001b[0m             \u001b[0mfitted\u001b[0m\u001b[0;34m=\u001b[0m\u001b[0;32mTrue\u001b[0m\u001b[0;34m,\u001b[0m\u001b[0;34m\u001b[0m\u001b[0;34m\u001b[0m\u001b[0m\n\u001b[0;32m--> 753\u001b[0;31m             \u001b[0mcolumn_as_strings\u001b[0m\u001b[0;34m=\u001b[0m\u001b[0mfit_dataframe_and_transform_dataframe\u001b[0m\u001b[0;34m,\u001b[0m\u001b[0;34m\u001b[0m\u001b[0;34m\u001b[0m\u001b[0m\n\u001b[0m\u001b[1;32m    754\u001b[0m         )\n\u001b[1;32m    755\u001b[0m         \u001b[0mself\u001b[0m\u001b[0;34m.\u001b[0m\u001b[0m_validate_output\u001b[0m\u001b[0;34m(\u001b[0m\u001b[0mXs\u001b[0m\u001b[0;34m)\u001b[0m\u001b[0;34m\u001b[0m\u001b[0;34m\u001b[0m\u001b[0m\n",
            "\u001b[0;32m/usr/local/lib/python3.7/dist-packages/sklearn/compose/_column_transformer.py\u001b[0m in \u001b[0;36m_fit_transform\u001b[0;34m(self, X, y, func, fitted, column_as_strings)\u001b[0m\n\u001b[1;32m    613\u001b[0m                     \u001b[0mmessage\u001b[0m\u001b[0;34m=\u001b[0m\u001b[0mself\u001b[0m\u001b[0;34m.\u001b[0m\u001b[0m_log_message\u001b[0m\u001b[0;34m(\u001b[0m\u001b[0mname\u001b[0m\u001b[0;34m,\u001b[0m \u001b[0midx\u001b[0m\u001b[0;34m,\u001b[0m \u001b[0mlen\u001b[0m\u001b[0;34m(\u001b[0m\u001b[0mtransformers\u001b[0m\u001b[0;34m)\u001b[0m\u001b[0;34m)\u001b[0m\u001b[0;34m,\u001b[0m\u001b[0;34m\u001b[0m\u001b[0;34m\u001b[0m\u001b[0m\n\u001b[1;32m    614\u001b[0m                 )\n\u001b[0;32m--> 615\u001b[0;31m                 \u001b[0;32mfor\u001b[0m \u001b[0midx\u001b[0m\u001b[0;34m,\u001b[0m \u001b[0;34m(\u001b[0m\u001b[0mname\u001b[0m\u001b[0;34m,\u001b[0m \u001b[0mtrans\u001b[0m\u001b[0;34m,\u001b[0m \u001b[0mcolumn\u001b[0m\u001b[0;34m,\u001b[0m \u001b[0mweight\u001b[0m\u001b[0;34m)\u001b[0m \u001b[0;32min\u001b[0m \u001b[0menumerate\u001b[0m\u001b[0;34m(\u001b[0m\u001b[0mtransformers\u001b[0m\u001b[0;34m,\u001b[0m \u001b[0;36m1\u001b[0m\u001b[0;34m)\u001b[0m\u001b[0;34m\u001b[0m\u001b[0;34m\u001b[0m\u001b[0m\n\u001b[0m\u001b[1;32m    616\u001b[0m             )\n\u001b[1;32m    617\u001b[0m         \u001b[0;32mexcept\u001b[0m \u001b[0mValueError\u001b[0m \u001b[0;32mas\u001b[0m \u001b[0me\u001b[0m\u001b[0;34m:\u001b[0m\u001b[0;34m\u001b[0m\u001b[0;34m\u001b[0m\u001b[0m\n",
            "\u001b[0;32m/usr/local/lib/python3.7/dist-packages/joblib/parallel.py\u001b[0m in \u001b[0;36m__call__\u001b[0;34m(self, iterable)\u001b[0m\n\u001b[1;32m   1083\u001b[0m             \u001b[0;31m# remaining jobs.\u001b[0m\u001b[0;34m\u001b[0m\u001b[0;34m\u001b[0m\u001b[0;34m\u001b[0m\u001b[0m\n\u001b[1;32m   1084\u001b[0m             \u001b[0mself\u001b[0m\u001b[0;34m.\u001b[0m\u001b[0m_iterating\u001b[0m \u001b[0;34m=\u001b[0m \u001b[0;32mFalse\u001b[0m\u001b[0;34m\u001b[0m\u001b[0;34m\u001b[0m\u001b[0m\n\u001b[0;32m-> 1085\u001b[0;31m             \u001b[0;32mif\u001b[0m \u001b[0mself\u001b[0m\u001b[0;34m.\u001b[0m\u001b[0mdispatch_one_batch\u001b[0m\u001b[0;34m(\u001b[0m\u001b[0miterator\u001b[0m\u001b[0;34m)\u001b[0m\u001b[0;34m:\u001b[0m\u001b[0;34m\u001b[0m\u001b[0;34m\u001b[0m\u001b[0m\n\u001b[0m\u001b[1;32m   1086\u001b[0m                 \u001b[0mself\u001b[0m\u001b[0;34m.\u001b[0m\u001b[0m_iterating\u001b[0m \u001b[0;34m=\u001b[0m \u001b[0mself\u001b[0m\u001b[0;34m.\u001b[0m\u001b[0m_original_iterator\u001b[0m \u001b[0;32mis\u001b[0m \u001b[0;32mnot\u001b[0m \u001b[0;32mNone\u001b[0m\u001b[0;34m\u001b[0m\u001b[0;34m\u001b[0m\u001b[0m\n\u001b[1;32m   1087\u001b[0m \u001b[0;34m\u001b[0m\u001b[0m\n",
            "\u001b[0;32m/usr/local/lib/python3.7/dist-packages/joblib/parallel.py\u001b[0m in \u001b[0;36mdispatch_one_batch\u001b[0;34m(self, iterator)\u001b[0m\n\u001b[1;32m    899\u001b[0m                 \u001b[0;32mreturn\u001b[0m \u001b[0;32mFalse\u001b[0m\u001b[0;34m\u001b[0m\u001b[0;34m\u001b[0m\u001b[0m\n\u001b[1;32m    900\u001b[0m             \u001b[0;32melse\u001b[0m\u001b[0;34m:\u001b[0m\u001b[0;34m\u001b[0m\u001b[0;34m\u001b[0m\u001b[0m\n\u001b[0;32m--> 901\u001b[0;31m                 \u001b[0mself\u001b[0m\u001b[0;34m.\u001b[0m\u001b[0m_dispatch\u001b[0m\u001b[0;34m(\u001b[0m\u001b[0mtasks\u001b[0m\u001b[0;34m)\u001b[0m\u001b[0;34m\u001b[0m\u001b[0;34m\u001b[0m\u001b[0m\n\u001b[0m\u001b[1;32m    902\u001b[0m                 \u001b[0;32mreturn\u001b[0m \u001b[0;32mTrue\u001b[0m\u001b[0;34m\u001b[0m\u001b[0;34m\u001b[0m\u001b[0m\n\u001b[1;32m    903\u001b[0m \u001b[0;34m\u001b[0m\u001b[0m\n",
            "\u001b[0;32m/usr/local/lib/python3.7/dist-packages/joblib/parallel.py\u001b[0m in \u001b[0;36m_dispatch\u001b[0;34m(self, batch)\u001b[0m\n\u001b[1;32m    817\u001b[0m         \u001b[0;32mwith\u001b[0m \u001b[0mself\u001b[0m\u001b[0;34m.\u001b[0m\u001b[0m_lock\u001b[0m\u001b[0;34m:\u001b[0m\u001b[0;34m\u001b[0m\u001b[0;34m\u001b[0m\u001b[0m\n\u001b[1;32m    818\u001b[0m             \u001b[0mjob_idx\u001b[0m \u001b[0;34m=\u001b[0m \u001b[0mlen\u001b[0m\u001b[0;34m(\u001b[0m\u001b[0mself\u001b[0m\u001b[0;34m.\u001b[0m\u001b[0m_jobs\u001b[0m\u001b[0;34m)\u001b[0m\u001b[0;34m\u001b[0m\u001b[0;34m\u001b[0m\u001b[0m\n\u001b[0;32m--> 819\u001b[0;31m             \u001b[0mjob\u001b[0m \u001b[0;34m=\u001b[0m \u001b[0mself\u001b[0m\u001b[0;34m.\u001b[0m\u001b[0m_backend\u001b[0m\u001b[0;34m.\u001b[0m\u001b[0mapply_async\u001b[0m\u001b[0;34m(\u001b[0m\u001b[0mbatch\u001b[0m\u001b[0;34m,\u001b[0m \u001b[0mcallback\u001b[0m\u001b[0;34m=\u001b[0m\u001b[0mcb\u001b[0m\u001b[0;34m)\u001b[0m\u001b[0;34m\u001b[0m\u001b[0;34m\u001b[0m\u001b[0m\n\u001b[0m\u001b[1;32m    820\u001b[0m             \u001b[0;31m# A job can complete so quickly than its callback is\u001b[0m\u001b[0;34m\u001b[0m\u001b[0;34m\u001b[0m\u001b[0;34m\u001b[0m\u001b[0m\n\u001b[1;32m    821\u001b[0m             \u001b[0;31m# called before we get here, causing self._jobs to\u001b[0m\u001b[0;34m\u001b[0m\u001b[0;34m\u001b[0m\u001b[0;34m\u001b[0m\u001b[0m\n",
            "\u001b[0;32m/usr/local/lib/python3.7/dist-packages/joblib/_parallel_backends.py\u001b[0m in \u001b[0;36mapply_async\u001b[0;34m(self, func, callback)\u001b[0m\n\u001b[1;32m    206\u001b[0m     \u001b[0;32mdef\u001b[0m \u001b[0mapply_async\u001b[0m\u001b[0;34m(\u001b[0m\u001b[0mself\u001b[0m\u001b[0;34m,\u001b[0m \u001b[0mfunc\u001b[0m\u001b[0;34m,\u001b[0m \u001b[0mcallback\u001b[0m\u001b[0;34m=\u001b[0m\u001b[0;32mNone\u001b[0m\u001b[0;34m)\u001b[0m\u001b[0;34m:\u001b[0m\u001b[0;34m\u001b[0m\u001b[0;34m\u001b[0m\u001b[0m\n\u001b[1;32m    207\u001b[0m         \u001b[0;34m\"\"\"Schedule a func to be run\"\"\"\u001b[0m\u001b[0;34m\u001b[0m\u001b[0;34m\u001b[0m\u001b[0m\n\u001b[0;32m--> 208\u001b[0;31m         \u001b[0mresult\u001b[0m \u001b[0;34m=\u001b[0m \u001b[0mImmediateResult\u001b[0m\u001b[0;34m(\u001b[0m\u001b[0mfunc\u001b[0m\u001b[0;34m)\u001b[0m\u001b[0;34m\u001b[0m\u001b[0;34m\u001b[0m\u001b[0m\n\u001b[0m\u001b[1;32m    209\u001b[0m         \u001b[0;32mif\u001b[0m \u001b[0mcallback\u001b[0m\u001b[0;34m:\u001b[0m\u001b[0;34m\u001b[0m\u001b[0;34m\u001b[0m\u001b[0m\n\u001b[1;32m    210\u001b[0m             \u001b[0mcallback\u001b[0m\u001b[0;34m(\u001b[0m\u001b[0mresult\u001b[0m\u001b[0;34m)\u001b[0m\u001b[0;34m\u001b[0m\u001b[0;34m\u001b[0m\u001b[0m\n",
            "\u001b[0;32m/usr/local/lib/python3.7/dist-packages/joblib/_parallel_backends.py\u001b[0m in \u001b[0;36m__init__\u001b[0;34m(self, batch)\u001b[0m\n\u001b[1;32m    595\u001b[0m         \u001b[0;31m# Don't delay the application, to avoid keeping the input\u001b[0m\u001b[0;34m\u001b[0m\u001b[0;34m\u001b[0m\u001b[0;34m\u001b[0m\u001b[0m\n\u001b[1;32m    596\u001b[0m         \u001b[0;31m# arguments in memory\u001b[0m\u001b[0;34m\u001b[0m\u001b[0;34m\u001b[0m\u001b[0;34m\u001b[0m\u001b[0m\n\u001b[0;32m--> 597\u001b[0;31m         \u001b[0mself\u001b[0m\u001b[0;34m.\u001b[0m\u001b[0mresults\u001b[0m \u001b[0;34m=\u001b[0m \u001b[0mbatch\u001b[0m\u001b[0;34m(\u001b[0m\u001b[0;34m)\u001b[0m\u001b[0;34m\u001b[0m\u001b[0;34m\u001b[0m\u001b[0m\n\u001b[0m\u001b[1;32m    598\u001b[0m \u001b[0;34m\u001b[0m\u001b[0m\n\u001b[1;32m    599\u001b[0m     \u001b[0;32mdef\u001b[0m \u001b[0mget\u001b[0m\u001b[0;34m(\u001b[0m\u001b[0mself\u001b[0m\u001b[0;34m)\u001b[0m\u001b[0;34m:\u001b[0m\u001b[0;34m\u001b[0m\u001b[0;34m\u001b[0m\u001b[0m\n",
            "\u001b[0;32m/usr/local/lib/python3.7/dist-packages/joblib/parallel.py\u001b[0m in \u001b[0;36m__call__\u001b[0;34m(self)\u001b[0m\n\u001b[1;32m    287\u001b[0m         \u001b[0;32mwith\u001b[0m \u001b[0mparallel_backend\u001b[0m\u001b[0;34m(\u001b[0m\u001b[0mself\u001b[0m\u001b[0;34m.\u001b[0m\u001b[0m_backend\u001b[0m\u001b[0;34m,\u001b[0m \u001b[0mn_jobs\u001b[0m\u001b[0;34m=\u001b[0m\u001b[0mself\u001b[0m\u001b[0;34m.\u001b[0m\u001b[0m_n_jobs\u001b[0m\u001b[0;34m)\u001b[0m\u001b[0;34m:\u001b[0m\u001b[0;34m\u001b[0m\u001b[0;34m\u001b[0m\u001b[0m\n\u001b[1;32m    288\u001b[0m             return [func(*args, **kwargs)\n\u001b[0;32m--> 289\u001b[0;31m                     for func, args, kwargs in self.items]\n\u001b[0m\u001b[1;32m    290\u001b[0m \u001b[0;34m\u001b[0m\u001b[0m\n\u001b[1;32m    291\u001b[0m     \u001b[0;32mdef\u001b[0m \u001b[0m__reduce__\u001b[0m\u001b[0;34m(\u001b[0m\u001b[0mself\u001b[0m\u001b[0;34m)\u001b[0m\u001b[0;34m:\u001b[0m\u001b[0;34m\u001b[0m\u001b[0;34m\u001b[0m\u001b[0m\n",
            "\u001b[0;32m/usr/local/lib/python3.7/dist-packages/joblib/parallel.py\u001b[0m in \u001b[0;36m<listcomp>\u001b[0;34m(.0)\u001b[0m\n\u001b[1;32m    287\u001b[0m         \u001b[0;32mwith\u001b[0m \u001b[0mparallel_backend\u001b[0m\u001b[0;34m(\u001b[0m\u001b[0mself\u001b[0m\u001b[0;34m.\u001b[0m\u001b[0m_backend\u001b[0m\u001b[0;34m,\u001b[0m \u001b[0mn_jobs\u001b[0m\u001b[0;34m=\u001b[0m\u001b[0mself\u001b[0m\u001b[0;34m.\u001b[0m\u001b[0m_n_jobs\u001b[0m\u001b[0;34m)\u001b[0m\u001b[0;34m:\u001b[0m\u001b[0;34m\u001b[0m\u001b[0;34m\u001b[0m\u001b[0m\n\u001b[1;32m    288\u001b[0m             return [func(*args, **kwargs)\n\u001b[0;32m--> 289\u001b[0;31m                     for func, args, kwargs in self.items]\n\u001b[0m\u001b[1;32m    290\u001b[0m \u001b[0;34m\u001b[0m\u001b[0m\n\u001b[1;32m    291\u001b[0m     \u001b[0;32mdef\u001b[0m \u001b[0m__reduce__\u001b[0m\u001b[0;34m(\u001b[0m\u001b[0mself\u001b[0m\u001b[0;34m)\u001b[0m\u001b[0;34m:\u001b[0m\u001b[0;34m\u001b[0m\u001b[0;34m\u001b[0m\u001b[0m\n",
            "\u001b[0;32m/usr/local/lib/python3.7/dist-packages/sklearn/utils/fixes.py\u001b[0m in \u001b[0;36m__call__\u001b[0;34m(self, *args, **kwargs)\u001b[0m\n\u001b[1;32m    214\u001b[0m     \u001b[0;32mdef\u001b[0m \u001b[0m__call__\u001b[0m\u001b[0;34m(\u001b[0m\u001b[0mself\u001b[0m\u001b[0;34m,\u001b[0m \u001b[0;34m*\u001b[0m\u001b[0margs\u001b[0m\u001b[0;34m,\u001b[0m \u001b[0;34m**\u001b[0m\u001b[0mkwargs\u001b[0m\u001b[0;34m)\u001b[0m\u001b[0;34m:\u001b[0m\u001b[0;34m\u001b[0m\u001b[0;34m\u001b[0m\u001b[0m\n\u001b[1;32m    215\u001b[0m         \u001b[0;32mwith\u001b[0m \u001b[0mconfig_context\u001b[0m\u001b[0;34m(\u001b[0m\u001b[0;34m**\u001b[0m\u001b[0mself\u001b[0m\u001b[0;34m.\u001b[0m\u001b[0mconfig\u001b[0m\u001b[0;34m)\u001b[0m\u001b[0;34m:\u001b[0m\u001b[0;34m\u001b[0m\u001b[0;34m\u001b[0m\u001b[0m\n\u001b[0;32m--> 216\u001b[0;31m             \u001b[0;32mreturn\u001b[0m \u001b[0mself\u001b[0m\u001b[0;34m.\u001b[0m\u001b[0mfunction\u001b[0m\u001b[0;34m(\u001b[0m\u001b[0;34m*\u001b[0m\u001b[0margs\u001b[0m\u001b[0;34m,\u001b[0m \u001b[0;34m**\u001b[0m\u001b[0mkwargs\u001b[0m\u001b[0;34m)\u001b[0m\u001b[0;34m\u001b[0m\u001b[0;34m\u001b[0m\u001b[0m\n\u001b[0m\u001b[1;32m    217\u001b[0m \u001b[0;34m\u001b[0m\u001b[0m\n\u001b[1;32m    218\u001b[0m \u001b[0;34m\u001b[0m\u001b[0m\n",
            "\u001b[0;32m/usr/local/lib/python3.7/dist-packages/sklearn/pipeline.py\u001b[0m in \u001b[0;36m_transform_one\u001b[0;34m(transformer, X, y, weight, **fit_params)\u001b[0m\n\u001b[1;32m    874\u001b[0m \u001b[0;34m\u001b[0m\u001b[0m\n\u001b[1;32m    875\u001b[0m \u001b[0;32mdef\u001b[0m \u001b[0m_transform_one\u001b[0m\u001b[0;34m(\u001b[0m\u001b[0mtransformer\u001b[0m\u001b[0;34m,\u001b[0m \u001b[0mX\u001b[0m\u001b[0;34m,\u001b[0m \u001b[0my\u001b[0m\u001b[0;34m,\u001b[0m \u001b[0mweight\u001b[0m\u001b[0;34m,\u001b[0m \u001b[0;34m**\u001b[0m\u001b[0mfit_params\u001b[0m\u001b[0;34m)\u001b[0m\u001b[0;34m:\u001b[0m\u001b[0;34m\u001b[0m\u001b[0;34m\u001b[0m\u001b[0m\n\u001b[0;32m--> 876\u001b[0;31m     \u001b[0mres\u001b[0m \u001b[0;34m=\u001b[0m \u001b[0mtransformer\u001b[0m\u001b[0;34m.\u001b[0m\u001b[0mtransform\u001b[0m\u001b[0;34m(\u001b[0m\u001b[0mX\u001b[0m\u001b[0;34m)\u001b[0m\u001b[0;34m\u001b[0m\u001b[0;34m\u001b[0m\u001b[0m\n\u001b[0m\u001b[1;32m    877\u001b[0m     \u001b[0;31m# if we have a weight for this transformer, multiply output\u001b[0m\u001b[0;34m\u001b[0m\u001b[0;34m\u001b[0m\u001b[0;34m\u001b[0m\u001b[0m\n\u001b[1;32m    878\u001b[0m     \u001b[0;32mif\u001b[0m \u001b[0mweight\u001b[0m \u001b[0;32mis\u001b[0m \u001b[0;32mNone\u001b[0m\u001b[0;34m:\u001b[0m\u001b[0;34m\u001b[0m\u001b[0;34m\u001b[0m\u001b[0m\n",
            "\u001b[0;32m/usr/local/lib/python3.7/dist-packages/sklearn/utils/metaestimators.py\u001b[0m in \u001b[0;36m<lambda>\u001b[0;34m(*args, **kwargs)\u001b[0m\n\u001b[1;32m    111\u001b[0m \u001b[0;34m\u001b[0m\u001b[0m\n\u001b[1;32m    112\u001b[0m             \u001b[0;31m# lambda, but not partial, allows help() to work with update_wrapper\u001b[0m\u001b[0;34m\u001b[0m\u001b[0;34m\u001b[0m\u001b[0;34m\u001b[0m\u001b[0m\n\u001b[0;32m--> 113\u001b[0;31m             \u001b[0mout\u001b[0m \u001b[0;34m=\u001b[0m \u001b[0;32mlambda\u001b[0m \u001b[0;34m*\u001b[0m\u001b[0margs\u001b[0m\u001b[0;34m,\u001b[0m \u001b[0;34m**\u001b[0m\u001b[0mkwargs\u001b[0m\u001b[0;34m:\u001b[0m \u001b[0mself\u001b[0m\u001b[0;34m.\u001b[0m\u001b[0mfn\u001b[0m\u001b[0;34m(\u001b[0m\u001b[0mobj\u001b[0m\u001b[0;34m,\u001b[0m \u001b[0;34m*\u001b[0m\u001b[0margs\u001b[0m\u001b[0;34m,\u001b[0m \u001b[0;34m**\u001b[0m\u001b[0mkwargs\u001b[0m\u001b[0;34m)\u001b[0m  \u001b[0;31m# noqa\u001b[0m\u001b[0;34m\u001b[0m\u001b[0;34m\u001b[0m\u001b[0m\n\u001b[0m\u001b[1;32m    114\u001b[0m         \u001b[0;32melse\u001b[0m\u001b[0;34m:\u001b[0m\u001b[0;34m\u001b[0m\u001b[0;34m\u001b[0m\u001b[0m\n\u001b[1;32m    115\u001b[0m \u001b[0;34m\u001b[0m\u001b[0m\n",
            "\u001b[0;32m/usr/local/lib/python3.7/dist-packages/sklearn/pipeline.py\u001b[0m in \u001b[0;36mtransform\u001b[0;34m(self, X)\u001b[0m\n\u001b[1;32m    645\u001b[0m         \u001b[0mXt\u001b[0m \u001b[0;34m=\u001b[0m \u001b[0mX\u001b[0m\u001b[0;34m\u001b[0m\u001b[0;34m\u001b[0m\u001b[0m\n\u001b[1;32m    646\u001b[0m         \u001b[0;32mfor\u001b[0m \u001b[0m_\u001b[0m\u001b[0;34m,\u001b[0m \u001b[0m_\u001b[0m\u001b[0;34m,\u001b[0m \u001b[0mtransform\u001b[0m \u001b[0;32min\u001b[0m \u001b[0mself\u001b[0m\u001b[0;34m.\u001b[0m\u001b[0m_iter\u001b[0m\u001b[0;34m(\u001b[0m\u001b[0;34m)\u001b[0m\u001b[0;34m:\u001b[0m\u001b[0;34m\u001b[0m\u001b[0;34m\u001b[0m\u001b[0m\n\u001b[0;32m--> 647\u001b[0;31m             \u001b[0mXt\u001b[0m \u001b[0;34m=\u001b[0m \u001b[0mtransform\u001b[0m\u001b[0;34m.\u001b[0m\u001b[0mtransform\u001b[0m\u001b[0;34m(\u001b[0m\u001b[0mXt\u001b[0m\u001b[0;34m)\u001b[0m\u001b[0;34m\u001b[0m\u001b[0;34m\u001b[0m\u001b[0m\n\u001b[0m\u001b[1;32m    648\u001b[0m         \u001b[0;32mreturn\u001b[0m \u001b[0mXt\u001b[0m\u001b[0;34m\u001b[0m\u001b[0;34m\u001b[0m\u001b[0m\n\u001b[1;32m    649\u001b[0m \u001b[0;34m\u001b[0m\u001b[0m\n",
            "\u001b[0;32m/usr/local/lib/python3.7/dist-packages/sklearn/preprocessing/_polynomial.py\u001b[0m in \u001b[0;36mtransform\u001b[0;34m(self, X)\u001b[0m\n\u001b[1;32m    368\u001b[0m \u001b[0;34m\u001b[0m\u001b[0m\n\u001b[1;32m    369\u001b[0m         X = self._validate_data(\n\u001b[0;32m--> 370\u001b[0;31m             \u001b[0mX\u001b[0m\u001b[0;34m,\u001b[0m \u001b[0morder\u001b[0m\u001b[0;34m=\u001b[0m\u001b[0;34m\"F\"\u001b[0m\u001b[0;34m,\u001b[0m \u001b[0mdtype\u001b[0m\u001b[0;34m=\u001b[0m\u001b[0mFLOAT_DTYPES\u001b[0m\u001b[0;34m,\u001b[0m \u001b[0mreset\u001b[0m\u001b[0;34m=\u001b[0m\u001b[0;32mFalse\u001b[0m\u001b[0;34m,\u001b[0m \u001b[0maccept_sparse\u001b[0m\u001b[0;34m=\u001b[0m\u001b[0;34m(\u001b[0m\u001b[0;34m\"csr\"\u001b[0m\u001b[0;34m,\u001b[0m \u001b[0;34m\"csc\"\u001b[0m\u001b[0;34m)\u001b[0m\u001b[0;34m\u001b[0m\u001b[0;34m\u001b[0m\u001b[0m\n\u001b[0m\u001b[1;32m    371\u001b[0m         )\n\u001b[1;32m    372\u001b[0m \u001b[0;34m\u001b[0m\u001b[0m\n",
            "\u001b[0;32m/usr/local/lib/python3.7/dist-packages/sklearn/base.py\u001b[0m in \u001b[0;36m_validate_data\u001b[0;34m(self, X, y, reset, validate_separately, **check_params)\u001b[0m\n\u001b[1;32m    564\u001b[0m             \u001b[0;32mraise\u001b[0m \u001b[0mValueError\u001b[0m\u001b[0;34m(\u001b[0m\u001b[0;34m\"Validation should be done on X, y or both.\"\u001b[0m\u001b[0;34m)\u001b[0m\u001b[0;34m\u001b[0m\u001b[0;34m\u001b[0m\u001b[0m\n\u001b[1;32m    565\u001b[0m         \u001b[0;32melif\u001b[0m \u001b[0;32mnot\u001b[0m \u001b[0mno_val_X\u001b[0m \u001b[0;32mand\u001b[0m \u001b[0mno_val_y\u001b[0m\u001b[0;34m:\u001b[0m\u001b[0;34m\u001b[0m\u001b[0;34m\u001b[0m\u001b[0m\n\u001b[0;32m--> 566\u001b[0;31m             \u001b[0mX\u001b[0m \u001b[0;34m=\u001b[0m \u001b[0mcheck_array\u001b[0m\u001b[0;34m(\u001b[0m\u001b[0mX\u001b[0m\u001b[0;34m,\u001b[0m \u001b[0;34m**\u001b[0m\u001b[0mcheck_params\u001b[0m\u001b[0;34m)\u001b[0m\u001b[0;34m\u001b[0m\u001b[0;34m\u001b[0m\u001b[0m\n\u001b[0m\u001b[1;32m    567\u001b[0m             \u001b[0mout\u001b[0m \u001b[0;34m=\u001b[0m \u001b[0mX\u001b[0m\u001b[0;34m\u001b[0m\u001b[0;34m\u001b[0m\u001b[0m\n\u001b[1;32m    568\u001b[0m         \u001b[0;32melif\u001b[0m \u001b[0mno_val_X\u001b[0m \u001b[0;32mand\u001b[0m \u001b[0;32mnot\u001b[0m \u001b[0mno_val_y\u001b[0m\u001b[0;34m:\u001b[0m\u001b[0;34m\u001b[0m\u001b[0;34m\u001b[0m\u001b[0m\n",
            "\u001b[0;32m/usr/local/lib/python3.7/dist-packages/sklearn/utils/validation.py\u001b[0m in \u001b[0;36mcheck_array\u001b[0;34m(array, accept_sparse, accept_large_sparse, dtype, order, copy, force_all_finite, ensure_2d, allow_nd, ensure_min_samples, ensure_min_features, estimator)\u001b[0m\n\u001b[1;32m    798\u001b[0m \u001b[0;34m\u001b[0m\u001b[0m\n\u001b[1;32m    799\u001b[0m         \u001b[0;32mif\u001b[0m \u001b[0mforce_all_finite\u001b[0m\u001b[0;34m:\u001b[0m\u001b[0;34m\u001b[0m\u001b[0;34m\u001b[0m\u001b[0m\n\u001b[0;32m--> 800\u001b[0;31m             \u001b[0m_assert_all_finite\u001b[0m\u001b[0;34m(\u001b[0m\u001b[0marray\u001b[0m\u001b[0;34m,\u001b[0m \u001b[0mallow_nan\u001b[0m\u001b[0;34m=\u001b[0m\u001b[0mforce_all_finite\u001b[0m \u001b[0;34m==\u001b[0m \u001b[0;34m\"allow-nan\"\u001b[0m\u001b[0;34m)\u001b[0m\u001b[0;34m\u001b[0m\u001b[0;34m\u001b[0m\u001b[0m\n\u001b[0m\u001b[1;32m    801\u001b[0m \u001b[0;34m\u001b[0m\u001b[0m\n\u001b[1;32m    802\u001b[0m     \u001b[0;32mif\u001b[0m \u001b[0mensure_min_samples\u001b[0m \u001b[0;34m>\u001b[0m \u001b[0;36m0\u001b[0m\u001b[0;34m:\u001b[0m\u001b[0;34m\u001b[0m\u001b[0;34m\u001b[0m\u001b[0m\n",
            "\u001b[0;32m/usr/local/lib/python3.7/dist-packages/sklearn/utils/validation.py\u001b[0m in \u001b[0;36m_assert_all_finite\u001b[0;34m(X, allow_nan, msg_dtype)\u001b[0m\n\u001b[1;32m    114\u001b[0m             raise ValueError(\n\u001b[1;32m    115\u001b[0m                 msg_err.format(\n\u001b[0;32m--> 116\u001b[0;31m                     \u001b[0mtype_err\u001b[0m\u001b[0;34m,\u001b[0m \u001b[0mmsg_dtype\u001b[0m \u001b[0;32mif\u001b[0m \u001b[0mmsg_dtype\u001b[0m \u001b[0;32mis\u001b[0m \u001b[0;32mnot\u001b[0m \u001b[0;32mNone\u001b[0m \u001b[0;32melse\u001b[0m \u001b[0mX\u001b[0m\u001b[0;34m.\u001b[0m\u001b[0mdtype\u001b[0m\u001b[0;34m\u001b[0m\u001b[0;34m\u001b[0m\u001b[0m\n\u001b[0m\u001b[1;32m    117\u001b[0m                 )\n\u001b[1;32m    118\u001b[0m             )\n",
            "\u001b[0;31mValueError\u001b[0m: Input contains NaN, infinity or a value too large for dtype('float64')."
          ]
        }
      ]
    }
  ]
}