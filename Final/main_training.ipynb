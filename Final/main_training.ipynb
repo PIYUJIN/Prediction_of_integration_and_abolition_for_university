{
  "nbformat": 4,
  "nbformat_minor": 0,
  "metadata": {
    "colab": {
      "provenance": [],
      "authorship_tag": "ABX9TyM4qnpCjxyHb+Csoh2Mk06k"
    },
    "kernelspec": {
      "name": "python3",
      "display_name": "Python 3"
    },
    "language_info": {
      "name": "python"
    }
  },
  "cells": [
    {
      "cell_type": "code",
      "execution_count": 1,
      "metadata": {
        "colab": {
          "base_uri": "https://localhost:8080/"
        },
        "id": "qYCGf2hGNF9l",
        "outputId": "f1a86047-1f1f-4884-fa94-06be38a492e4"
      },
      "outputs": [
        {
          "output_type": "stream",
          "name": "stdout",
          "text": [
            "Mounted at ./mount\n"
          ]
        }
      ],
      "source": [
        "# mount Drive to access data files\n",
        "\n",
        "from google.colab import drive\n",
        "drive.mount('./mount')"
      ]
    },
    {
      "cell_type": "code",
      "source": [
        "import pandas as pd\n",
        "\n",
        "# Importing dataset\n",
        "df = pd.read_excel('/content/mount/MyDrive/Colab Notebooks/2022/SeoulTech/Business Analytics/팀플/ba_maindata.csv')\n",
        "# Checking dataset\n",
        "df.head()"
      ],
      "metadata": {
        "colab": {
          "base_uri": "https://localhost:8080/",
          "height": 206
        },
        "id": "qwID5dK0PSrR",
        "outputId": "7f9dc445-e4b6-4915-ab3a-6cf412edf4f0"
      },
      "execution_count": 2,
      "outputs": [
        {
          "output_type": "execute_result",
          "data": {
            "text/plain": [
              "     연도  시도   대계열    중계열  모집인원_학부_계  지원자_전체_계  Gov_Spnsorship  awareness  \\\n",
              "0  2015  강원  인문계열  언어ㆍ문학         38       238               1          7   \n",
              "1  2015  강원  인문계열  언어ㆍ문학         27       154               1          7   \n",
              "2  2015  강원  인문계열  언어ㆍ문학         38       193               1          7   \n",
              "3  2015  강원  인문계열  언어ㆍ문학         23       118               1          7   \n",
              "4  2015  강원  인문계열   인문과학         27       174               1          2   \n",
              "\n",
              "           학교_학과명  competition_rate  Total_fertility_rate  Net_Mover  \\\n",
              "0  강릉원주대학교_국어국문학과          6.263158                 1.311       4773   \n",
              "1  강릉원주대학교_중어중문학과          5.703704                 1.311       4773   \n",
              "2  강릉원주대학교_영어영문학과          5.078947                 1.311       4773   \n",
              "3  강릉원주대학교_독어독문학과          5.130435                 1.311       4773   \n",
              "4     강릉원주대학교_사학과          6.444444                 1.311       4773   \n",
              "\n",
              "   immigration  schoolage  \n",
              "0         1200       2755  \n",
              "1         1200       2755  \n",
              "2         1200       2755  \n",
              "3         1200       2755  \n",
              "4         1200       2755  "
            ],
            "text/html": [
              "\n",
              "  <div id=\"df-aa43d1c4-7826-4601-a004-28fd334380db\">\n",
              "    <div class=\"colab-df-container\">\n",
              "      <div>\n",
              "<style scoped>\n",
              "    .dataframe tbody tr th:only-of-type {\n",
              "        vertical-align: middle;\n",
              "    }\n",
              "\n",
              "    .dataframe tbody tr th {\n",
              "        vertical-align: top;\n",
              "    }\n",
              "\n",
              "    .dataframe thead th {\n",
              "        text-align: right;\n",
              "    }\n",
              "</style>\n",
              "<table border=\"1\" class=\"dataframe\">\n",
              "  <thead>\n",
              "    <tr style=\"text-align: right;\">\n",
              "      <th></th>\n",
              "      <th>연도</th>\n",
              "      <th>시도</th>\n",
              "      <th>대계열</th>\n",
              "      <th>중계열</th>\n",
              "      <th>모집인원_학부_계</th>\n",
              "      <th>지원자_전체_계</th>\n",
              "      <th>Gov_Spnsorship</th>\n",
              "      <th>awareness</th>\n",
              "      <th>학교_학과명</th>\n",
              "      <th>competition_rate</th>\n",
              "      <th>Total_fertility_rate</th>\n",
              "      <th>Net_Mover</th>\n",
              "      <th>immigration</th>\n",
              "      <th>schoolage</th>\n",
              "    </tr>\n",
              "  </thead>\n",
              "  <tbody>\n",
              "    <tr>\n",
              "      <th>0</th>\n",
              "      <td>2015</td>\n",
              "      <td>강원</td>\n",
              "      <td>인문계열</td>\n",
              "      <td>언어ㆍ문학</td>\n",
              "      <td>38</td>\n",
              "      <td>238</td>\n",
              "      <td>1</td>\n",
              "      <td>7</td>\n",
              "      <td>강릉원주대학교_국어국문학과</td>\n",
              "      <td>6.263158</td>\n",
              "      <td>1.311</td>\n",
              "      <td>4773</td>\n",
              "      <td>1200</td>\n",
              "      <td>2755</td>\n",
              "    </tr>\n",
              "    <tr>\n",
              "      <th>1</th>\n",
              "      <td>2015</td>\n",
              "      <td>강원</td>\n",
              "      <td>인문계열</td>\n",
              "      <td>언어ㆍ문학</td>\n",
              "      <td>27</td>\n",
              "      <td>154</td>\n",
              "      <td>1</td>\n",
              "      <td>7</td>\n",
              "      <td>강릉원주대학교_중어중문학과</td>\n",
              "      <td>5.703704</td>\n",
              "      <td>1.311</td>\n",
              "      <td>4773</td>\n",
              "      <td>1200</td>\n",
              "      <td>2755</td>\n",
              "    </tr>\n",
              "    <tr>\n",
              "      <th>2</th>\n",
              "      <td>2015</td>\n",
              "      <td>강원</td>\n",
              "      <td>인문계열</td>\n",
              "      <td>언어ㆍ문학</td>\n",
              "      <td>38</td>\n",
              "      <td>193</td>\n",
              "      <td>1</td>\n",
              "      <td>7</td>\n",
              "      <td>강릉원주대학교_영어영문학과</td>\n",
              "      <td>5.078947</td>\n",
              "      <td>1.311</td>\n",
              "      <td>4773</td>\n",
              "      <td>1200</td>\n",
              "      <td>2755</td>\n",
              "    </tr>\n",
              "    <tr>\n",
              "      <th>3</th>\n",
              "      <td>2015</td>\n",
              "      <td>강원</td>\n",
              "      <td>인문계열</td>\n",
              "      <td>언어ㆍ문학</td>\n",
              "      <td>23</td>\n",
              "      <td>118</td>\n",
              "      <td>1</td>\n",
              "      <td>7</td>\n",
              "      <td>강릉원주대학교_독어독문학과</td>\n",
              "      <td>5.130435</td>\n",
              "      <td>1.311</td>\n",
              "      <td>4773</td>\n",
              "      <td>1200</td>\n",
              "      <td>2755</td>\n",
              "    </tr>\n",
              "    <tr>\n",
              "      <th>4</th>\n",
              "      <td>2015</td>\n",
              "      <td>강원</td>\n",
              "      <td>인문계열</td>\n",
              "      <td>인문과학</td>\n",
              "      <td>27</td>\n",
              "      <td>174</td>\n",
              "      <td>1</td>\n",
              "      <td>2</td>\n",
              "      <td>강릉원주대학교_사학과</td>\n",
              "      <td>6.444444</td>\n",
              "      <td>1.311</td>\n",
              "      <td>4773</td>\n",
              "      <td>1200</td>\n",
              "      <td>2755</td>\n",
              "    </tr>\n",
              "  </tbody>\n",
              "</table>\n",
              "</div>\n",
              "      <button class=\"colab-df-convert\" onclick=\"convertToInteractive('df-aa43d1c4-7826-4601-a004-28fd334380db')\"\n",
              "              title=\"Convert this dataframe to an interactive table.\"\n",
              "              style=\"display:none;\">\n",
              "        \n",
              "  <svg xmlns=\"http://www.w3.org/2000/svg\" height=\"24px\"viewBox=\"0 0 24 24\"\n",
              "       width=\"24px\">\n",
              "    <path d=\"M0 0h24v24H0V0z\" fill=\"none\"/>\n",
              "    <path d=\"M18.56 5.44l.94 2.06.94-2.06 2.06-.94-2.06-.94-.94-2.06-.94 2.06-2.06.94zm-11 1L8.5 8.5l.94-2.06 2.06-.94-2.06-.94L8.5 2.5l-.94 2.06-2.06.94zm10 10l.94 2.06.94-2.06 2.06-.94-2.06-.94-.94-2.06-.94 2.06-2.06.94z\"/><path d=\"M17.41 7.96l-1.37-1.37c-.4-.4-.92-.59-1.43-.59-.52 0-1.04.2-1.43.59L10.3 9.45l-7.72 7.72c-.78.78-.78 2.05 0 2.83L4 21.41c.39.39.9.59 1.41.59.51 0 1.02-.2 1.41-.59l7.78-7.78 2.81-2.81c.8-.78.8-2.07 0-2.86zM5.41 20L4 18.59l7.72-7.72 1.47 1.35L5.41 20z\"/>\n",
              "  </svg>\n",
              "      </button>\n",
              "      \n",
              "  <style>\n",
              "    .colab-df-container {\n",
              "      display:flex;\n",
              "      flex-wrap:wrap;\n",
              "      gap: 12px;\n",
              "    }\n",
              "\n",
              "    .colab-df-convert {\n",
              "      background-color: #E8F0FE;\n",
              "      border: none;\n",
              "      border-radius: 50%;\n",
              "      cursor: pointer;\n",
              "      display: none;\n",
              "      fill: #1967D2;\n",
              "      height: 32px;\n",
              "      padding: 0 0 0 0;\n",
              "      width: 32px;\n",
              "    }\n",
              "\n",
              "    .colab-df-convert:hover {\n",
              "      background-color: #E2EBFA;\n",
              "      box-shadow: 0px 1px 2px rgba(60, 64, 67, 0.3), 0px 1px 3px 1px rgba(60, 64, 67, 0.15);\n",
              "      fill: #174EA6;\n",
              "    }\n",
              "\n",
              "    [theme=dark] .colab-df-convert {\n",
              "      background-color: #3B4455;\n",
              "      fill: #D2E3FC;\n",
              "    }\n",
              "\n",
              "    [theme=dark] .colab-df-convert:hover {\n",
              "      background-color: #434B5C;\n",
              "      box-shadow: 0px 1px 3px 1px rgba(0, 0, 0, 0.15);\n",
              "      filter: drop-shadow(0px 1px 2px rgba(0, 0, 0, 0.3));\n",
              "      fill: #FFFFFF;\n",
              "    }\n",
              "  </style>\n",
              "\n",
              "      <script>\n",
              "        const buttonEl =\n",
              "          document.querySelector('#df-aa43d1c4-7826-4601-a004-28fd334380db button.colab-df-convert');\n",
              "        buttonEl.style.display =\n",
              "          google.colab.kernel.accessAllowed ? 'block' : 'none';\n",
              "\n",
              "        async function convertToInteractive(key) {\n",
              "          const element = document.querySelector('#df-aa43d1c4-7826-4601-a004-28fd334380db');\n",
              "          const dataTable =\n",
              "            await google.colab.kernel.invokeFunction('convertToInteractive',\n",
              "                                                     [key], {});\n",
              "          if (!dataTable) return;\n",
              "\n",
              "          const docLinkHtml = 'Like what you see? Visit the ' +\n",
              "            '<a target=\"_blank\" href=https://colab.research.google.com/notebooks/data_table.ipynb>data table notebook</a>'\n",
              "            + ' to learn more about interactive tables.';\n",
              "          element.innerHTML = '';\n",
              "          dataTable['output_type'] = 'display_data';\n",
              "          await google.colab.output.renderOutput(dataTable, element);\n",
              "          const docLink = document.createElement('div');\n",
              "          docLink.innerHTML = docLinkHtml;\n",
              "          element.appendChild(docLink);\n",
              "        }\n",
              "      </script>\n",
              "    </div>\n",
              "  </div>\n",
              "  "
            ]
          },
          "metadata": {},
          "execution_count": 2
        }
      ]
    },
    {
      "cell_type": "code",
      "source": [
        "# Checking categorical data's unique value\n",
        "\n",
        "print(df['연도'].unique())\n",
        "print(df['시도'].unique())\n",
        "print(df['대계열'].unique())\n",
        "print(df['중계열'].unique())\n",
        "print(df['Gov_Spnsorship'].unique())\n",
        "print(df['awareness'].unique())"
      ],
      "metadata": {
        "colab": {
          "base_uri": "https://localhost:8080/"
        },
        "id": "NxdEQoOiQfqL",
        "outputId": "d9da3bb5-8ee1-4dd8-dbae-1b8170ba88fc"
      },
      "execution_count": 3,
      "outputs": [
        {
          "output_type": "stream",
          "name": "stdout",
          "text": [
            "[2015 2016 2017 2018 2019 2020 2021]\n",
            "['강원' '대구' '충남' '전북' '경북' '전남' '부산' '서울' '광주' '제주' '경남' '대전' '충북' '경기'\n",
            " '인천' '세종' '울산']\n",
            "['인문계열' '사회계열' '공학계열' '자연계열' '의약계열' '예체능계열' '교육계열']\n",
            "['언어ㆍ문학' '인문과학' '경영ㆍ경제' '법률' '사회과학' '토목ㆍ도시' '전기ㆍ전자' '소재ㆍ재료' '생물ㆍ화학ㆍ환경'\n",
            " '생활과학' '수학ㆍ물리ㆍ천문ㆍ지리' '의료' '디자인' '무용ㆍ체육' '음악' '유아교육' '컴퓨터ㆍ통신' '산업' '간호'\n",
            " '교육일반' '중등교육' '응용예술' '미술ㆍ조형' '정밀ㆍ에너지' '기타' '치료ㆍ보건' '연극ㆍ영화' '건축' '기계ㆍ금속'\n",
            " '화공' '농림ㆍ수산' '특수교육' '교통ㆍ운송' '초등교육' '약학']\n",
            "[1 0]\n",
            "[ 7  2 10  0  9  4  6  3  1  5  8]\n"
          ]
        }
      ]
    },
    {
      "cell_type": "code",
      "source": [
        "X = df[['연도','시도','대계열','중계열','모집인원_학부_계','Gov_Spnsorship','awareness','Total_fertility_rate','Net_Mover','immigration','schoolage']]\n",
        "X"
      ],
      "metadata": {
        "colab": {
          "base_uri": "https://localhost:8080/",
          "height": 424
        },
        "id": "lmQSFwocS73o",
        "outputId": "fcb20c2c-b65d-441e-818d-4bd68c1c2e4a"
      },
      "execution_count": 4,
      "outputs": [
        {
          "output_type": "execute_result",
          "data": {
            "text/plain": [
              "         연도  시도    대계열    중계열  모집인원_학부_계  Gov_Spnsorship  awareness  \\\n",
              "0      2015  강원   인문계열  언어ㆍ문학         38               1          7   \n",
              "1      2015  강원   인문계열  언어ㆍ문학         27               1          7   \n",
              "2      2015  강원   인문계열  언어ㆍ문학         38               1          7   \n",
              "3      2015  강원   인문계열  언어ㆍ문학         23               1          7   \n",
              "4      2015  강원   인문계열   인문과학         27               1          2   \n",
              "...     ...  ..    ...    ...        ...             ...        ...   \n",
              "26014  2021  대구   자연계열   생활과학        220               0          0   \n",
              "26015  2021  충남   인문계열   인문과학         16               0          0   \n",
              "26016  2021  충남   공학계열     건축         21               0          7   \n",
              "26017  2021  충남   공학계열     건축         16               0          7   \n",
              "26018  2021  충남  예체능계열   응용예술         41               0          9   \n",
              "\n",
              "       Total_fertility_rate  Net_Mover  immigration  schoolage  \n",
              "0                     1.311       4773         1200       2755  \n",
              "1                     1.311       4773         1200       2755  \n",
              "2                     1.311       4773         1200       2755  \n",
              "3                     1.311       4773         1200       2755  \n",
              "4                     1.311       4773         1200       2755  \n",
              "...                     ...        ...          ...        ...  \n",
              "26014                 0.785     -24319         1098       2258  \n",
              "26015                 0.963       8522          972       2258  \n",
              "26016                 0.963       8522          972       2258  \n",
              "26017                 0.963       8522          972       2258  \n",
              "26018                 0.963       8522          972       2258  \n",
              "\n",
              "[26019 rows x 11 columns]"
            ],
            "text/html": [
              "\n",
              "  <div id=\"df-4a86f40b-613f-4287-a3f4-2f2e6e486030\">\n",
              "    <div class=\"colab-df-container\">\n",
              "      <div>\n",
              "<style scoped>\n",
              "    .dataframe tbody tr th:only-of-type {\n",
              "        vertical-align: middle;\n",
              "    }\n",
              "\n",
              "    .dataframe tbody tr th {\n",
              "        vertical-align: top;\n",
              "    }\n",
              "\n",
              "    .dataframe thead th {\n",
              "        text-align: right;\n",
              "    }\n",
              "</style>\n",
              "<table border=\"1\" class=\"dataframe\">\n",
              "  <thead>\n",
              "    <tr style=\"text-align: right;\">\n",
              "      <th></th>\n",
              "      <th>연도</th>\n",
              "      <th>시도</th>\n",
              "      <th>대계열</th>\n",
              "      <th>중계열</th>\n",
              "      <th>모집인원_학부_계</th>\n",
              "      <th>Gov_Spnsorship</th>\n",
              "      <th>awareness</th>\n",
              "      <th>Total_fertility_rate</th>\n",
              "      <th>Net_Mover</th>\n",
              "      <th>immigration</th>\n",
              "      <th>schoolage</th>\n",
              "    </tr>\n",
              "  </thead>\n",
              "  <tbody>\n",
              "    <tr>\n",
              "      <th>0</th>\n",
              "      <td>2015</td>\n",
              "      <td>강원</td>\n",
              "      <td>인문계열</td>\n",
              "      <td>언어ㆍ문학</td>\n",
              "      <td>38</td>\n",
              "      <td>1</td>\n",
              "      <td>7</td>\n",
              "      <td>1.311</td>\n",
              "      <td>4773</td>\n",
              "      <td>1200</td>\n",
              "      <td>2755</td>\n",
              "    </tr>\n",
              "    <tr>\n",
              "      <th>1</th>\n",
              "      <td>2015</td>\n",
              "      <td>강원</td>\n",
              "      <td>인문계열</td>\n",
              "      <td>언어ㆍ문학</td>\n",
              "      <td>27</td>\n",
              "      <td>1</td>\n",
              "      <td>7</td>\n",
              "      <td>1.311</td>\n",
              "      <td>4773</td>\n",
              "      <td>1200</td>\n",
              "      <td>2755</td>\n",
              "    </tr>\n",
              "    <tr>\n",
              "      <th>2</th>\n",
              "      <td>2015</td>\n",
              "      <td>강원</td>\n",
              "      <td>인문계열</td>\n",
              "      <td>언어ㆍ문학</td>\n",
              "      <td>38</td>\n",
              "      <td>1</td>\n",
              "      <td>7</td>\n",
              "      <td>1.311</td>\n",
              "      <td>4773</td>\n",
              "      <td>1200</td>\n",
              "      <td>2755</td>\n",
              "    </tr>\n",
              "    <tr>\n",
              "      <th>3</th>\n",
              "      <td>2015</td>\n",
              "      <td>강원</td>\n",
              "      <td>인문계열</td>\n",
              "      <td>언어ㆍ문학</td>\n",
              "      <td>23</td>\n",
              "      <td>1</td>\n",
              "      <td>7</td>\n",
              "      <td>1.311</td>\n",
              "      <td>4773</td>\n",
              "      <td>1200</td>\n",
              "      <td>2755</td>\n",
              "    </tr>\n",
              "    <tr>\n",
              "      <th>4</th>\n",
              "      <td>2015</td>\n",
              "      <td>강원</td>\n",
              "      <td>인문계열</td>\n",
              "      <td>인문과학</td>\n",
              "      <td>27</td>\n",
              "      <td>1</td>\n",
              "      <td>2</td>\n",
              "      <td>1.311</td>\n",
              "      <td>4773</td>\n",
              "      <td>1200</td>\n",
              "      <td>2755</td>\n",
              "    </tr>\n",
              "    <tr>\n",
              "      <th>...</th>\n",
              "      <td>...</td>\n",
              "      <td>...</td>\n",
              "      <td>...</td>\n",
              "      <td>...</td>\n",
              "      <td>...</td>\n",
              "      <td>...</td>\n",
              "      <td>...</td>\n",
              "      <td>...</td>\n",
              "      <td>...</td>\n",
              "      <td>...</td>\n",
              "      <td>...</td>\n",
              "    </tr>\n",
              "    <tr>\n",
              "      <th>26014</th>\n",
              "      <td>2021</td>\n",
              "      <td>대구</td>\n",
              "      <td>자연계열</td>\n",
              "      <td>생활과학</td>\n",
              "      <td>220</td>\n",
              "      <td>0</td>\n",
              "      <td>0</td>\n",
              "      <td>0.785</td>\n",
              "      <td>-24319</td>\n",
              "      <td>1098</td>\n",
              "      <td>2258</td>\n",
              "    </tr>\n",
              "    <tr>\n",
              "      <th>26015</th>\n",
              "      <td>2021</td>\n",
              "      <td>충남</td>\n",
              "      <td>인문계열</td>\n",
              "      <td>인문과학</td>\n",
              "      <td>16</td>\n",
              "      <td>0</td>\n",
              "      <td>0</td>\n",
              "      <td>0.963</td>\n",
              "      <td>8522</td>\n",
              "      <td>972</td>\n",
              "      <td>2258</td>\n",
              "    </tr>\n",
              "    <tr>\n",
              "      <th>26016</th>\n",
              "      <td>2021</td>\n",
              "      <td>충남</td>\n",
              "      <td>공학계열</td>\n",
              "      <td>건축</td>\n",
              "      <td>21</td>\n",
              "      <td>0</td>\n",
              "      <td>7</td>\n",
              "      <td>0.963</td>\n",
              "      <td>8522</td>\n",
              "      <td>972</td>\n",
              "      <td>2258</td>\n",
              "    </tr>\n",
              "    <tr>\n",
              "      <th>26017</th>\n",
              "      <td>2021</td>\n",
              "      <td>충남</td>\n",
              "      <td>공학계열</td>\n",
              "      <td>건축</td>\n",
              "      <td>16</td>\n",
              "      <td>0</td>\n",
              "      <td>7</td>\n",
              "      <td>0.963</td>\n",
              "      <td>8522</td>\n",
              "      <td>972</td>\n",
              "      <td>2258</td>\n",
              "    </tr>\n",
              "    <tr>\n",
              "      <th>26018</th>\n",
              "      <td>2021</td>\n",
              "      <td>충남</td>\n",
              "      <td>예체능계열</td>\n",
              "      <td>응용예술</td>\n",
              "      <td>41</td>\n",
              "      <td>0</td>\n",
              "      <td>9</td>\n",
              "      <td>0.963</td>\n",
              "      <td>8522</td>\n",
              "      <td>972</td>\n",
              "      <td>2258</td>\n",
              "    </tr>\n",
              "  </tbody>\n",
              "</table>\n",
              "<p>26019 rows × 11 columns</p>\n",
              "</div>\n",
              "      <button class=\"colab-df-convert\" onclick=\"convertToInteractive('df-4a86f40b-613f-4287-a3f4-2f2e6e486030')\"\n",
              "              title=\"Convert this dataframe to an interactive table.\"\n",
              "              style=\"display:none;\">\n",
              "        \n",
              "  <svg xmlns=\"http://www.w3.org/2000/svg\" height=\"24px\"viewBox=\"0 0 24 24\"\n",
              "       width=\"24px\">\n",
              "    <path d=\"M0 0h24v24H0V0z\" fill=\"none\"/>\n",
              "    <path d=\"M18.56 5.44l.94 2.06.94-2.06 2.06-.94-2.06-.94-.94-2.06-.94 2.06-2.06.94zm-11 1L8.5 8.5l.94-2.06 2.06-.94-2.06-.94L8.5 2.5l-.94 2.06-2.06.94zm10 10l.94 2.06.94-2.06 2.06-.94-2.06-.94-.94-2.06-.94 2.06-2.06.94z\"/><path d=\"M17.41 7.96l-1.37-1.37c-.4-.4-.92-.59-1.43-.59-.52 0-1.04.2-1.43.59L10.3 9.45l-7.72 7.72c-.78.78-.78 2.05 0 2.83L4 21.41c.39.39.9.59 1.41.59.51 0 1.02-.2 1.41-.59l7.78-7.78 2.81-2.81c.8-.78.8-2.07 0-2.86zM5.41 20L4 18.59l7.72-7.72 1.47 1.35L5.41 20z\"/>\n",
              "  </svg>\n",
              "      </button>\n",
              "      \n",
              "  <style>\n",
              "    .colab-df-container {\n",
              "      display:flex;\n",
              "      flex-wrap:wrap;\n",
              "      gap: 12px;\n",
              "    }\n",
              "\n",
              "    .colab-df-convert {\n",
              "      background-color: #E8F0FE;\n",
              "      border: none;\n",
              "      border-radius: 50%;\n",
              "      cursor: pointer;\n",
              "      display: none;\n",
              "      fill: #1967D2;\n",
              "      height: 32px;\n",
              "      padding: 0 0 0 0;\n",
              "      width: 32px;\n",
              "    }\n",
              "\n",
              "    .colab-df-convert:hover {\n",
              "      background-color: #E2EBFA;\n",
              "      box-shadow: 0px 1px 2px rgba(60, 64, 67, 0.3), 0px 1px 3px 1px rgba(60, 64, 67, 0.15);\n",
              "      fill: #174EA6;\n",
              "    }\n",
              "\n",
              "    [theme=dark] .colab-df-convert {\n",
              "      background-color: #3B4455;\n",
              "      fill: #D2E3FC;\n",
              "    }\n",
              "\n",
              "    [theme=dark] .colab-df-convert:hover {\n",
              "      background-color: #434B5C;\n",
              "      box-shadow: 0px 1px 3px 1px rgba(0, 0, 0, 0.15);\n",
              "      filter: drop-shadow(0px 1px 2px rgba(0, 0, 0, 0.3));\n",
              "      fill: #FFFFFF;\n",
              "    }\n",
              "  </style>\n",
              "\n",
              "      <script>\n",
              "        const buttonEl =\n",
              "          document.querySelector('#df-4a86f40b-613f-4287-a3f4-2f2e6e486030 button.colab-df-convert');\n",
              "        buttonEl.style.display =\n",
              "          google.colab.kernel.accessAllowed ? 'block' : 'none';\n",
              "\n",
              "        async function convertToInteractive(key) {\n",
              "          const element = document.querySelector('#df-4a86f40b-613f-4287-a3f4-2f2e6e486030');\n",
              "          const dataTable =\n",
              "            await google.colab.kernel.invokeFunction('convertToInteractive',\n",
              "                                                     [key], {});\n",
              "          if (!dataTable) return;\n",
              "\n",
              "          const docLinkHtml = 'Like what you see? Visit the ' +\n",
              "            '<a target=\"_blank\" href=https://colab.research.google.com/notebooks/data_table.ipynb>data table notebook</a>'\n",
              "            + ' to learn more about interactive tables.';\n",
              "          element.innerHTML = '';\n",
              "          dataTable['output_type'] = 'display_data';\n",
              "          await google.colab.output.renderOutput(dataTable, element);\n",
              "          const docLink = document.createElement('div');\n",
              "          docLink.innerHTML = docLinkHtml;\n",
              "          element.appendChild(docLink);\n",
              "        }\n",
              "      </script>\n",
              "    </div>\n",
              "  </div>\n",
              "  "
            ]
          },
          "metadata": {},
          "execution_count": 4
        }
      ]
    },
    {
      "cell_type": "code",
      "source": [
        "y = df[['지원자_전체_계']]"
      ],
      "metadata": {
        "id": "8n27fdjBcCoB"
      },
      "execution_count": 5,
      "outputs": []
    },
    {
      "cell_type": "code",
      "source": [
        "# Spliting Dataset\n",
        "\n",
        "from sklearn.model_selection import GridSearchCV, train_test_split\n",
        "from sklearn.model_selection import ShuffleSplit,KFold\n",
        "\n",
        "X_trainval, X_test, y_trainval, y_test = train_test_split(X,y,random_state = 0, test_size=0.2)\n",
        "\n",
        "X_train, X_valid, y_train, y_valid = train_test_split(X_trainval, y_trainval, random_state = 0, test_size = 0.2)\n",
        "\n",
        "cv = KFold(n_splits = 5, shuffle = True, random_state = 42)"
      ],
      "metadata": {
        "id": "q_NyQHsgcN2v"
      },
      "execution_count": 8,
      "outputs": []
    },
    {
      "cell_type": "code",
      "source": [
        "from sklearn.pipeline import Pipeline\n",
        "from sklearn.preprocessing import StandardScaler\n",
        "from sklearn.preprocessing import OneHotEncoder\n",
        "from sklearn.preprocessing import PolynomialFeatures\n",
        "\n",
        "# Numeric Values\n",
        "num_features = ['모집인원_학부_계','Total_fertility_rate','Net_Mover','immigration','schoolage']\n",
        "# num_transformer = Pipeline([('scaler',StandardScaler()),('poly',PolynomialFeatures())])\n",
        "num_transformer = Pipeline([('poly',PolynomialFeatures(degree=2,include_bias=False)),('scaler',StandardScaler())])\n",
        "\n",
        "# Categorical Values\n",
        "cat_features = ['연도','시도','대계열','중계열','Gov_Spnsorship','awareness']\n",
        "cat_transformer = OneHotEncoder(handle_unknown='ignore')"
      ],
      "metadata": {
        "id": "hByo0yWfhMtj"
      },
      "execution_count": 9,
      "outputs": []
    },
    {
      "cell_type": "code",
      "source": [
        "# Combining preprocessing pipeline for numeric and categorical values\n",
        "\n",
        "from sklearn.compose import ColumnTransformer\n",
        "\n",
        "preprocessor = ColumnTransformer(\n",
        "    transformers = [\n",
        "        (\"num\", num_transformer, num_features),(\"cat\",cat_transformer, cat_features)]\n",
        ")"
      ],
      "metadata": {
        "id": "Ewx8-3UEizCQ"
      },
      "execution_count": 10,
      "outputs": []
    },
    {
      "cell_type": "code",
      "source": [
        "from sklearn.linear_model import LinearRegression, Ridge, Lasso\n",
        "\n",
        "\n",
        "pipe_linear = Pipeline([(\"preprocessor\", preprocessor),('fit',LinearRegression())])\n",
        "grid_params_linear = [{\"fit__fit_intercept\" : [True, False]}]"
      ],
      "metadata": {
        "id": "TYKbvQPtjW49"
      },
      "execution_count": 11,
      "outputs": []
    },
    {
      "cell_type": "code",
      "source": [
        "# Evaluation metrics : R2\n",
        "\n",
        "model_r2 = {}\n",
        "model_best_params = {}\n",
        "model_best_score = {}"
      ],
      "metadata": {
        "id": "QzTs8VzIhCvv"
      },
      "execution_count": 48,
      "outputs": []
    },
    {
      "cell_type": "code",
      "source": [
        "# Linear Regression\n",
        "\n",
        "from sklearn.metrics import r2_score\n",
        "from sklearn.metrics import mean_squared_error\n",
        "\n",
        "\n",
        "search = GridSearchCV(pipe_linear, grid_params_linear, scoring = 'r2', cv = cv, n_jobs = 2, verbose=-1)\n",
        "search.fit(X_train,y_train)\n",
        "y_pred = search.predict(X_valid)\n",
        "# model_mse['Linear'] = mean_squared_error(y_valid, y_pred)\n",
        "model_r2['Linear'] = r2_score(y_valid,y_pred)\n",
        "model_best_params['Linear'] = search.best_params_\n",
        "model_best_score['Linear'] = search.best_score_\n",
        "print('finish')\n"
      ],
      "metadata": {
        "colab": {
          "base_uri": "https://localhost:8080/"
        },
        "id": "79tgOAWF6uUZ",
        "outputId": "5504266d-d378-477f-9fe2-011ead599ab1"
      },
      "execution_count": 49,
      "outputs": [
        {
          "output_type": "stream",
          "name": "stdout",
          "text": [
            "finish\n",
            "CPU times: user 711 ms, sys: 422 ms, total: 1.13 s\n",
            "Wall time: 2.98 s\n"
          ]
        }
      ]
    },
    {
      "cell_type": "code",
      "source": [
        "print(model_r2)\n",
        "print(model_best_params)\n",
        "print(model_best_score)\n",
        "\n",
        "# estimator반환\n",
        "# search.best_estimator_"
      ],
      "metadata": {
        "colab": {
          "base_uri": "https://localhost:8080/"
        },
        "id": "PYo5NT5P8yR7",
        "outputId": "5863d636-06eb-4a56-8973-7735ce8afb26"
      },
      "execution_count": 50,
      "outputs": [
        {
          "output_type": "stream",
          "name": "stdout",
          "text": [
            "{'Linear': 0.622863334546101}\n",
            "{'Linear': {'fit__fit_intercept': True}}\n",
            "{'Linear': 0.6344479651227586}\n"
          ]
        }
      ]
    },
    {
      "cell_type": "code",
      "source": [
        "# Lasso\n",
        "\n",
        "# 20mins\n",
        "import numpy as np\n",
        "\n",
        "pipe_lasso = Pipeline([(\"preprocessor\", preprocessor),('fit', Lasso(random_state = 42))])\n",
        "grid_params_lasso = [{\"fit__tol\" : np.logspace(-5,0,10),\"fit__alpha\" : np.logspace(-5,1,10)}]\n",
        "\n",
        "search = GridSearchCV(pipe_lasso, grid_params_lasso, scoring = 'r2', cv = cv, n_jobs = 2, verbose=-1)\n",
        "search.fit(X_train,y_train)\n",
        "y_pred = search.predict(X_test)\n",
        "model_r2['Lasso'] = r2_score(y_test,y_pred)\n",
        "model_best_params['Lasso'] = search.best_params_\n",
        "model_best_score['Lasso'] = search.best_score_\n",
        "print('finish')"
      ],
      "metadata": {
        "colab": {
          "base_uri": "https://localhost:8080/"
        },
        "id": "O9TFzgq3FSRX",
        "outputId": "26206b54-eb65-40b6-c8c9-0b071bff1ef9"
      },
      "execution_count": 51,
      "outputs": [
        {
          "output_type": "stream",
          "name": "stdout",
          "text": [
            "finish\n"
          ]
        },
        {
          "output_type": "stream",
          "name": "stderr",
          "text": [
            "/usr/local/lib/python3.7/dist-packages/sklearn/linear_model/_coordinate_descent.py:622: ConvergenceWarning: Objective did not converge. You might want to increase the number of iterations. Duality gap: 1251023264.9514105, tolerance: 75435.7353805693\n",
            "  positive,\n"
          ]
        }
      ]
    },
    {
      "cell_type": "code",
      "source": [
        "print(model_r2)\n",
        "print(model_best_params)\n",
        "print(model_best_score)"
      ],
      "metadata": {
        "colab": {
          "base_uri": "https://localhost:8080/"
        },
        "id": "gjI4p4vvGKmQ",
        "outputId": "8c90410f-2397-4977-e38a-2b7618d5818b"
      },
      "execution_count": 52,
      "outputs": [
        {
          "output_type": "stream",
          "name": "stdout",
          "text": [
            "{'Linear': 0.622863334546101, 'Lasso': 0.6446151813607051}\n",
            "{'Linear': {'fit__fit_intercept': True}, 'Lasso': {'fit__alpha': 1e-05, 'fit__tol': 1e-05}}\n",
            "{'Linear': 0.6344479651227586, 'Lasso': 0.6345250615062837}\n"
          ]
        }
      ]
    },
    {
      "cell_type": "code",
      "source": [
        "# Ridge\n",
        "\n",
        "pipe_ridge = Pipeline([(\"preprocessor\", preprocessor),('fit', Ridge(random_state = 42))])\n",
        "grid_params_ridge = [{\"fit__alpha\" : np.linspace(2,5,10) ,\"fit__solver\" : [ \"cholesky\",\"lsqr\",\"sparse_cg\"] ,\"fit__tol\" : np.logspace(-5,0,10) ,}]\n",
        "\n",
        "search = GridSearchCV(pipe_ridge, grid_params_ridge, scoring = 'r2', cv = cv, n_jobs = 2, verbose=-1)\n",
        "search.fit(X_train,y_train)\n",
        "y_pred = search.predict(X_test)\n",
        "model_r2['Ridge'] = r2_score(y_test,y_pred)\n",
        "model_best_params['Ridge'] = search.best_params_\n",
        "model_best_score['Ridge'] = search.best_score_\n",
        "print('finish')"
      ],
      "metadata": {
        "id": "zqvlXRr9gqP-"
      },
      "execution_count": null,
      "outputs": []
    },
    {
      "cell_type": "code",
      "source": [
        "print(model_r2)\n",
        "print(model_best_params)\n",
        "print(model_best_score)"
      ],
      "metadata": {
        "colab": {
          "base_uri": "https://localhost:8080/"
        },
        "id": "KLuhFmH_Z5aC",
        "outputId": "3feafacc-f7da-4e21-cbd7-ab906a4fc45b"
      },
      "execution_count": 62,
      "outputs": [
        {
          "output_type": "stream",
          "name": "stdout",
          "text": [
            "{'Linear': 0.622863334546101, 'Lasso': 0.6446151813607051, 'Ridge': 0.6443806748071939}\n",
            "{'Linear': {'fit__fit_intercept': True}, 'Lasso': {'fit__alpha': 1e-05, 'fit__tol': 1e-05}, 'Ridge': {'fit__alpha': 3.6666666666666665, 'fit__solver': 'sparse_cg', 'fit__tol': 0.0004641588833612782}}\n",
            "{'Linear': 0.6344479651227586, 'Lasso': 0.6345250615062837, 'Ridge': 0.6347369478818484}\n"
          ]
        }
      ]
    },
    {
      "cell_type": "code",
      "source": [
        "min_samples_split_range = [1,2,3,4,5,6,7,8,9,10]"
      ],
      "metadata": {
        "id": "Sn6smoWJwiRE"
      },
      "execution_count": 77,
      "outputs": []
    },
    {
      "cell_type": "code",
      "source": [
        "# GradientDescentRegressor\n",
        "# Runtime 1 Hour\n",
        "from sklearn.ensemble import GradientBoostingRegressor as GBR\n",
        "\n",
        "pipe_gbr = Pipeline([(\"preprocessor\", preprocessor),('fit', GBR())])\n",
        "grid_params_gbr = [{\"fit__max_features\" : [\"sqrt\",\"log2\"] ,\n",
        "    \"fit__loss\" : [\"ls\",\"lad\",\"huber\",\"quantile\"] , \n",
        "    \"fit__max_depth\" : [5,6,7,8] ,\n",
        "    \"fit__min_samples_split\" : min_samples_split_range ,}]\n",
        "\n",
        "search = GridSearchCV(pipe_gbr, grid_params_gbr, scoring = 'r2', cv = cv, n_jobs = 2, verbose=-1)\n",
        "search.fit(X_train,y_train)\n",
        "y_pred = search.predict(X_test)\n",
        "model_r2['GBR'] = r2_score(y_test,y_pred)\n",
        "model_best_params['GBR'] = search.best_params_\n",
        "model_best_score['GBR'] = search.best_score_\n",
        "print('finish')"
      ],
      "metadata": {
        "colab": {
          "base_uri": "https://localhost:8080/"
        },
        "id": "cbk8Qq3RwJ6L",
        "outputId": "ec969b0a-bca7-4a7f-ccd0-a2dbe0e07d40"
      },
      "execution_count": 78,
      "outputs": [
        {
          "output_type": "stream",
          "name": "stderr",
          "text": [
            "/usr/local/lib/python3.7/dist-packages/sklearn/model_selection/_validation.py:372: FitFailedWarning: \n",
            "160 fits failed out of a total of 1600.\n",
            "The score on these train-test partitions for these parameters will be set to nan.\n",
            "If these failures are not expected, you can try to debug them by setting error_score='raise'.\n",
            "\n",
            "Below are more details about the failures:\n",
            "--------------------------------------------------------------------------------\n",
            "160 fits failed with the following error:\n",
            "Traceback (most recent call last):\n",
            "  File \"/usr/local/lib/python3.7/dist-packages/sklearn/model_selection/_validation.py\", line 680, in _fit_and_score\n",
            "    estimator.fit(X_train, y_train, **fit_params)\n",
            "  File \"/usr/local/lib/python3.7/dist-packages/sklearn/pipeline.py\", line 394, in fit\n",
            "    self._final_estimator.fit(Xt, y, **fit_params_last_step)\n",
            "  File \"/usr/local/lib/python3.7/dist-packages/sklearn/ensemble/_gb.py\", line 596, in fit\n",
            "    monitor,\n",
            "  File \"/usr/local/lib/python3.7/dist-packages/sklearn/ensemble/_gb.py\", line 672, in _fit_stages\n",
            "    X_csr,\n",
            "  File \"/usr/local/lib/python3.7/dist-packages/sklearn/ensemble/_gb.py\", line 246, in _fit_stage\n",
            "    tree.fit(X, residual, sample_weight=sample_weight, check_input=False)\n",
            "  File \"/usr/local/lib/python3.7/dist-packages/sklearn/tree/_classes.py\", line 1320, in fit\n",
            "    X_idx_sorted=X_idx_sorted,\n",
            "  File \"/usr/local/lib/python3.7/dist-packages/sklearn/tree/_classes.py\", line 254, in fit\n",
            "    % self.min_samples_split\n",
            "ValueError: min_samples_split must be an integer greater than 1 or a float in (0.0, 1.0]; got the integer 1\n",
            "\n",
            "  warnings.warn(some_fits_failed_message, FitFailedWarning)\n",
            "/usr/local/lib/python3.7/dist-packages/sklearn/model_selection/_search.py:972: UserWarning: One or more of the test scores are non-finite: [       nan 0.70855693 0.72047801 0.71287563 0.70801123 0.71764344\n",
            " 0.72101822 0.71356722 0.71539103 0.71739525        nan 0.70751951\n",
            " 0.70782056 0.71073594 0.71137594 0.70893178 0.70711865 0.71599618\n",
            " 0.71372372 0.70952811        nan 0.7137508  0.72008835 0.71785289\n",
            " 0.71295554 0.72135929 0.71650211 0.72542963 0.71564482 0.72313344\n",
            "        nan 0.70725243 0.71854194 0.71117923 0.71801107 0.70869121\n",
            " 0.71738852 0.7121777  0.71742345 0.71475351        nan 0.71352384\n",
            " 0.71890062 0.71731186 0.71706554 0.72064578 0.71790549 0.72552469\n",
            " 0.72193268 0.72654422        nan 0.70003281 0.71001536 0.713131\n",
            " 0.71181402 0.71351046 0.7143267  0.71316645 0.71822983 0.71395452\n",
            "        nan 0.70902074 0.71024768 0.71100545 0.71972456 0.72021851\n",
            " 0.71392256 0.7165902  0.71734297 0.71901249        nan 0.7089297\n",
            " 0.7018603  0.70750336 0.71229482 0.72564753 0.70946291 0.71618331\n",
            " 0.71934418 0.71575726        nan 0.64656247 0.6487737  0.6407914\n",
            " 0.65869993 0.65035575 0.65460006 0.6522638  0.64578926 0.64521157\n",
            "        nan 0.63738189 0.63532621 0.64694201 0.64046662 0.63717022\n",
            " 0.63170469 0.63414545 0.64611927 0.63371638        nan 0.67420743\n",
            " 0.66946676 0.66861641 0.6710851  0.67950787 0.67509982 0.66520086\n",
            " 0.65836659 0.6548469         nan 0.64919695 0.65207917 0.67267011\n",
            " 0.65250541 0.65644247 0.66126163 0.64898286 0.6614456  0.64719751\n",
            "        nan 0.68540358 0.69116111 0.6813769  0.68736573 0.68302735\n",
            " 0.68966855 0.68323082 0.68169789 0.6773385         nan 0.6784412\n",
            " 0.66391099 0.67611713 0.6681844  0.6746365  0.67971598 0.67085328\n",
            " 0.68147007 0.67826316        nan 0.69230856 0.69238825 0.69226297\n",
            " 0.69004816 0.68446074 0.69176125 0.69072596 0.69590979 0.68705274\n",
            "        nan 0.68164619 0.67538563 0.67885407 0.67599016 0.67701008\n",
            " 0.68752939 0.69105071 0.6839053  0.68500545        nan 0.70425483\n",
            " 0.69420716 0.69620065 0.69819684 0.7003625  0.70579419 0.69149917\n",
            " 0.69941432 0.70170019        nan 0.68438007 0.68877577 0.68607106\n",
            " 0.68789414 0.6833161  0.68410824 0.68633707 0.69070416 0.6735668\n",
            "        nan 0.70515638 0.70445764 0.7125531  0.70938056 0.70602083\n",
            " 0.71172141 0.70458695 0.71214099 0.70690204        nan 0.69374842\n",
            " 0.69839297 0.6954882  0.69773942 0.69727546 0.7061209  0.70252604\n",
            " 0.70182443 0.69808736        nan 0.71406941 0.70527989 0.70683558\n",
            " 0.7072077  0.70851303 0.7138731  0.71308668 0.71675113 0.71706914\n",
            "        nan 0.71007956 0.70358067 0.7112382  0.71184956 0.70355447\n",
            " 0.7031794  0.70511893 0.70895644 0.7067805         nan 0.7106268\n",
            " 0.70725386 0.7112122  0.71736535 0.72041293 0.71167983 0.71502405\n",
            " 0.71210617 0.7217307         nan 0.69531937 0.6991882  0.70669951\n",
            " 0.70735048 0.70823671 0.70894867 0.70717288 0.71039493 0.70630987\n",
            "        nan 0.44359604 0.4282964  0.43396574 0.44072549 0.44617494\n",
            " 0.43993462 0.44228572 0.43140704 0.41483666        nan 0.42261137\n",
            " 0.43038262 0.42969326 0.43168333 0.42164376 0.40269372 0.43152934\n",
            " 0.4372993  0.42385383        nan 0.44938446 0.46010323 0.46421192\n",
            " 0.46166311 0.45328039 0.46998663 0.4539457  0.45976409 0.45492162\n",
            "        nan 0.45385603 0.43632028 0.45458809 0.44977567 0.43460961\n",
            " 0.42273141 0.44169183 0.43947423 0.43840591        nan 0.48230157\n",
            " 0.49184024 0.4817425  0.48850049 0.48177951 0.45079903 0.46371638\n",
            " 0.47191022 0.46048329        nan 0.46982292 0.45642625 0.45847786\n",
            " 0.45970198 0.45779252 0.45732103 0.45446584 0.45508114 0.45628395\n",
            "        nan 0.49462678 0.49311946 0.48907727 0.49165078 0.49098487\n",
            " 0.48009453 0.48427309 0.48277944 0.49210084        nan 0.47792393\n",
            " 0.46965096 0.47634088 0.4669221  0.48354899 0.46783785 0.46685818\n",
            " 0.46397705 0.4692593 ]\n",
            "  category=UserWarning,\n",
            "/usr/local/lib/python3.7/dist-packages/sklearn/ensemble/_gb.py:494: DataConversionWarning: A column-vector y was passed when a 1d array was expected. Please change the shape of y to (n_samples, ), for example using ravel().\n",
            "  y = column_or_1d(y, warn=True)\n",
            "/usr/local/lib/python3.7/dist-packages/sklearn/ensemble/_gb.py:290: FutureWarning: The loss 'ls' was deprecated in v1.0 and will be removed in version 1.2. Use 'squared_error' which is equivalent.\n",
            "  FutureWarning,\n"
          ]
        },
        {
          "output_type": "stream",
          "name": "stdout",
          "text": [
            "finish\n"
          ]
        }
      ]
    },
    {
      "cell_type": "code",
      "source": [
        "print(model_r2)\n",
        "print(model_best_params)\n",
        "print(model_best_score)"
      ],
      "metadata": {
        "colab": {
          "base_uri": "https://localhost:8080/"
        },
        "id": "lLytbvYpwrPc",
        "outputId": "d77cb407-3f69-41f3-d558-80ce35ec73d8"
      },
      "execution_count": 79,
      "outputs": [
        {
          "output_type": "stream",
          "name": "stdout",
          "text": [
            "{'Linear': 0.622863334546101, 'Lasso': 0.6446151813607051, 'Ridge': 0.6443806748071939, 'GBR': 0.7131935370788468, 'RFR': 0.3404416939964825}\n",
            "{'Linear': {'fit__fit_intercept': True}, 'Lasso': {'fit__alpha': 1e-05, 'fit__tol': 1e-05}, 'Ridge': {'fit__alpha': 3.6666666666666665, 'fit__solver': 'sparse_cg', 'fit__tol': 0.0004641588833612782}, 'GBR': {'fit__loss': 'ls', 'fit__max_depth': 7, 'fit__max_features': 'sqrt', 'fit__min_samples_split': 10}, 'RFR': {'fit__max_depth': 8, 'fit__max_features': 'sqrt', 'fit__min_samples_split': 0.5}}\n",
            "{'Linear': 0.6344479651227586, 'Lasso': 0.6345250615062837, 'Ridge': 0.6347369478818484, 'GBR': 0.7265442150990653, 'RFR': 0.30526671823900947}\n"
          ]
        }
      ]
    },
    {
      "cell_type": "code",
      "source": [
        "# RandomForestRegressor\n",
        "\n",
        "from sklearn.ensemble import RandomForestRegressor as RFR\n",
        "\n",
        "pipe_rfr = Pipeline([(\"preprocessor\", preprocessor),('fit', RFR())])\n",
        "grid_params_rfr = [{\"fit__max_features\" : [\"sqrt\",\"log2\"] , \n",
        "    \"fit__max_depth\" : [5,6,7,8] ,\n",
        "    \"fit__min_samples_split\" : min_samples_split_range ,}]\n",
        "\n",
        "search = GridSearchCV(pipe_rfr, grid_params_rfr, scoring = 'r2', cv = cv, n_jobs = 2, verbose=-1)\n",
        "search.fit(X_train,y_train)\n",
        "y_pred = search.predict(X_test)\n",
        "model_r2['RFR'] = r2_score(y_test,y_pred)\n",
        "model_best_params['RFR'] = search.best_params_\n",
        "model_best_score['RFR'] = search.best_score_\n",
        "print('finish')"
      ],
      "metadata": {
        "colab": {
          "base_uri": "https://localhost:8080/"
        },
        "id": "93tRjfSPyFsY",
        "outputId": "34e2d0c9-8e44-4ae1-d8a0-f688e639ddba"
      },
      "execution_count": 80,
      "outputs": [
        {
          "output_type": "stream",
          "name": "stderr",
          "text": [
            "/usr/local/lib/python3.7/dist-packages/sklearn/model_selection/_validation.py:372: FitFailedWarning: \n",
            "40 fits failed out of a total of 400.\n",
            "The score on these train-test partitions for these parameters will be set to nan.\n",
            "If these failures are not expected, you can try to debug them by setting error_score='raise'.\n",
            "\n",
            "Below are more details about the failures:\n",
            "--------------------------------------------------------------------------------\n",
            "40 fits failed with the following error:\n",
            "Traceback (most recent call last):\n",
            "  File \"/usr/local/lib/python3.7/dist-packages/sklearn/model_selection/_validation.py\", line 680, in _fit_and_score\n",
            "    estimator.fit(X_train, y_train, **fit_params)\n",
            "  File \"/usr/local/lib/python3.7/dist-packages/sklearn/pipeline.py\", line 394, in fit\n",
            "    self._final_estimator.fit(Xt, y, **fit_params_last_step)\n",
            "  File \"/usr/local/lib/python3.7/dist-packages/sklearn/ensemble/_forest.py\", line 467, in fit\n",
            "    for i, t in enumerate(trees)\n",
            "  File \"/usr/local/lib/python3.7/dist-packages/joblib/parallel.py\", line 1085, in __call__\n",
            "    if self.dispatch_one_batch(iterator):\n",
            "  File \"/usr/local/lib/python3.7/dist-packages/joblib/parallel.py\", line 901, in dispatch_one_batch\n",
            "    self._dispatch(tasks)\n",
            "  File \"/usr/local/lib/python3.7/dist-packages/joblib/parallel.py\", line 819, in _dispatch\n",
            "    job = self._backend.apply_async(batch, callback=cb)\n",
            "  File \"/usr/local/lib/python3.7/dist-packages/joblib/_parallel_backends.py\", line 208, in apply_async\n",
            "    result = ImmediateResult(func)\n",
            "  File \"/usr/local/lib/python3.7/dist-packages/joblib/_parallel_backends.py\", line 597, in __init__\n",
            "    self.results = batch()\n",
            "  File \"/usr/local/lib/python3.7/dist-packages/joblib/parallel.py\", line 289, in __call__\n",
            "    for func, args, kwargs in self.items]\n",
            "  File \"/usr/local/lib/python3.7/dist-packages/joblib/parallel.py\", line 289, in <listcomp>\n",
            "    for func, args, kwargs in self.items]\n",
            "  File \"/usr/local/lib/python3.7/dist-packages/sklearn/utils/fixes.py\", line 216, in __call__\n",
            "    return self.function(*args, **kwargs)\n",
            "  File \"/usr/local/lib/python3.7/dist-packages/sklearn/ensemble/_forest.py\", line 185, in _parallel_build_trees\n",
            "    tree.fit(X, y, sample_weight=curr_sample_weight, check_input=False)\n",
            "  File \"/usr/local/lib/python3.7/dist-packages/sklearn/tree/_classes.py\", line 1320, in fit\n",
            "    X_idx_sorted=X_idx_sorted,\n",
            "  File \"/usr/local/lib/python3.7/dist-packages/sklearn/tree/_classes.py\", line 254, in fit\n",
            "    % self.min_samples_split\n",
            "ValueError: min_samples_split must be an integer greater than 1 or a float in (0.0, 1.0]; got the integer 1\n",
            "\n",
            "  warnings.warn(some_fits_failed_message, FitFailedWarning)\n",
            "/usr/local/lib/python3.7/dist-packages/sklearn/model_selection/_search.py:972: UserWarning: One or more of the test scores are non-finite: [       nan 0.59396701 0.59099056 0.59089653 0.59906995 0.59273846\n",
            " 0.59129189 0.59255836 0.59069161 0.59176622        nan 0.53764444\n",
            " 0.53651052 0.5383588  0.52852544 0.5382639  0.54239631 0.54554919\n",
            " 0.53094782 0.53429542        nan 0.62111834 0.62331653 0.62750277\n",
            " 0.62722867 0.62135624 0.62571361 0.62119806 0.62086355 0.62195845\n",
            "        nan 0.57711552 0.56761401 0.57511939 0.58446259 0.57468434\n",
            " 0.58190706 0.58485223 0.57741941 0.57400674        nan 0.64725191\n",
            " 0.64475702 0.64748842 0.64607228 0.64515944 0.64169121 0.64915507\n",
            " 0.6404698  0.63740151        nan 0.60973751 0.60463227 0.61391756\n",
            " 0.60723475 0.60774771 0.60500768 0.60464136 0.60811199 0.60321742\n",
            "        nan 0.66580414 0.66331481 0.65913842 0.66194682 0.65806823\n",
            " 0.65862261 0.65152101 0.65989271 0.65771593        nan 0.62945911\n",
            " 0.62785388 0.6266596  0.63288779 0.63005932 0.62753371 0.6314975\n",
            " 0.62141305 0.6263569 ]\n",
            "  category=UserWarning,\n",
            "/usr/local/lib/python3.7/dist-packages/sklearn/pipeline.py:394: DataConversionWarning: A column-vector y was passed when a 1d array was expected. Please change the shape of y to (n_samples,), for example using ravel().\n",
            "  self._final_estimator.fit(Xt, y, **fit_params_last_step)\n"
          ]
        },
        {
          "output_type": "stream",
          "name": "stdout",
          "text": [
            "finish\n"
          ]
        }
      ]
    },
    {
      "cell_type": "code",
      "source": [
        "print(model_r2)\n",
        "print(model_best_params)\n",
        "print(model_best_score)"
      ],
      "metadata": {
        "colab": {
          "base_uri": "https://localhost:8080/"
        },
        "id": "4o7UF3fBysvz",
        "outputId": "37278130-6097-498a-c305-ed0d8ee3d90e"
      },
      "execution_count": 81,
      "outputs": [
        {
          "output_type": "stream",
          "name": "stdout",
          "text": [
            "{'Linear': 0.622863334546101, 'Lasso': 0.6446151813607051, 'Ridge': 0.6443806748071939, 'GBR': 0.7131935370788468, 'RFR': 0.6676921525048243}\n",
            "{'Linear': {'fit__fit_intercept': True}, 'Lasso': {'fit__alpha': 1e-05, 'fit__tol': 1e-05}, 'Ridge': {'fit__alpha': 3.6666666666666665, 'fit__solver': 'sparse_cg', 'fit__tol': 0.0004641588833612782}, 'GBR': {'fit__loss': 'ls', 'fit__max_depth': 7, 'fit__max_features': 'sqrt', 'fit__min_samples_split': 10}, 'RFR': {'fit__max_depth': 8, 'fit__max_features': 'sqrt', 'fit__min_samples_split': 2}}\n",
            "{'Linear': 0.6344479651227586, 'Lasso': 0.6345250615062837, 'Ridge': 0.6347369478818484, 'GBR': 0.7265442150990653, 'RFR': 0.6658041384379754}\n"
          ]
        }
      ]
    },
    {
      "cell_type": "code",
      "source": [
        "# SupportVectorRegression\n",
        "# Runtime : 1hr 37 mins\n",
        "\n",
        "from sklearn.svm import SVR\n",
        "\n",
        "pipe_svr = Pipeline([(\"preprocessor\", preprocessor),('fit', SVR())])\n",
        "grid_params_svr = [{\"fit__kernel\" : [\"rbf\", \"linear\"],\n",
        "\"fit__degree\" : [2, 3, 5], \n",
        "    \"fit__gamma\" : np.logspace(-5,1,10)}]\n",
        "\n",
        "search = GridSearchCV(pipe_svr, grid_params_svr, scoring = 'r2', cv = cv, n_jobs = 2, verbose=-1)\n",
        "search.fit(X_train,y_train)\n",
        "y_pred = search.predict(X_test)\n",
        "model_r2['SVR'] = r2_score(y_test,y_pred)\n",
        "model_best_params['SVR'] = search.best_params_\n",
        "model_best_score['SVR'] = search.best_score_\n",
        "print('finish')"
      ],
      "metadata": {
        "colab": {
          "base_uri": "https://localhost:8080/"
        },
        "id": "F1-KCJli0EHP",
        "outputId": "ab510bae-9f4e-466e-b05a-1d0a346f4804"
      },
      "execution_count": 83,
      "outputs": [
        {
          "output_type": "stream",
          "name": "stderr",
          "text": [
            "/usr/local/lib/python3.7/dist-packages/sklearn/utils/validation.py:993: DataConversionWarning: A column-vector y was passed when a 1d array was expected. Please change the shape of y to (n_samples, ), for example using ravel().\n",
            "  y = column_or_1d(y, warn=True)\n"
          ]
        },
        {
          "output_type": "stream",
          "name": "stdout",
          "text": [
            "finish\n"
          ]
        }
      ]
    },
    {
      "cell_type": "code",
      "source": [
        "print(model_r2)\n",
        "print(model_best_params)\n",
        "print(model_best_score)"
      ],
      "metadata": {
        "colab": {
          "base_uri": "https://localhost:8080/"
        },
        "id": "b0MuBup4FJ6D",
        "outputId": "41ceea7a-75bf-4da7-c7cb-2c9ca81f5778"
      },
      "execution_count": 84,
      "outputs": [
        {
          "output_type": "stream",
          "name": "stdout",
          "text": [
            "{'Linear': 0.622863334546101, 'Lasso': 0.6446151813607051, 'Ridge': 0.6443806748071939, 'GBR': 0.7131935370788468, 'RFR': 0.6676921525048243, 'SVR': 0.614366022910805}\n",
            "{'Linear': {'fit__fit_intercept': True}, 'Lasso': {'fit__alpha': 1e-05, 'fit__tol': 1e-05}, 'Ridge': {'fit__alpha': 3.6666666666666665, 'fit__solver': 'sparse_cg', 'fit__tol': 0.0004641588833612782}, 'GBR': {'fit__loss': 'ls', 'fit__max_depth': 7, 'fit__max_features': 'sqrt', 'fit__min_samples_split': 10}, 'RFR': {'fit__max_depth': 8, 'fit__max_features': 'sqrt', 'fit__min_samples_split': 2}, 'SVR': {'fit__degree': 2, 'fit__gamma': 1e-05, 'fit__kernel': 'linear'}}\n",
            "{'Linear': 0.6344479651227586, 'Lasso': 0.6345250615062837, 'Ridge': 0.6347369478818484, 'GBR': 0.7265442150990653, 'RFR': 0.6658041384379754, 'SVR': 0.5949185646556356}\n"
          ]
        }
      ]
    },
    {
      "cell_type": "code",
      "source": [
        "# Kernel Ridge Regression\n",
        "\n",
        "from sklearn.kernel_ridge import KernelRidge\n",
        "\n",
        "pipe_KR = Pipeline([(\"preprocessor\", preprocessor),('fit', KernelRidge())])\n",
        "grid_params_KR = [{\"fit__kernel\" : [\"rbf\",\"linear\"] , \n",
        "    \"fit__gamma\" : np.logspace(-5,1,10) ,}]\n",
        "\n",
        "search = GridSearchCV(pipe_KR, grid_params_KR, scoring = 'r2', cv = cv, n_jobs = 2, verbose=-1)\n",
        "search.fit(X_train,y_train)\n",
        "y_pred = search.predict(X_test)\n",
        "model_r2['KR'] = r2_score(y_test,y_pred)\n",
        "model_best_params['KR'] = search.best_params_\n",
        "model_best_score['KR'] = search.best_score_\n",
        "print('finish')"
      ],
      "metadata": {
        "colab": {
          "base_uri": "https://localhost:8080/"
        },
        "id": "d8nyKdCPbofi",
        "outputId": "7b0b3893-4bca-490c-8ddb-f4d834a266ff"
      },
      "execution_count": null,
      "outputs": [
        {
          "output_type": "stream",
          "name": "stderr",
          "text": [
            "/usr/local/lib/python3.7/dist-packages/joblib/externals/loky/process_executor.py:703: UserWarning: A worker stopped while some jobs were given to the executor. This can be caused by a too short worker timeout or by a memory leak.\n",
            "  \"timeout or by a memory leak.\", UserWarning\n"
          ]
        }
      ]
    },
    {
      "cell_type": "code",
      "source": [
        "print(model_r2)\n",
        "print(model_best_params)\n",
        "print(model_best_score)"
      ],
      "metadata": {
        "id": "Wjtc-G13cDGx"
      },
      "execution_count": null,
      "outputs": []
    }
  ]
}