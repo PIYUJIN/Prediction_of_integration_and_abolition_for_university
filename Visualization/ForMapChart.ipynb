{
  "nbformat": 4,
  "nbformat_minor": 0,
  "metadata": {
    "colab": {
      "provenance": []
    },
    "kernelspec": {
      "name": "python3",
      "display_name": "Python 3"
    },
    "language_info": {
      "name": "python"
    }
  },
  "cells": [
    {
      "cell_type": "code",
      "execution_count": 1,
      "metadata": {
        "id": "864GEnbCJeCf"
      },
      "outputs": [],
      "source": [
        "import os\n",
        "import numpy as np\n",
        "import pandas as pd\n",
        "import matplotlib.pyplot as plt\n",
        "import csv"
      ]
    },
    {
      "cell_type": "code",
      "source": [
        "main = pd.read_excel( '/content/sample_data/Final_prediction.xlsx', engine='openpyxl')"
      ],
      "metadata": {
        "id": "vZkLuNNVKPNO"
      },
      "execution_count": 2,
      "outputs": []
    },
    {
      "cell_type": "code",
      "source": [
        "main.columns"
      ],
      "metadata": {
        "colab": {
          "base_uri": "https://localhost:8080/"
        },
        "id": "JgEsSVpSLgAy",
        "outputId": "d97c3e3d-0c10-4bb2-931c-94528b2e6251"
      },
      "execution_count": 3,
      "outputs": [
        {
          "output_type": "execute_result",
          "data": {
            "text/plain": [
              "Index(['연도', '시도', '대계열', '중계열', '모집인원_학부_계', '지원자_전체_계', 'Gov_Spnsorship',\n",
              "       'awareness', '학교_학과명', 'Total_fertility_rate', 'Net_Mover',\n",
              "       'immigration', 'schoolage', 'competition_rate'],\n",
              "      dtype='object')"
            ]
          },
          "metadata": {},
          "execution_count": 3
        }
      ]
    },
    {
      "cell_type": "code",
      "source": [
        "main['latitude'] = 0\n",
        "main['longitude'] = 0"
      ],
      "metadata": {
        "id": "Rh3RZiKOLkMv"
      },
      "execution_count": 4,
      "outputs": []
    },
    {
      "cell_type": "code",
      "source": [
        "main.columns"
      ],
      "metadata": {
        "colab": {
          "base_uri": "https://localhost:8080/"
        },
        "id": "UmI0YcCMMB82",
        "outputId": "fa9e41a2-2240-4459-8564-ed0914a01b92"
      },
      "execution_count": 5,
      "outputs": [
        {
          "output_type": "execute_result",
          "data": {
            "text/plain": [
              "Index(['연도', '시도', '대계열', '중계열', '모집인원_학부_계', '지원자_전체_계', 'Gov_Spnsorship',\n",
              "       'awareness', '학교_학과명', 'Total_fertility_rate', 'Net_Mover',\n",
              "       'immigration', 'schoolage', 'competition_rate', 'latitude',\n",
              "       'longitude'],\n",
              "      dtype='object')"
            ]
          },
          "metadata": {},
          "execution_count": 5
        }
      ]
    },
    {
      "cell_type": "code",
      "source": [
        "for i in range(len(main)):\n",
        "    if(main.iat[i,1] == '서울'):\n",
        "        main.iat[i,14] = 37.540705\n",
        "        main.iat[i,15] = 126.956764\n",
        "    if(main.iat[i,1] == '인천'):\n",
        "        main.iat[i,14] = 37.469221\n",
        "        main.iat[i,15] = 126.573234\n",
        "    if(main.iat[i,1] == '광주'):\n",
        "        main.iat[i,14] = 35.126033\n",
        "        main.iat[i,15] = 126.831302\n",
        "    if(main.iat[i,1] == '대구'):\n",
        "        main.iat[i,14] = 35.798838\n",
        "        main.iat[i,15] = 128.583052\n",
        "    if(main.iat[i,1] == '울산'):\n",
        "        main.iat[i,14] = 35.519301\n",
        "        main.iat[i,15] = 129.239078\n",
        "    if(main.iat[i,1] == '대전'):\n",
        "        main.iat[i,14] = 36.321655\n",
        "        main.iat[i,15] = 127.378953\n",
        "    if(main.iat[i,1] == '부산'):\n",
        "        main.iat[i,14] = 35.198362\n",
        "        main.iat[i,15] = 129.053922\n",
        "    if(main.iat[i,1] == '경기'):\n",
        "        main.iat[i,14] = 37.567167\n",
        "        main.iat[i,15] = 127.190292\n",
        "    if(main.iat[i,1] == '강원'):\n",
        "        main.iat[i,14] = 37.555837\n",
        "        main.iat[i,15] = 128.209315\n",
        "    if(main.iat[i,1] == '충남'):\n",
        "        main.iat[i,14] = 36.557229\n",
        "        main.iat[i,15] = 126.779757\n",
        "    if(main.iat[i,1] == '충북'):\n",
        "        main.iat[i,14] = 36.628503\n",
        "        main.iat[i,15] = 127.929344\n",
        "    if(main.iat[i,1] == '경북'):\n",
        "        main.iat[i,14] = 36.248647\n",
        "        main.iat[i,15] = 128.664734\n",
        "    if(main.iat[i,1] == '경남'):\n",
        "        main.iat[i,14] = 35.259787\n",
        "        main.iat[i,15] = 128.664734\n",
        "    if(main.iat[i,1] == '전북'):\n",
        "        main.iat[i,14] = 35.716705\n",
        "        main.iat[i,15] = 127.144185\n",
        "    if(main.iat[i,1] == '전남'):\n",
        "        main.iat[i,14] = 34.819400\n",
        "        main.iat[i,15] = 126.893113\n",
        "    if(main.iat[i,1] == '제주'):\n",
        "        main.iat[i,14] = 33.364805\n",
        "        main.iat[i,15] = 126.542671\n",
        "    if(main.iat[i,1] == '세종'):\n",
        "        main.iat[i,14] = 36.5040736\n",
        "        main.iat[i,15] = 127.2494855\n",
        "    "
      ],
      "metadata": {
        "id": "qqhj8C2RNbfj"
      },
      "execution_count": 6,
      "outputs": []
    },
    {
      "cell_type": "code",
      "source": [
        "main['latitude'].unique()"
      ],
      "metadata": {
        "colab": {
          "base_uri": "https://localhost:8080/"
        },
        "id": "Rw9kfC8_Tuz-",
        "outputId": "7c15d026-dfc7-42a1-f2a6-39be810b0c6e"
      },
      "execution_count": null,
      "outputs": [
        {
          "output_type": "execute_result",
          "data": {
            "text/plain": [
              "array([37.555837 , 35.798838 , 36.557229 , 35.716705 , 36.248647 ,\n",
              "       34.8194   , 35.198362 , 37.540705 , 35.126033 , 33.364805 ,\n",
              "       35.259787 , 36.321655 , 36.628503 , 37.567167 , 37.469221 ,\n",
              "       36.5040736, 35.519301 ])"
            ]
          },
          "metadata": {},
          "execution_count": 36
        }
      ]
    },
    {
      "cell_type": "code",
      "source": [
        "main['quantile'] = 0"
      ],
      "metadata": {
        "id": "0QOEyClI4nhK"
      },
      "execution_count": 12,
      "outputs": []
    },
    {
      "cell_type": "code",
      "source": [
        "print(main['competition_rate'].quantile(q=0.20), main['competition_rate'].quantile(q=0.40), main['competition_rate'].quantile(q=0.60), main['competition_rate'].quantile(q=0.80), main['competition_rate'].quantile(q=1))\n"
      ],
      "metadata": {
        "colab": {
          "base_uri": "https://localhost:8080/"
        },
        "id": "WQMykBV73yE4",
        "outputId": "5a33ebb7-5577-4f4f-e7fd-fcefee609866"
      },
      "execution_count": 11,
      "outputs": [
        {
          "output_type": "stream",
          "name": "stdout",
          "text": [
            "4.75 5.653641025641026 6.682926829268292 8.375 172.0\n"
          ]
        }
      ]
    },
    {
      "cell_type": "code",
      "source": [
        "for i in range(len(main)):\n",
        "    if(main.iat[i,13] < 4.75):\n",
        "        main.iat[i,16] = 1\n",
        "    if(main.iat[i,13] >= 4.75 and main.iat[i,13] < 5.653641025641026):\n",
        "        main.iat[i,16] = 2\n",
        "    if(main.iat[i,13] >= 5.653641025641026 and main.iat[i,13] < 6.682926829268292):\n",
        "        main.iat[i,16] = 3\n",
        "    if(main.iat[i,13] >= 6.682926829268292 and main.iat[i,13] < 8.375):\n",
        "        main.iat[i,16] = 4\n",
        "    if(main.iat[i,13] >= 8.375):\n",
        "        main.iat[i,16] = 5\n"
      ],
      "metadata": {
        "id": "r73p2MTr4gL_"
      },
      "execution_count": 13,
      "outputs": []
    },
    {
      "cell_type": "code",
      "source": [
        "main['quantile'].unique()"
      ],
      "metadata": {
        "colab": {
          "base_uri": "https://localhost:8080/"
        },
        "id": "DWxbU8TB5cws",
        "outputId": "1532cdfc-5c67-4cd3-d6ab-f8bf8e175c35"
      },
      "execution_count": 14,
      "outputs": [
        {
          "output_type": "execute_result",
          "data": {
            "text/plain": [
              "array([2, 1, 5, 3, 4])"
            ]
          },
          "metadata": {},
          "execution_count": 14
        }
      ]
    },
    {
      "cell_type": "code",
      "source": [
        "main.to_excel('Final_prediction_latitude_longitude_quantile.xlsx', index = False)"
      ],
      "metadata": {
        "id": "jacOPxC7XGWF"
      },
      "execution_count": 15,
      "outputs": []
    }
  ]
}